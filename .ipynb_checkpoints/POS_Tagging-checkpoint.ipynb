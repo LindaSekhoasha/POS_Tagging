{
 "cells": [
  {
   "cell_type": "markdown",
   "id": "92202f45-4a9f-42d9-bc52-91d6ffc63fee",
   "metadata": {},
   "source": [
    "# Imports"
   ]
  },
  {
   "cell_type": "code",
   "execution_count": 43,
   "id": "e87a1d77-52bc-41b1-885d-f4e37f876990",
   "metadata": {},
   "outputs": [],
   "source": [
    "import pandas as pd\n",
    "from datasets import Dataset"
   ]
  },
  {
   "cell_type": "markdown",
   "id": "b952b0b0-f171-481e-934a-2dfe6153d15f",
   "metadata": {},
   "source": [
    "# Data Pre-processing"
   ]
  },
  {
   "cell_type": "code",
   "execution_count": 44,
   "id": "c7e8c0f7-9c6c-47e8-8592-6d5f6a08d8cc",
   "metadata": {},
   "outputs": [
    {
     "data": {
      "text/html": [
       "<div>\n",
       "<style scoped>\n",
       "    .dataframe tbody tr th:only-of-type {\n",
       "        vertical-align: middle;\n",
       "    }\n",
       "\n",
       "    .dataframe tbody tr th {\n",
       "        vertical-align: top;\n",
       "    }\n",
       "\n",
       "    .dataframe thead th {\n",
       "        text-align: right;\n",
       "    }\n",
       "</style>\n",
       "<table border=\"1\" class=\"dataframe\">\n",
       "  <thead>\n",
       "    <tr style=\"text-align: right;\">\n",
       "      <th></th>\n",
       "      <th>TOKEN</th>\n",
       "      <th>MORPH ANALYSIS</th>\n",
       "      <th>UPOS</th>\n",
       "    </tr>\n",
       "  </thead>\n",
       "  <tbody>\n",
       "    <tr>\n",
       "      <th>0</th>\n",
       "      <td>Ukwengeza</td>\n",
       "      <td>u-kw-engez-a</td>\n",
       "      <td>V</td>\n",
       "    </tr>\n",
       "    <tr>\n",
       "      <th>1</th>\n",
       "      <td>kulokhu</td>\n",
       "      <td>ku-lokhu</td>\n",
       "      <td>CDEM</td>\n",
       "    </tr>\n",
       "    <tr>\n",
       "      <th>2</th>\n",
       "      <td>,</td>\n",
       "      <td>,</td>\n",
       "      <td>PUNC</td>\n",
       "    </tr>\n",
       "  </tbody>\n",
       "</table>\n",
       "</div>"
      ],
      "text/plain": [
       "       TOKEN MORPH ANALYSIS  UPOS\n",
       "0  Ukwengeza   u-kw-engez-a     V\n",
       "1    kulokhu       ku-lokhu  CDEM\n",
       "2          ,              ,  PUNC"
      ]
     },
     "execution_count": 44,
     "metadata": {},
     "output_type": "execute_result"
    }
   ],
   "source": [
    "df = pd.read_csv(r\"zu.gold.seg.data\", delimiter='\\t')\n",
    "df.head(3)"
   ]
  },
  {
   "cell_type": "code",
   "execution_count": 45,
   "id": "0f16a958-cea8-421b-8e86-ae3408beb76b",
   "metadata": {},
   "outputs": [
    {
     "data": {
      "text/html": [
       "<div>\n",
       "<style scoped>\n",
       "    .dataframe tbody tr th:only-of-type {\n",
       "        vertical-align: middle;\n",
       "    }\n",
       "\n",
       "    .dataframe tbody tr th {\n",
       "        vertical-align: top;\n",
       "    }\n",
       "\n",
       "    .dataframe thead th {\n",
       "        text-align: right;\n",
       "    }\n",
       "</style>\n",
       "<table border=\"1\" class=\"dataframe\">\n",
       "  <thead>\n",
       "    <tr style=\"text-align: right;\">\n",
       "      <th></th>\n",
       "      <th>TOKEN</th>\n",
       "      <th>UPOS</th>\n",
       "    </tr>\n",
       "  </thead>\n",
       "  <tbody>\n",
       "    <tr>\n",
       "      <th>0</th>\n",
       "      <td>Ukwengeza</td>\n",
       "      <td>V</td>\n",
       "    </tr>\n",
       "    <tr>\n",
       "      <th>1</th>\n",
       "      <td>kulokhu</td>\n",
       "      <td>CDEM</td>\n",
       "    </tr>\n",
       "    <tr>\n",
       "      <th>2</th>\n",
       "      <td>,</td>\n",
       "      <td>PUNC</td>\n",
       "    </tr>\n",
       "  </tbody>\n",
       "</table>\n",
       "</div>"
      ],
      "text/plain": [
       "       TOKEN  UPOS\n",
       "0  Ukwengeza     V\n",
       "1    kulokhu  CDEM\n",
       "2          ,  PUNC"
      ]
     },
     "execution_count": 45,
     "metadata": {},
     "output_type": "execute_result"
    }
   ],
   "source": [
    "# drop/remove the MORPH ANALYSIS column\n",
    "df = df.drop(columns=['MORPH ANALYSIS'])\n",
    "df.head(3)"
   ]
  },
  {
   "cell_type": "code",
   "execution_count": 46,
   "id": "790eb4b3-5999-4490-96d2-f56d5e7905aa",
   "metadata": {},
   "outputs": [
    {
     "name": "stdout",
     "output_type": "stream",
     "text": [
      "{'TOKEN': Value(dtype='string', id=None), 'UPOS': Value(dtype='string', id=None)}\n"
     ]
    }
   ],
   "source": [
    "# convert panda dataframe to HuggingFace dataset\n",
    "dataset = Dataset.from_pandas(df)\n",
    "print(dataset.features)"
   ]
  },
  {
   "cell_type": "code",
   "execution_count": 59,
   "id": "02b71c6f-79c1-4cf8-b6c8-1f14f77530b0",
   "metadata": {},
   "outputs": [
    {
     "name": "stdout",
     "output_type": "stream",
     "text": [
      "There are 39277 tokens in the training set.\n",
      "There are 9820 tokens in the testing set.\n",
      "\n",
      "First 3 training tokens:\n",
      "{'TOKEN': ['isebenze', 'ezinhle', 'ukuhambisa'], 'UPOS': ['V', 'ADJ', 'V']}\n",
      "\n",
      "First 3 test tokens:\n",
      "{'TOKEN': ['Izinsizakusebenza', 'lokuthi', 'balungisele'], 'UPOS': ['N', 'POSS', 'POSS']}\n"
     ]
    }
   ],
   "source": [
    "data = dataset.train_test_split(test_size=0.2)\n",
    "\n",
    "print(f\"There are {len(data['train'])} tokens in the training set.\")\n",
    "print(f\"There are {len(data['test'])} tokens in the testing set.\\n\")\n",
    "\n",
    "print(f\"First 3 training tokens:\\n{data['train'][:3]}\\n\")\n",
    "print(f\"First 3 test tokens:\\n{data['test'][:3]}\")"
   ]
  },
  {
   "cell_type": "code",
   "execution_count": null,
   "id": "a6214fb3-8fdd-4168-bbc9-d45e880bef60",
   "metadata": {},
   "outputs": [],
   "source": []
  }
 ],
 "metadata": {
  "kernelspec": {
   "display_name": "Python 3 (ipykernel)",
   "language": "python",
   "name": "python3"
  },
  "language_info": {
   "codemirror_mode": {
    "name": "ipython",
    "version": 3
   },
   "file_extension": ".py",
   "mimetype": "text/x-python",
   "name": "python",
   "nbconvert_exporter": "python",
   "pygments_lexer": "ipython3",
   "version": "3.13.0"
  }
 },
 "nbformat": 4,
 "nbformat_minor": 5
}
