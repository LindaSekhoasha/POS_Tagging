{
  "cells": [
    {
      "cell_type": "markdown",
      "metadata": {
        "id": "view-in-github",
        "colab_type": "text"
      },
      "source": [
        "<a href=\"https://colab.research.google.com/github/LindaSekhoasha/POS_Tagging/blob/main/POS_Tagging_FINAL_V2.ipynb\" target=\"_parent\"><img src=\"https://colab.research.google.com/assets/colab-badge.svg\" alt=\"Open In Colab\"/></a>"
      ]
    },
    {
      "cell_type": "markdown",
      "source": [
        "# Meet Our Group"
      ],
      "metadata": {
        "id": "DliWpRafgO8w"
      },
      "id": "DliWpRafgO8w"
    },
    {
      "cell_type": "markdown",
      "source": [
        "\n",
        "\n",
        "*   Linda Sekhoasha (222004139)\n",
        "*   Wandile Ngobese (222056013)\n",
        "*   Khonzinkosi Mkhize (219005273)\n",
        "*   Samukelo Mkhize (220009930)"
      ],
      "metadata": {
        "id": "tciSCC2xgXjV"
      },
      "id": "tciSCC2xgXjV"
    },
    {
      "cell_type": "markdown",
      "id": "92202f45-4a9f-42d9-bc52-91d6ffc63fee",
      "metadata": {
        "id": "92202f45-4a9f-42d9-bc52-91d6ffc63fee"
      },
      "source": [
        "# Imports"
      ]
    },
    {
      "cell_type": "code",
      "source": [
        "!pip install datasets\n",
        "!pip install sklearn-crfsuite"
      ],
      "metadata": {
        "id": "xuRrN4CxZ2Sc",
        "colab": {
          "base_uri": "https://localhost:8080/"
        },
        "outputId": "42ce0228-88a2-4899-a01e-8199bcff333c"
      },
      "id": "xuRrN4CxZ2Sc",
      "execution_count": 1,
      "outputs": [
        {
          "output_type": "stream",
          "name": "stdout",
          "text": [
            "Requirement already satisfied: datasets in /usr/local/lib/python3.11/dist-packages (3.5.0)\n",
            "Requirement already satisfied: filelock in /usr/local/lib/python3.11/dist-packages (from datasets) (3.18.0)\n",
            "Requirement already satisfied: numpy>=1.17 in /usr/local/lib/python3.11/dist-packages (from datasets) (2.0.2)\n",
            "Requirement already satisfied: pyarrow>=15.0.0 in /usr/local/lib/python3.11/dist-packages (from datasets) (18.1.0)\n",
            "Requirement already satisfied: dill<0.3.9,>=0.3.0 in /usr/local/lib/python3.11/dist-packages (from datasets) (0.3.8)\n",
            "Requirement already satisfied: pandas in /usr/local/lib/python3.11/dist-packages (from datasets) (2.2.2)\n",
            "Requirement already satisfied: requests>=2.32.2 in /usr/local/lib/python3.11/dist-packages (from datasets) (2.32.3)\n",
            "Requirement already satisfied: tqdm>=4.66.3 in /usr/local/lib/python3.11/dist-packages (from datasets) (4.67.1)\n",
            "Requirement already satisfied: xxhash in /usr/local/lib/python3.11/dist-packages (from datasets) (3.5.0)\n",
            "Requirement already satisfied: multiprocess<0.70.17 in /usr/local/lib/python3.11/dist-packages (from datasets) (0.70.16)\n",
            "Requirement already satisfied: fsspec<=2024.12.0,>=2023.1.0 in /usr/local/lib/python3.11/dist-packages (from fsspec[http]<=2024.12.0,>=2023.1.0->datasets) (2024.12.0)\n",
            "Requirement already satisfied: aiohttp in /usr/local/lib/python3.11/dist-packages (from datasets) (3.11.15)\n",
            "Requirement already satisfied: huggingface-hub>=0.24.0 in /usr/local/lib/python3.11/dist-packages (from datasets) (0.30.1)\n",
            "Requirement already satisfied: packaging in /usr/local/lib/python3.11/dist-packages (from datasets) (24.2)\n",
            "Requirement already satisfied: pyyaml>=5.1 in /usr/local/lib/python3.11/dist-packages (from datasets) (6.0.2)\n",
            "Requirement already satisfied: aiohappyeyeballs>=2.3.0 in /usr/local/lib/python3.11/dist-packages (from aiohttp->datasets) (2.6.1)\n",
            "Requirement already satisfied: aiosignal>=1.1.2 in /usr/local/lib/python3.11/dist-packages (from aiohttp->datasets) (1.3.2)\n",
            "Requirement already satisfied: attrs>=17.3.0 in /usr/local/lib/python3.11/dist-packages (from aiohttp->datasets) (25.3.0)\n",
            "Requirement already satisfied: frozenlist>=1.1.1 in /usr/local/lib/python3.11/dist-packages (from aiohttp->datasets) (1.5.0)\n",
            "Requirement already satisfied: multidict<7.0,>=4.5 in /usr/local/lib/python3.11/dist-packages (from aiohttp->datasets) (6.3.2)\n",
            "Requirement already satisfied: propcache>=0.2.0 in /usr/local/lib/python3.11/dist-packages (from aiohttp->datasets) (0.3.1)\n",
            "Requirement already satisfied: yarl<2.0,>=1.17.0 in /usr/local/lib/python3.11/dist-packages (from aiohttp->datasets) (1.18.3)\n",
            "Requirement already satisfied: typing-extensions>=3.7.4.3 in /usr/local/lib/python3.11/dist-packages (from huggingface-hub>=0.24.0->datasets) (4.13.1)\n",
            "Requirement already satisfied: charset-normalizer<4,>=2 in /usr/local/lib/python3.11/dist-packages (from requests>=2.32.2->datasets) (3.4.1)\n",
            "Requirement already satisfied: idna<4,>=2.5 in /usr/local/lib/python3.11/dist-packages (from requests>=2.32.2->datasets) (3.10)\n",
            "Requirement already satisfied: urllib3<3,>=1.21.1 in /usr/local/lib/python3.11/dist-packages (from requests>=2.32.2->datasets) (2.3.0)\n",
            "Requirement already satisfied: certifi>=2017.4.17 in /usr/local/lib/python3.11/dist-packages (from requests>=2.32.2->datasets) (2025.1.31)\n",
            "Requirement already satisfied: python-dateutil>=2.8.2 in /usr/local/lib/python3.11/dist-packages (from pandas->datasets) (2.8.2)\n",
            "Requirement already satisfied: pytz>=2020.1 in /usr/local/lib/python3.11/dist-packages (from pandas->datasets) (2025.2)\n",
            "Requirement already satisfied: tzdata>=2022.7 in /usr/local/lib/python3.11/dist-packages (from pandas->datasets) (2025.2)\n",
            "Requirement already satisfied: six>=1.5 in /usr/local/lib/python3.11/dist-packages (from python-dateutil>=2.8.2->pandas->datasets) (1.17.0)\n",
            "Requirement already satisfied: sklearn-crfsuite in /usr/local/lib/python3.11/dist-packages (0.5.0)\n",
            "Requirement already satisfied: python-crfsuite>=0.9.7 in /usr/local/lib/python3.11/dist-packages (from sklearn-crfsuite) (0.9.11)\n",
            "Requirement already satisfied: scikit-learn>=0.24.0 in /usr/local/lib/python3.11/dist-packages (from sklearn-crfsuite) (1.6.1)\n",
            "Requirement already satisfied: tabulate>=0.4.2 in /usr/local/lib/python3.11/dist-packages (from sklearn-crfsuite) (0.9.0)\n",
            "Requirement already satisfied: tqdm>=2.0 in /usr/local/lib/python3.11/dist-packages (from sklearn-crfsuite) (4.67.1)\n",
            "Requirement already satisfied: numpy>=1.19.5 in /usr/local/lib/python3.11/dist-packages (from scikit-learn>=0.24.0->sklearn-crfsuite) (2.0.2)\n",
            "Requirement already satisfied: scipy>=1.6.0 in /usr/local/lib/python3.11/dist-packages (from scikit-learn>=0.24.0->sklearn-crfsuite) (1.14.1)\n",
            "Requirement already satisfied: joblib>=1.2.0 in /usr/local/lib/python3.11/dist-packages (from scikit-learn>=0.24.0->sklearn-crfsuite) (1.4.2)\n",
            "Requirement already satisfied: threadpoolctl>=3.1.0 in /usr/local/lib/python3.11/dist-packages (from scikit-learn>=0.24.0->sklearn-crfsuite) (3.6.0)\n"
          ]
        }
      ]
    },
    {
      "cell_type": "code",
      "execution_count": 2,
      "id": "e87a1d77-52bc-41b1-885d-f4e37f876990",
      "metadata": {
        "id": "e87a1d77-52bc-41b1-885d-f4e37f876990"
      },
      "outputs": [],
      "source": [
        "import pandas as pd\n",
        "from datasets import Dataset\n",
        "from collections import Counter, defaultdict, namedtuple\n",
        "import nltk\n",
        "from nltk.tag import hmm\n",
        "from nltk.probability import LidstoneProbDist, ConditionalFreqDist, ConditionalProbDist\n",
        "from nltk.tag.hmm import HiddenMarkovModelTagger\n",
        "from nltk.tag.hmm import HiddenMarkovModelTrainer\n",
        "from nltk.probability import DictionaryProbDist\n",
        "from sklearn.linear_model import LogisticRegression\n",
        "from sklearn.preprocessing import LabelEncoder\n",
        "from sklearn.feature_extraction import DictVectorizer\n",
        "from sklearn.model_selection import train_test_split\n",
        "from sklearn.metrics import accuracy_score, classification_report\n",
        "import sklearn_crfsuite\n",
        "from sklearn_crfsuite import metrics\n",
        "from sklearn.model_selection import train_test_split\n",
        "import matplotlib.pyplot as plt"
      ]
    },
    {
      "cell_type": "markdown",
      "id": "b952b0b0-f171-481e-934a-2dfe6153d15f",
      "metadata": {
        "id": "b952b0b0-f171-481e-934a-2dfe6153d15f"
      },
      "source": [
        "# Data Pre-processing"
      ]
    },
    {
      "cell_type": "code",
      "source": [
        "from google.colab import drive\n",
        "drive.mount('/content/drive')"
      ],
      "metadata": {
        "id": "us8n5EI-a3W-",
        "outputId": "7b5f8291-6808-468a-ded3-043bfb7828dd",
        "colab": {
          "base_uri": "https://localhost:8080/"
        }
      },
      "id": "us8n5EI-a3W-",
      "execution_count": 3,
      "outputs": [
        {
          "output_type": "stream",
          "name": "stdout",
          "text": [
            "Drive already mounted at /content/drive; to attempt to forcibly remount, call drive.mount(\"/content/drive\", force_remount=True).\n"
          ]
        }
      ]
    },
    {
      "cell_type": "code",
      "execution_count": 4,
      "id": "c7e8c0f7-9c6c-47e8-8592-6d5f6a08d8cc",
      "metadata": {
        "id": "c7e8c0f7-9c6c-47e8-8592-6d5f6a08d8cc",
        "outputId": "e9d0953e-20d7-4915-879b-6fcb9b528e1a",
        "colab": {
          "base_uri": "https://localhost:8080/",
          "height": 143
        }
      },
      "outputs": [
        {
          "output_type": "execute_result",
          "data": {
            "text/plain": [
              "       TOKEN MORPH ANALYSIS  UPOS\n",
              "0  Ukwengeza   u-kw-engez-a     V\n",
              "1    kulokhu       ku-lokhu  CDEM\n",
              "2          ,              ,  PUNC"
            ],
            "text/html": [
              "\n",
              "  <div id=\"df-16cd5a7f-c92f-4009-9019-ccff0909aef2\" class=\"colab-df-container\">\n",
              "    <div>\n",
              "<style scoped>\n",
              "    .dataframe tbody tr th:only-of-type {\n",
              "        vertical-align: middle;\n",
              "    }\n",
              "\n",
              "    .dataframe tbody tr th {\n",
              "        vertical-align: top;\n",
              "    }\n",
              "\n",
              "    .dataframe thead th {\n",
              "        text-align: right;\n",
              "    }\n",
              "</style>\n",
              "<table border=\"1\" class=\"dataframe\">\n",
              "  <thead>\n",
              "    <tr style=\"text-align: right;\">\n",
              "      <th></th>\n",
              "      <th>TOKEN</th>\n",
              "      <th>MORPH ANALYSIS</th>\n",
              "      <th>UPOS</th>\n",
              "    </tr>\n",
              "  </thead>\n",
              "  <tbody>\n",
              "    <tr>\n",
              "      <th>0</th>\n",
              "      <td>Ukwengeza</td>\n",
              "      <td>u-kw-engez-a</td>\n",
              "      <td>V</td>\n",
              "    </tr>\n",
              "    <tr>\n",
              "      <th>1</th>\n",
              "      <td>kulokhu</td>\n",
              "      <td>ku-lokhu</td>\n",
              "      <td>CDEM</td>\n",
              "    </tr>\n",
              "    <tr>\n",
              "      <th>2</th>\n",
              "      <td>,</td>\n",
              "      <td>,</td>\n",
              "      <td>PUNC</td>\n",
              "    </tr>\n",
              "  </tbody>\n",
              "</table>\n",
              "</div>\n",
              "    <div class=\"colab-df-buttons\">\n",
              "\n",
              "  <div class=\"colab-df-container\">\n",
              "    <button class=\"colab-df-convert\" onclick=\"convertToInteractive('df-16cd5a7f-c92f-4009-9019-ccff0909aef2')\"\n",
              "            title=\"Convert this dataframe to an interactive table.\"\n",
              "            style=\"display:none;\">\n",
              "\n",
              "  <svg xmlns=\"http://www.w3.org/2000/svg\" height=\"24px\" viewBox=\"0 -960 960 960\">\n",
              "    <path d=\"M120-120v-720h720v720H120Zm60-500h600v-160H180v160Zm220 220h160v-160H400v160Zm0 220h160v-160H400v160ZM180-400h160v-160H180v160Zm440 0h160v-160H620v160ZM180-180h160v-160H180v160Zm440 0h160v-160H620v160Z\"/>\n",
              "  </svg>\n",
              "    </button>\n",
              "\n",
              "  <style>\n",
              "    .colab-df-container {\n",
              "      display:flex;\n",
              "      gap: 12px;\n",
              "    }\n",
              "\n",
              "    .colab-df-convert {\n",
              "      background-color: #E8F0FE;\n",
              "      border: none;\n",
              "      border-radius: 50%;\n",
              "      cursor: pointer;\n",
              "      display: none;\n",
              "      fill: #1967D2;\n",
              "      height: 32px;\n",
              "      padding: 0 0 0 0;\n",
              "      width: 32px;\n",
              "    }\n",
              "\n",
              "    .colab-df-convert:hover {\n",
              "      background-color: #E2EBFA;\n",
              "      box-shadow: 0px 1px 2px rgba(60, 64, 67, 0.3), 0px 1px 3px 1px rgba(60, 64, 67, 0.15);\n",
              "      fill: #174EA6;\n",
              "    }\n",
              "\n",
              "    .colab-df-buttons div {\n",
              "      margin-bottom: 4px;\n",
              "    }\n",
              "\n",
              "    [theme=dark] .colab-df-convert {\n",
              "      background-color: #3B4455;\n",
              "      fill: #D2E3FC;\n",
              "    }\n",
              "\n",
              "    [theme=dark] .colab-df-convert:hover {\n",
              "      background-color: #434B5C;\n",
              "      box-shadow: 0px 1px 3px 1px rgba(0, 0, 0, 0.15);\n",
              "      filter: drop-shadow(0px 1px 2px rgba(0, 0, 0, 0.3));\n",
              "      fill: #FFFFFF;\n",
              "    }\n",
              "  </style>\n",
              "\n",
              "    <script>\n",
              "      const buttonEl =\n",
              "        document.querySelector('#df-16cd5a7f-c92f-4009-9019-ccff0909aef2 button.colab-df-convert');\n",
              "      buttonEl.style.display =\n",
              "        google.colab.kernel.accessAllowed ? 'block' : 'none';\n",
              "\n",
              "      async function convertToInteractive(key) {\n",
              "        const element = document.querySelector('#df-16cd5a7f-c92f-4009-9019-ccff0909aef2');\n",
              "        const dataTable =\n",
              "          await google.colab.kernel.invokeFunction('convertToInteractive',\n",
              "                                                    [key], {});\n",
              "        if (!dataTable) return;\n",
              "\n",
              "        const docLinkHtml = 'Like what you see? Visit the ' +\n",
              "          '<a target=\"_blank\" href=https://colab.research.google.com/notebooks/data_table.ipynb>data table notebook</a>'\n",
              "          + ' to learn more about interactive tables.';\n",
              "        element.innerHTML = '';\n",
              "        dataTable['output_type'] = 'display_data';\n",
              "        await google.colab.output.renderOutput(dataTable, element);\n",
              "        const docLink = document.createElement('div');\n",
              "        docLink.innerHTML = docLinkHtml;\n",
              "        element.appendChild(docLink);\n",
              "      }\n",
              "    </script>\n",
              "  </div>\n",
              "\n",
              "\n",
              "<div id=\"df-a63e9ceb-d732-42db-8a73-4936e23b69d9\">\n",
              "  <button class=\"colab-df-quickchart\" onclick=\"quickchart('df-a63e9ceb-d732-42db-8a73-4936e23b69d9')\"\n",
              "            title=\"Suggest charts\"\n",
              "            style=\"display:none;\">\n",
              "\n",
              "<svg xmlns=\"http://www.w3.org/2000/svg\" height=\"24px\"viewBox=\"0 0 24 24\"\n",
              "     width=\"24px\">\n",
              "    <g>\n",
              "        <path d=\"M19 3H5c-1.1 0-2 .9-2 2v14c0 1.1.9 2 2 2h14c1.1 0 2-.9 2-2V5c0-1.1-.9-2-2-2zM9 17H7v-7h2v7zm4 0h-2V7h2v10zm4 0h-2v-4h2v4z\"/>\n",
              "    </g>\n",
              "</svg>\n",
              "  </button>\n",
              "\n",
              "<style>\n",
              "  .colab-df-quickchart {\n",
              "      --bg-color: #E8F0FE;\n",
              "      --fill-color: #1967D2;\n",
              "      --hover-bg-color: #E2EBFA;\n",
              "      --hover-fill-color: #174EA6;\n",
              "      --disabled-fill-color: #AAA;\n",
              "      --disabled-bg-color: #DDD;\n",
              "  }\n",
              "\n",
              "  [theme=dark] .colab-df-quickchart {\n",
              "      --bg-color: #3B4455;\n",
              "      --fill-color: #D2E3FC;\n",
              "      --hover-bg-color: #434B5C;\n",
              "      --hover-fill-color: #FFFFFF;\n",
              "      --disabled-bg-color: #3B4455;\n",
              "      --disabled-fill-color: #666;\n",
              "  }\n",
              "\n",
              "  .colab-df-quickchart {\n",
              "    background-color: var(--bg-color);\n",
              "    border: none;\n",
              "    border-radius: 50%;\n",
              "    cursor: pointer;\n",
              "    display: none;\n",
              "    fill: var(--fill-color);\n",
              "    height: 32px;\n",
              "    padding: 0;\n",
              "    width: 32px;\n",
              "  }\n",
              "\n",
              "  .colab-df-quickchart:hover {\n",
              "    background-color: var(--hover-bg-color);\n",
              "    box-shadow: 0 1px 2px rgba(60, 64, 67, 0.3), 0 1px 3px 1px rgba(60, 64, 67, 0.15);\n",
              "    fill: var(--button-hover-fill-color);\n",
              "  }\n",
              "\n",
              "  .colab-df-quickchart-complete:disabled,\n",
              "  .colab-df-quickchart-complete:disabled:hover {\n",
              "    background-color: var(--disabled-bg-color);\n",
              "    fill: var(--disabled-fill-color);\n",
              "    box-shadow: none;\n",
              "  }\n",
              "\n",
              "  .colab-df-spinner {\n",
              "    border: 2px solid var(--fill-color);\n",
              "    border-color: transparent;\n",
              "    border-bottom-color: var(--fill-color);\n",
              "    animation:\n",
              "      spin 1s steps(1) infinite;\n",
              "  }\n",
              "\n",
              "  @keyframes spin {\n",
              "    0% {\n",
              "      border-color: transparent;\n",
              "      border-bottom-color: var(--fill-color);\n",
              "      border-left-color: var(--fill-color);\n",
              "    }\n",
              "    20% {\n",
              "      border-color: transparent;\n",
              "      border-left-color: var(--fill-color);\n",
              "      border-top-color: var(--fill-color);\n",
              "    }\n",
              "    30% {\n",
              "      border-color: transparent;\n",
              "      border-left-color: var(--fill-color);\n",
              "      border-top-color: var(--fill-color);\n",
              "      border-right-color: var(--fill-color);\n",
              "    }\n",
              "    40% {\n",
              "      border-color: transparent;\n",
              "      border-right-color: var(--fill-color);\n",
              "      border-top-color: var(--fill-color);\n",
              "    }\n",
              "    60% {\n",
              "      border-color: transparent;\n",
              "      border-right-color: var(--fill-color);\n",
              "    }\n",
              "    80% {\n",
              "      border-color: transparent;\n",
              "      border-right-color: var(--fill-color);\n",
              "      border-bottom-color: var(--fill-color);\n",
              "    }\n",
              "    90% {\n",
              "      border-color: transparent;\n",
              "      border-bottom-color: var(--fill-color);\n",
              "    }\n",
              "  }\n",
              "</style>\n",
              "\n",
              "  <script>\n",
              "    async function quickchart(key) {\n",
              "      const quickchartButtonEl =\n",
              "        document.querySelector('#' + key + ' button');\n",
              "      quickchartButtonEl.disabled = true;  // To prevent multiple clicks.\n",
              "      quickchartButtonEl.classList.add('colab-df-spinner');\n",
              "      try {\n",
              "        const charts = await google.colab.kernel.invokeFunction(\n",
              "            'suggestCharts', [key], {});\n",
              "      } catch (error) {\n",
              "        console.error('Error during call to suggestCharts:', error);\n",
              "      }\n",
              "      quickchartButtonEl.classList.remove('colab-df-spinner');\n",
              "      quickchartButtonEl.classList.add('colab-df-quickchart-complete');\n",
              "    }\n",
              "    (() => {\n",
              "      let quickchartButtonEl =\n",
              "        document.querySelector('#df-a63e9ceb-d732-42db-8a73-4936e23b69d9 button');\n",
              "      quickchartButtonEl.style.display =\n",
              "        google.colab.kernel.accessAllowed ? 'block' : 'none';\n",
              "    })();\n",
              "  </script>\n",
              "</div>\n",
              "\n",
              "    </div>\n",
              "  </div>\n"
            ],
            "application/vnd.google.colaboratory.intrinsic+json": {
              "type": "dataframe",
              "variable_name": "df",
              "summary": "{\n  \"name\": \"df\",\n  \"rows\": 49097,\n  \"fields\": [\n    {\n      \"column\": \"TOKEN\",\n      \"properties\": {\n        \"dtype\": \"category\",\n        \"num_unique_values\": 14337,\n        \"samples\": [\n          \"ubeka\",\n          \"MANAGEMENT\",\n          \"kwenyusa\"\n        ],\n        \"semantic_type\": \"\",\n        \"description\": \"\"\n      }\n    },\n    {\n      \"column\": \"MORPH ANALYSIS\",\n      \"properties\": {\n        \"dtype\": \"category\",\n        \"num_unique_values\": 14664,\n        \"samples\": [\n          \"ku-y-i-n-dlela\",\n          \"u-m-lingani\",\n          \"u-ku-yi-qeda\"\n        ],\n        \"semantic_type\": \"\",\n        \"description\": \"\"\n      }\n    },\n    {\n      \"column\": \"UPOS\",\n      \"properties\": {\n        \"dtype\": \"category\",\n        \"num_unique_values\": 16,\n        \"samples\": [\n          \"V\",\n          \"CDEM\",\n          \"REL\"\n        ],\n        \"semantic_type\": \"\",\n        \"description\": \"\"\n      }\n    }\n  ]\n}"
            }
          },
          "metadata": {},
          "execution_count": 4
        }
      ],
      "source": [
        "df = pd.read_csv(r\"/content/drive/MyDrive/dataset/zu.gold.seg.data\", delimiter='\\t')\n",
        "df.head(3)"
      ]
    },
    {
      "cell_type": "code",
      "execution_count": 5,
      "id": "0f16a958-cea8-421b-8e86-ae3408beb76b",
      "metadata": {
        "id": "0f16a958-cea8-421b-8e86-ae3408beb76b",
        "outputId": "dbb6f711-19a0-4049-e674-d0bf30069105",
        "colab": {
          "base_uri": "https://localhost:8080/",
          "height": 363
        }
      },
      "outputs": [
        {
          "output_type": "execute_result",
          "data": {
            "text/plain": [
              "               TOKEN  UPOS\n",
              "0          ukwengeza     V\n",
              "1            kulokhu  CDEM\n",
              "2                  ,  PUNC\n",
              "3         imibandela     N\n",
              "4           iyenziwa     V\n",
              "5            ukwakha     V\n",
              "6          amakomiti     N\n",
              "7            amawadi     N\n",
              "8                  ,  PUNC\n",
              "9  njengezinhlangano   ADV"
            ],
            "text/html": [
              "\n",
              "  <div id=\"df-7fde2bd7-cfe1-4594-b69e-2aa4fb402742\" class=\"colab-df-container\">\n",
              "    <div>\n",
              "<style scoped>\n",
              "    .dataframe tbody tr th:only-of-type {\n",
              "        vertical-align: middle;\n",
              "    }\n",
              "\n",
              "    .dataframe tbody tr th {\n",
              "        vertical-align: top;\n",
              "    }\n",
              "\n",
              "    .dataframe thead th {\n",
              "        text-align: right;\n",
              "    }\n",
              "</style>\n",
              "<table border=\"1\" class=\"dataframe\">\n",
              "  <thead>\n",
              "    <tr style=\"text-align: right;\">\n",
              "      <th></th>\n",
              "      <th>TOKEN</th>\n",
              "      <th>UPOS</th>\n",
              "    </tr>\n",
              "  </thead>\n",
              "  <tbody>\n",
              "    <tr>\n",
              "      <th>0</th>\n",
              "      <td>ukwengeza</td>\n",
              "      <td>V</td>\n",
              "    </tr>\n",
              "    <tr>\n",
              "      <th>1</th>\n",
              "      <td>kulokhu</td>\n",
              "      <td>CDEM</td>\n",
              "    </tr>\n",
              "    <tr>\n",
              "      <th>2</th>\n",
              "      <td>,</td>\n",
              "      <td>PUNC</td>\n",
              "    </tr>\n",
              "    <tr>\n",
              "      <th>3</th>\n",
              "      <td>imibandela</td>\n",
              "      <td>N</td>\n",
              "    </tr>\n",
              "    <tr>\n",
              "      <th>4</th>\n",
              "      <td>iyenziwa</td>\n",
              "      <td>V</td>\n",
              "    </tr>\n",
              "    <tr>\n",
              "      <th>5</th>\n",
              "      <td>ukwakha</td>\n",
              "      <td>V</td>\n",
              "    </tr>\n",
              "    <tr>\n",
              "      <th>6</th>\n",
              "      <td>amakomiti</td>\n",
              "      <td>N</td>\n",
              "    </tr>\n",
              "    <tr>\n",
              "      <th>7</th>\n",
              "      <td>amawadi</td>\n",
              "      <td>N</td>\n",
              "    </tr>\n",
              "    <tr>\n",
              "      <th>8</th>\n",
              "      <td>,</td>\n",
              "      <td>PUNC</td>\n",
              "    </tr>\n",
              "    <tr>\n",
              "      <th>9</th>\n",
              "      <td>njengezinhlangano</td>\n",
              "      <td>ADV</td>\n",
              "    </tr>\n",
              "  </tbody>\n",
              "</table>\n",
              "</div>\n",
              "    <div class=\"colab-df-buttons\">\n",
              "\n",
              "  <div class=\"colab-df-container\">\n",
              "    <button class=\"colab-df-convert\" onclick=\"convertToInteractive('df-7fde2bd7-cfe1-4594-b69e-2aa4fb402742')\"\n",
              "            title=\"Convert this dataframe to an interactive table.\"\n",
              "            style=\"display:none;\">\n",
              "\n",
              "  <svg xmlns=\"http://www.w3.org/2000/svg\" height=\"24px\" viewBox=\"0 -960 960 960\">\n",
              "    <path d=\"M120-120v-720h720v720H120Zm60-500h600v-160H180v160Zm220 220h160v-160H400v160Zm0 220h160v-160H400v160ZM180-400h160v-160H180v160Zm440 0h160v-160H620v160ZM180-180h160v-160H180v160Zm440 0h160v-160H620v160Z\"/>\n",
              "  </svg>\n",
              "    </button>\n",
              "\n",
              "  <style>\n",
              "    .colab-df-container {\n",
              "      display:flex;\n",
              "      gap: 12px;\n",
              "    }\n",
              "\n",
              "    .colab-df-convert {\n",
              "      background-color: #E8F0FE;\n",
              "      border: none;\n",
              "      border-radius: 50%;\n",
              "      cursor: pointer;\n",
              "      display: none;\n",
              "      fill: #1967D2;\n",
              "      height: 32px;\n",
              "      padding: 0 0 0 0;\n",
              "      width: 32px;\n",
              "    }\n",
              "\n",
              "    .colab-df-convert:hover {\n",
              "      background-color: #E2EBFA;\n",
              "      box-shadow: 0px 1px 2px rgba(60, 64, 67, 0.3), 0px 1px 3px 1px rgba(60, 64, 67, 0.15);\n",
              "      fill: #174EA6;\n",
              "    }\n",
              "\n",
              "    .colab-df-buttons div {\n",
              "      margin-bottom: 4px;\n",
              "    }\n",
              "\n",
              "    [theme=dark] .colab-df-convert {\n",
              "      background-color: #3B4455;\n",
              "      fill: #D2E3FC;\n",
              "    }\n",
              "\n",
              "    [theme=dark] .colab-df-convert:hover {\n",
              "      background-color: #434B5C;\n",
              "      box-shadow: 0px 1px 3px 1px rgba(0, 0, 0, 0.15);\n",
              "      filter: drop-shadow(0px 1px 2px rgba(0, 0, 0, 0.3));\n",
              "      fill: #FFFFFF;\n",
              "    }\n",
              "  </style>\n",
              "\n",
              "    <script>\n",
              "      const buttonEl =\n",
              "        document.querySelector('#df-7fde2bd7-cfe1-4594-b69e-2aa4fb402742 button.colab-df-convert');\n",
              "      buttonEl.style.display =\n",
              "        google.colab.kernel.accessAllowed ? 'block' : 'none';\n",
              "\n",
              "      async function convertToInteractive(key) {\n",
              "        const element = document.querySelector('#df-7fde2bd7-cfe1-4594-b69e-2aa4fb402742');\n",
              "        const dataTable =\n",
              "          await google.colab.kernel.invokeFunction('convertToInteractive',\n",
              "                                                    [key], {});\n",
              "        if (!dataTable) return;\n",
              "\n",
              "        const docLinkHtml = 'Like what you see? Visit the ' +\n",
              "          '<a target=\"_blank\" href=https://colab.research.google.com/notebooks/data_table.ipynb>data table notebook</a>'\n",
              "          + ' to learn more about interactive tables.';\n",
              "        element.innerHTML = '';\n",
              "        dataTable['output_type'] = 'display_data';\n",
              "        await google.colab.output.renderOutput(dataTable, element);\n",
              "        const docLink = document.createElement('div');\n",
              "        docLink.innerHTML = docLinkHtml;\n",
              "        element.appendChild(docLink);\n",
              "      }\n",
              "    </script>\n",
              "  </div>\n",
              "\n",
              "\n",
              "<div id=\"df-41403a3d-0f04-4f22-8e06-4b734ee46529\">\n",
              "  <button class=\"colab-df-quickchart\" onclick=\"quickchart('df-41403a3d-0f04-4f22-8e06-4b734ee46529')\"\n",
              "            title=\"Suggest charts\"\n",
              "            style=\"display:none;\">\n",
              "\n",
              "<svg xmlns=\"http://www.w3.org/2000/svg\" height=\"24px\"viewBox=\"0 0 24 24\"\n",
              "     width=\"24px\">\n",
              "    <g>\n",
              "        <path d=\"M19 3H5c-1.1 0-2 .9-2 2v14c0 1.1.9 2 2 2h14c1.1 0 2-.9 2-2V5c0-1.1-.9-2-2-2zM9 17H7v-7h2v7zm4 0h-2V7h2v10zm4 0h-2v-4h2v4z\"/>\n",
              "    </g>\n",
              "</svg>\n",
              "  </button>\n",
              "\n",
              "<style>\n",
              "  .colab-df-quickchart {\n",
              "      --bg-color: #E8F0FE;\n",
              "      --fill-color: #1967D2;\n",
              "      --hover-bg-color: #E2EBFA;\n",
              "      --hover-fill-color: #174EA6;\n",
              "      --disabled-fill-color: #AAA;\n",
              "      --disabled-bg-color: #DDD;\n",
              "  }\n",
              "\n",
              "  [theme=dark] .colab-df-quickchart {\n",
              "      --bg-color: #3B4455;\n",
              "      --fill-color: #D2E3FC;\n",
              "      --hover-bg-color: #434B5C;\n",
              "      --hover-fill-color: #FFFFFF;\n",
              "      --disabled-bg-color: #3B4455;\n",
              "      --disabled-fill-color: #666;\n",
              "  }\n",
              "\n",
              "  .colab-df-quickchart {\n",
              "    background-color: var(--bg-color);\n",
              "    border: none;\n",
              "    border-radius: 50%;\n",
              "    cursor: pointer;\n",
              "    display: none;\n",
              "    fill: var(--fill-color);\n",
              "    height: 32px;\n",
              "    padding: 0;\n",
              "    width: 32px;\n",
              "  }\n",
              "\n",
              "  .colab-df-quickchart:hover {\n",
              "    background-color: var(--hover-bg-color);\n",
              "    box-shadow: 0 1px 2px rgba(60, 64, 67, 0.3), 0 1px 3px 1px rgba(60, 64, 67, 0.15);\n",
              "    fill: var(--button-hover-fill-color);\n",
              "  }\n",
              "\n",
              "  .colab-df-quickchart-complete:disabled,\n",
              "  .colab-df-quickchart-complete:disabled:hover {\n",
              "    background-color: var(--disabled-bg-color);\n",
              "    fill: var(--disabled-fill-color);\n",
              "    box-shadow: none;\n",
              "  }\n",
              "\n",
              "  .colab-df-spinner {\n",
              "    border: 2px solid var(--fill-color);\n",
              "    border-color: transparent;\n",
              "    border-bottom-color: var(--fill-color);\n",
              "    animation:\n",
              "      spin 1s steps(1) infinite;\n",
              "  }\n",
              "\n",
              "  @keyframes spin {\n",
              "    0% {\n",
              "      border-color: transparent;\n",
              "      border-bottom-color: var(--fill-color);\n",
              "      border-left-color: var(--fill-color);\n",
              "    }\n",
              "    20% {\n",
              "      border-color: transparent;\n",
              "      border-left-color: var(--fill-color);\n",
              "      border-top-color: var(--fill-color);\n",
              "    }\n",
              "    30% {\n",
              "      border-color: transparent;\n",
              "      border-left-color: var(--fill-color);\n",
              "      border-top-color: var(--fill-color);\n",
              "      border-right-color: var(--fill-color);\n",
              "    }\n",
              "    40% {\n",
              "      border-color: transparent;\n",
              "      border-right-color: var(--fill-color);\n",
              "      border-top-color: var(--fill-color);\n",
              "    }\n",
              "    60% {\n",
              "      border-color: transparent;\n",
              "      border-right-color: var(--fill-color);\n",
              "    }\n",
              "    80% {\n",
              "      border-color: transparent;\n",
              "      border-right-color: var(--fill-color);\n",
              "      border-bottom-color: var(--fill-color);\n",
              "    }\n",
              "    90% {\n",
              "      border-color: transparent;\n",
              "      border-bottom-color: var(--fill-color);\n",
              "    }\n",
              "  }\n",
              "</style>\n",
              "\n",
              "  <script>\n",
              "    async function quickchart(key) {\n",
              "      const quickchartButtonEl =\n",
              "        document.querySelector('#' + key + ' button');\n",
              "      quickchartButtonEl.disabled = true;  // To prevent multiple clicks.\n",
              "      quickchartButtonEl.classList.add('colab-df-spinner');\n",
              "      try {\n",
              "        const charts = await google.colab.kernel.invokeFunction(\n",
              "            'suggestCharts', [key], {});\n",
              "      } catch (error) {\n",
              "        console.error('Error during call to suggestCharts:', error);\n",
              "      }\n",
              "      quickchartButtonEl.classList.remove('colab-df-spinner');\n",
              "      quickchartButtonEl.classList.add('colab-df-quickchart-complete');\n",
              "    }\n",
              "    (() => {\n",
              "      let quickchartButtonEl =\n",
              "        document.querySelector('#df-41403a3d-0f04-4f22-8e06-4b734ee46529 button');\n",
              "      quickchartButtonEl.style.display =\n",
              "        google.colab.kernel.accessAllowed ? 'block' : 'none';\n",
              "    })();\n",
              "  </script>\n",
              "</div>\n",
              "\n",
              "    </div>\n",
              "  </div>\n"
            ],
            "application/vnd.google.colaboratory.intrinsic+json": {
              "type": "dataframe",
              "variable_name": "df",
              "summary": "{\n  \"name\": \"df\",\n  \"rows\": 49097,\n  \"fields\": [\n    {\n      \"column\": \"TOKEN\",\n      \"properties\": {\n        \"dtype\": \"category\",\n        \"num_unique_values\": 13010,\n        \"samples\": [\n          \"ngokomzimba\",\n          \"kugxilwe\",\n          \"zazi\"\n        ],\n        \"semantic_type\": \"\",\n        \"description\": \"\"\n      }\n    },\n    {\n      \"column\": \"UPOS\",\n      \"properties\": {\n        \"dtype\": \"category\",\n        \"num_unique_values\": 16,\n        \"samples\": [\n          \"V\",\n          \"CDEM\",\n          \"REL\"\n        ],\n        \"semantic_type\": \"\",\n        \"description\": \"\"\n      }\n    }\n  ]\n}"
            }
          },
          "metadata": {},
          "execution_count": 5
        }
      ],
      "source": [
        "# drop/remove the MORPH ANALYSIS column\n",
        "df = df.drop(columns=['MORPH ANALYSIS'])\n",
        "\n",
        "# convert all tokens to lowercase for a consistent vocab\n",
        "df['TOKEN'] = [token.lower() for token in df['TOKEN']]\n",
        "df.head(10)"
      ]
    },
    {
      "cell_type": "code",
      "execution_count": 6,
      "id": "790eb4b3-5999-4490-96d2-f56d5e7905aa",
      "metadata": {
        "id": "790eb4b3-5999-4490-96d2-f56d5e7905aa",
        "outputId": "48306a79-f64f-46c4-f4a3-3407bbcaeb07",
        "colab": {
          "base_uri": "https://localhost:8080/"
        }
      },
      "outputs": [
        {
          "output_type": "stream",
          "name": "stdout",
          "text": [
            "{'TOKEN': Value(dtype='string', id=None), 'UPOS': Value(dtype='string', id=None)}\n"
          ]
        }
      ],
      "source": [
        "# convert panda dataframe to HuggingFace dataset\n",
        "dataset = Dataset.from_pandas(df)\n",
        "print(dataset.features)"
      ]
    },
    {
      "cell_type": "markdown",
      "source": [
        "## Sentence generation\n",
        "This converts token-tag pair to sentences by using the basic assumption that sentences are terminated with punctuations such as the full stop."
      ],
      "metadata": {
        "id": "yggOurAbMM6Q"
      },
      "id": "yggOurAbMM6Q"
    },
    {
      "cell_type": "code",
      "source": [
        "\"\"\"\n",
        "This code block implements a for loop that generates sentences\n",
        "from the dataset in the form -> [(w1, t1), (w2, t2), ..., (wn, tn)]\n",
        "\"\"\"\n",
        "sentences = []\n",
        "current_sentence = []\n",
        "\n",
        "for example in dataset:\n",
        "    token = example[\"TOKEN\"]\n",
        "    tag = example[\"UPOS\"]\n",
        "\n",
        "    if token is None or tag is None:\n",
        "        continue  # skip bad data\n",
        "\n",
        "    current_sentence.append((token, tag))\n",
        "\n",
        "    # sentence ends at a full stop or other terminating punctuations\n",
        "    if token in [\".\", \"!\", \"?\"] and tag == \"PUNC\":\n",
        "        sentences.append(current_sentence)\n",
        "        current_sentence = []\n",
        "\n",
        "# add the last sentence if the dataset doesn't end with punctuation\n",
        "if current_sentence:\n",
        "    sentences.append(current_sentence)\n",
        "\n",
        "print(f\"Total sentences: {len(sentences)}\")"
      ],
      "metadata": {
        "colab": {
          "base_uri": "https://localhost:8080/"
        },
        "id": "SizL7lYaePIz",
        "outputId": "76efb0ea-3f28-4297-f9a2-5463e2cf92fa"
      },
      "id": "SizL7lYaePIz",
      "execution_count": 7,
      "outputs": [
        {
          "output_type": "stream",
          "name": "stdout",
          "text": [
            "Total sentences: 3155\n"
          ]
        }
      ]
    },
    {
      "cell_type": "markdown",
      "source": [
        "## Train-Test Split (with randomness)"
      ],
      "metadata": {
        "id": "6AtD_3viPzES"
      },
      "id": "6AtD_3viPzES"
    },
    {
      "cell_type": "code",
      "source": [
        "train_data, test_data = train_test_split(sentences, test_size=0.2, random_state=42)"
      ],
      "metadata": {
        "id": "XQRZY7mofvxq"
      },
      "id": "XQRZY7mofvxq",
      "execution_count": 8,
      "outputs": []
    },
    {
      "cell_type": "markdown",
      "source": [
        "# HMM Model"
      ],
      "metadata": {
        "id": "79SxC1Kz48gH"
      },
      "id": "79SxC1Kz48gH"
    },
    {
      "cell_type": "markdown",
      "source": [
        "## Basic Model (lower accuracy)"
      ],
      "metadata": {
        "id": "nzDYDRslLl-x"
      },
      "id": "nzDYDRslLl-x"
    },
    {
      "cell_type": "code",
      "source": [
        "trainer = hmm.HiddenMarkovModelTrainer()\n",
        "hmm_tagger1 = trainer.train(train_data)\n",
        "\n",
        "accuracy = hmm_tagger1.accuracy(test_data)\n",
        "print(f\"Accuracy Score: {accuracy:.2%}\")\n",
        "\n",
        "# tagging a sentence from test data\n",
        "pred_sentence = test_data[0]\n",
        "new_sentence = []\n",
        "for i in range(len(pred_sentence)):\n",
        "    new_sentence.append(pred_sentence[i][0])\n",
        "\n",
        "tagged_sentence = hmm_tagger1.tag(new_sentence)\n",
        "\n",
        "print()\n",
        "print(f\"Actual Sentence (No tags):\\n{new_sentence}\")\n",
        "print()\n",
        "print(f\"Actual Sentence (To Predict):\\n{pred_sentence}\")\n",
        "print()\n",
        "print(f\"Tagged Sentence (Predicted):\\n{tagged_sentence}\")\n",
        "print()"
      ],
      "metadata": {
        "colab": {
          "base_uri": "https://localhost:8080/"
        },
        "id": "PyW6FAubgOQx",
        "outputId": "696ac9a1-925b-4e2f-fff4-a911e7512cea"
      },
      "id": "PyW6FAubgOQx",
      "execution_count": 9,
      "outputs": [
        {
          "output_type": "stream",
          "name": "stderr",
          "text": [
            "/usr/local/lib/python3.11/dist-packages/nltk/tag/hmm.py:335: RuntimeWarning: overflow encountered in cast\n",
            "  O[i, k] = self._output_logprob(si, self._symbols[k])\n",
            "/usr/local/lib/python3.11/dist-packages/nltk/tag/hmm.py:333: RuntimeWarning: overflow encountered in cast\n",
            "  X[i, j] = self._transitions[si].logprob(self._states[j])\n",
            "/usr/local/lib/python3.11/dist-packages/nltk/tag/hmm.py:331: RuntimeWarning: overflow encountered in cast\n",
            "  P[i] = self._priors.logprob(si)\n",
            "/usr/local/lib/python3.11/dist-packages/nltk/tag/hmm.py:363: RuntimeWarning: overflow encountered in cast\n",
            "  O[i, k] = self._output_logprob(si, self._symbols[k])\n"
          ]
        },
        {
          "output_type": "stream",
          "name": "stdout",
          "text": [
            "Accuracy Score: 40.06%\n",
            "\n",
            "Actual Sentence (No tags):\n",
            "['gcwalisa', 'umsebenzi', 'umuntu', 'awenzayo', 'esikhathini', 'esibhaliwe', ',', 'nokuthi', 'umsebenzi', 'uyakhokhelwa', 'yini', ',', 'nokuthi', 'ukhokhela', 'malini', 'ngehora', '.']\n",
            "\n",
            "Actual Sentence (To Predict):\n",
            "[('gcwalisa', 'V'), ('umsebenzi', 'N'), ('umuntu', 'N'), ('awenzayo', 'REL'), ('esikhathini', 'REL'), ('esibhaliwe', 'REL'), (',', 'PUNC'), ('nokuthi', 'ADV'), ('umsebenzi', 'N'), ('uyakhokhelwa', 'V'), ('yini', 'INT'), (',', 'PUNC'), ('nokuthi', 'ADV'), ('ukhokhela', 'V'), ('malini', 'N'), ('ngehora', 'N'), ('.', 'PUNC')]\n",
            "\n",
            "Tagged Sentence (Predicted):\n",
            "[('gcwalisa', 'N'), ('umsebenzi', 'N'), ('umuntu', 'N'), ('awenzayo', 'N'), ('esikhathini', 'N'), ('esibhaliwe', 'N'), (',', 'N'), ('nokuthi', 'N'), ('umsebenzi', 'N'), ('uyakhokhelwa', 'N'), ('yini', 'N'), (',', 'N'), ('nokuthi', 'N'), ('ukhokhela', 'N'), ('malini', 'N'), ('ngehora', 'N'), ('.', 'N')]\n",
            "\n"
          ]
        }
      ]
    },
    {
      "cell_type": "markdown",
      "source": [
        "## Advanced HMM\n",
        "This Hidden Markov Model implementation uses HiddenMarkovModelTagger from nltk, which allows you to manually define the parameters for the tagging."
      ],
      "metadata": {
        "id": "dxY5mFgZOCat"
      },
      "id": "dxY5mFgZOCat"
    },
    {
      "cell_type": "code",
      "source": [
        "# extract states (tags) and symbols (words)\n",
        "states = set()\n",
        "symbols = set()\n",
        "for sentence in train_data:\n",
        "    for word, tag in sentence:\n",
        "        states.add(tag)\n",
        "        symbols.add(word)\n",
        "\n",
        "states = list(states)\n",
        "symbols = list(symbols)\n",
        "\n",
        "# compute frequencies for transitions, emissions, and priors (parameters)\n",
        "transition_cfd = ConditionalFreqDist()\n",
        "emission_cfd = ConditionalFreqDist()\n",
        "prior_fd = nltk.FreqDist()"
      ],
      "metadata": {
        "id": "vAhEFYMV_jg9"
      },
      "id": "vAhEFYMV_jg9",
      "execution_count": 10,
      "outputs": []
    },
    {
      "cell_type": "code",
      "source": [
        "for sentence in train_data:\n",
        "    prior_fd[sentence[0][1]] += 1  # first tag in sentence\n",
        "    for i, (word, tag) in enumerate(sentence):\n",
        "        emission_cfd[tag][word] += 1\n",
        "        if i > 0:\n",
        "            prev_tag = sentence[i - 1][1]\n",
        "            transition_cfd[prev_tag][tag] += 1"
      ],
      "metadata": {
        "id": "MaQFAardA1rp"
      },
      "id": "MaQFAardA1rp",
      "execution_count": 11,
      "outputs": []
    },
    {
      "cell_type": "code",
      "source": [
        "# convert frequency distributions to probability distributions\n",
        "def lidstone_cpd(cfd):\n",
        "    return ConditionalProbDist(cfd, lambda fd: LidstoneProbDist(fd, 0.01))\n",
        "\n",
        "transitions = lidstone_cpd(transition_cfd)\n",
        "outputs = lidstone_cpd(emission_cfd)\n",
        "priors = LidstoneProbDist(prior_fd, 0.01)"
      ],
      "metadata": {
        "id": "KG2pAewBA4L_"
      },
      "id": "KG2pAewBA4L_",
      "execution_count": 12,
      "outputs": []
    },
    {
      "cell_type": "code",
      "source": [
        "hmm_tagger = HiddenMarkovModelTagger(\n",
        "    symbols=symbols,\n",
        "    states=states,\n",
        "    transitions=transitions,\n",
        "    outputs=outputs,\n",
        "    priors=priors\n",
        ")"
      ],
      "metadata": {
        "id": "m2rTj2opA8dj"
      },
      "id": "m2rTj2opA8dj",
      "execution_count": 13,
      "outputs": []
    },
    {
      "cell_type": "code",
      "source": [
        "# tagging a sentence from test data\n",
        "pred_sentence = test_data[0]\n",
        "new_sentence = []\n",
        "for i in range(len(pred_sentence)):\n",
        "    new_sentence.append(pred_sentence[i][0])\n",
        "\n",
        "tagged_sentence = hmm_tagger.tag(new_sentence)\n",
        "\n",
        "print()\n",
        "print(f\"Actual Sentence (No tags):\\n{new_sentence}\")\n",
        "print()\n",
        "print(f\"Actual Sentence (To Predict):\\n{pred_sentence}\")\n",
        "print()\n",
        "print(f\"Tagged Sentence (Predicted):\\n{tagged_sentence}\")\n",
        "print()"
      ],
      "metadata": {
        "colab": {
          "base_uri": "https://localhost:8080/"
        },
        "id": "6eIPRyV1DWyJ",
        "outputId": "4de10a68-7d69-477c-acf8-ce3d6ea292a9"
      },
      "id": "6eIPRyV1DWyJ",
      "execution_count": 14,
      "outputs": [
        {
          "output_type": "stream",
          "name": "stdout",
          "text": [
            "\n",
            "Actual Sentence (No tags):\n",
            "['gcwalisa', 'umsebenzi', 'umuntu', 'awenzayo', 'esikhathini', 'esibhaliwe', ',', 'nokuthi', 'umsebenzi', 'uyakhokhelwa', 'yini', ',', 'nokuthi', 'ukhokhela', 'malini', 'ngehora', '.']\n",
            "\n",
            "Actual Sentence (To Predict):\n",
            "[('gcwalisa', 'V'), ('umsebenzi', 'N'), ('umuntu', 'N'), ('awenzayo', 'REL'), ('esikhathini', 'REL'), ('esibhaliwe', 'REL'), (',', 'PUNC'), ('nokuthi', 'ADV'), ('umsebenzi', 'N'), ('uyakhokhelwa', 'V'), ('yini', 'INT'), (',', 'PUNC'), ('nokuthi', 'ADV'), ('ukhokhela', 'V'), ('malini', 'N'), ('ngehora', 'N'), ('.', 'PUNC')]\n",
            "\n",
            "Tagged Sentence (Predicted):\n",
            "[('gcwalisa', 'CDEM'), ('umsebenzi', 'N'), ('umuntu', 'N'), ('awenzayo', 'FOR'), ('esikhathini', 'FOR'), ('esibhaliwe', 'FOR'), (',', 'PUNC'), ('nokuthi', 'ADV'), ('umsebenzi', 'N'), ('uyakhokhelwa', 'NUM'), ('yini', 'INT'), (',', 'PUNC'), ('nokuthi', 'ADV'), ('ukhokhela', 'PUNC'), ('malini', 'V'), ('ngehora', 'ADV'), ('.', 'PUNC')]\n",
            "\n"
          ]
        }
      ]
    },
    {
      "cell_type": "markdown",
      "source": [
        "### Accuracy Score"
      ],
      "metadata": {
        "id": "C8Bid3NMWlYR"
      },
      "id": "C8Bid3NMWlYR"
    },
    {
      "cell_type": "code",
      "source": [
        "# strip the words only for prediction\n",
        "test_words = [[word for word, tag in sentence] for sentence in test_data]\n",
        "true_tags = [[tag for word, tag in sentence] for sentence in test_data]\n",
        "\n",
        "# tag the test words\n",
        "predicted_tags = [hmm_tagger.tag(sentence) for sentence in test_words]\n",
        "\n",
        "# extract the tags only\n",
        "predicted_only = [[tag for word, tag in sent] for sent in predicted_tags]\n",
        "\n",
        "# compute accuracy\n",
        "correct = total = 0\n",
        "for pred, true in zip(predicted_only, true_tags):\n",
        "    for p, t in zip(pred, true):\n",
        "        total += 1\n",
        "        if p == t:\n",
        "            correct += 1\n",
        "\n",
        "accuracy_hmm = correct / total\n",
        "print(f\"Accuracy Score For Advanced HMM: {accuracy_hmm:.2%}\")\n"
      ],
      "metadata": {
        "colab": {
          "base_uri": "https://localhost:8080/"
        },
        "id": "oQgTJVofBEPm",
        "outputId": "297ff688-2953-4219-8366-991d8fdd0337"
      },
      "id": "oQgTJVofBEPm",
      "execution_count": 15,
      "outputs": [
        {
          "output_type": "stream",
          "name": "stdout",
          "text": [
            "Accuracy Score For Advanced HMM: 70.40%\n"
          ]
        }
      ]
    },
    {
      "cell_type": "markdown",
      "source": [
        "# CRF"
      ],
      "metadata": {
        "id": "3zwTnEu5Ezi_"
      },
      "id": "3zwTnEu5Ezi_"
    },
    {
      "cell_type": "code",
      "source": [
        "# feature extraction for a single token\n",
        "def word2features(sent, i):\n",
        "    word = sent[i][0]\n",
        "    features = {\n",
        "        'bias': 1.0,\n",
        "        'word.lower()': word.lower(),\n",
        "        'word.isupper()': word.isupper(),\n",
        "        'word.istitle()': word.istitle(),\n",
        "        'word.isdigit()': word.isdigit(),\n",
        "    }\n",
        "    if i > 0:\n",
        "        word1 = sent[i-1][0]\n",
        "        features.update({\n",
        "            '-1:word.lower()': word1.lower(),\n",
        "            '-1:word.istitle()': word1.istitle(),\n",
        "            '-1:word.isupper()': word1.isupper(),\n",
        "        })\n",
        "    else:\n",
        "        features['BOS'] = True  # beginning of sentence\n",
        "\n",
        "    if i < len(sent)-1:\n",
        "        word1 = sent[i+1][0]\n",
        "        features.update({\n",
        "            '+1:word.lower()': word1.lower(),\n",
        "            '+1:word.istitle()': word1.istitle(),\n",
        "            '+1:word.isupper()': word1.isupper(),\n",
        "        })\n",
        "    else:\n",
        "        features['EOS'] = True  # end of sentence\n",
        "\n",
        "    return features\n",
        "\n",
        "# transform dataset (to include features)\n",
        "def sent2features(sent):\n",
        "    return [word2features(sent, i) for i in range(len(sent))]\n",
        "\n",
        "def sent2labels(sent):\n",
        "    return [label for token, label in sent]\n",
        "\n",
        "def sent2tokens(sent):\n",
        "    return [token for token, label in sent]\n",
        "\n",
        "X = [sent2features(s) for s in sentences]\n",
        "y = [sent2labels(s) for s in sentences]\n",
        "\n",
        "# train/test split\n",
        "X_train, X_test, y_train, y_test = train_test_split(X, y, test_size=0.25, random_state=42)\n",
        "\n",
        "# train CRF model\n",
        "crf = sklearn_crfsuite.CRF(\n",
        "    algorithm='lbfgs',   # optimization algorithm\n",
        "    c1=0.1,              # L1 regularization\n",
        "    c2=0.1,              # L2 regularization\n",
        "    max_iterations=100,\n",
        "    all_possible_transitions=True\n",
        ")\n",
        "\n",
        "crf.fit(X_train, y_train)\n",
        "\n",
        "# predict on test set\n",
        "y_pred = crf.predict(X_test)"
      ],
      "metadata": {
        "id": "5_1N1eOkE0lG"
      },
      "id": "5_1N1eOkE0lG",
      "execution_count": 16,
      "outputs": []
    },
    {
      "cell_type": "code",
      "source": [
        "# predicting sentence from test\n",
        "test_sentence = X_test[0]\n",
        "actual_sentence = y_test[0]\n",
        "\n",
        "# predict tags for the test sentence\n",
        "predicted_tags = crf.predict([test_sentence])[0]  # predict tags for the selected sentence\n",
        "\n",
        "print(f\"Actual Sentence (To Predict):\")\n",
        "print(sent2tokens(sentences[0]))  # print the original tokens from the sentence\n",
        "print()\n",
        "\n",
        "print(f\"Tagged Sentence (Predicted):\")\n",
        "print(list(zip(sent2tokens(sentences[0]), predicted_tags)))  # print the tokens and predicted tags\n",
        "print()"
      ],
      "metadata": {
        "colab": {
          "base_uri": "https://localhost:8080/"
        },
        "id": "nO-nmaFoXuuE",
        "outputId": "a47928c4-d1d6-42fe-cf17-034864e8660d"
      },
      "id": "nO-nmaFoXuuE",
      "execution_count": 17,
      "outputs": [
        {
          "output_type": "stream",
          "name": "stdout",
          "text": [
            "Actual Sentence (To Predict):\n",
            "['ukwengeza', 'kulokhu', ',', 'imibandela', 'iyenziwa', 'ukwakha', 'amakomiti', 'amawadi', ',', 'njengezinhlangano', 'ezelulekayo', ',', 'lawa', 'maqembu', 'ahlanganisa', 'abamele', 'umasipala', 'kanye', 'nomphakathi', 'ukuba', 'badlulise', 'izidingo', 'zomphakathi', 'kanye', 'neziphakamiso', 'ziye', 'kumkhandlu', '.']\n",
            "\n",
            "Tagged Sentence (Predicted):\n",
            "[('ukwengeza', 'V'), ('kulokhu', 'N'), (',', 'N'), ('imibandela', 'REL'), ('iyenziwa', 'REL'), ('ukwakha', 'REL'), ('amakomiti', 'PUNC'), ('amawadi', 'ADV'), (',', 'N'), ('njengezinhlangano', 'V'), ('ezelulekayo', 'INT'), (',', 'PUNC'), ('lawa', 'ADV'), ('maqembu', 'V'), ('ahlanganisa', 'V'), ('abamele', 'ADV'), ('umasipala', 'PUNC')]\n",
            "\n"
          ]
        }
      ]
    },
    {
      "cell_type": "markdown",
      "source": [
        "## Accuracy Score"
      ],
      "metadata": {
        "id": "dv_R9bWiU_Va"
      },
      "id": "dv_R9bWiU_Va"
    },
    {
      "cell_type": "code",
      "source": [
        "# evaluation of crf model\n",
        "accuracy_crf = metrics.flat_accuracy_score(y_test, y_pred)\n",
        "print(f\"Accuracy Score For Linear CRF: {accuracy_crf:.2%}\")\n",
        "print()\n",
        "print(\"Classification Report:\\n\", metrics.flat_classification_report(y_test, y_pred))"
      ],
      "metadata": {
        "colab": {
          "base_uri": "https://localhost:8080/"
        },
        "id": "NmsIF2i4VB50",
        "outputId": "9cfc9f3a-eaac-48c1-a2f6-ffc3bb750857"
      },
      "id": "NmsIF2i4VB50",
      "execution_count": 18,
      "outputs": [
        {
          "output_type": "stream",
          "name": "stdout",
          "text": [
            "Accuracy Score For Linear CRF: 83.16%\n",
            "\n",
            "Classification Report:\n",
            "               precision    recall  f1-score   support\n",
            "\n",
            "        ABBR       0.83      0.63      0.72        30\n",
            "         ADJ       0.96      0.86      0.91       154\n",
            "         ADV       0.87      0.79      0.83      1569\n",
            "        CDEM       0.88      0.86      0.87       249\n",
            "        CONJ       0.95      0.92      0.94       632\n",
            "         COP       0.78      0.31      0.44       177\n",
            "         FOR       0.71      0.74      0.72        23\n",
            "        IDEO       1.00      0.83      0.91         6\n",
            "         INT       1.00      0.83      0.91        36\n",
            "           N       0.82      0.88      0.85      2545\n",
            "         NUM       1.00      0.77      0.87        31\n",
            "        POSS       0.77      0.82      0.80      1634\n",
            "         PRO       0.99      0.90      0.94       152\n",
            "        PUNC       1.00      1.00      1.00      1431\n",
            "         REL       0.76      0.64      0.70      1173\n",
            "           V       0.73      0.82      0.77      2010\n",
            "\n",
            "    accuracy                           0.83     11852\n",
            "   macro avg       0.88      0.79      0.82     11852\n",
            "weighted avg       0.83      0.83      0.83     11852\n",
            "\n"
          ]
        }
      ]
    },
    {
      "cell_type": "markdown",
      "source": [
        "# MEMM"
      ],
      "metadata": {
        "id": "rwfYJl1lGV_Q"
      },
      "id": "rwfYJl1lGV_Q"
    },
    {
      "cell_type": "code",
      "source": [
        "# feature extraction for a token\n",
        "def extract_features(sent, i, prev_tag):\n",
        "    word = sent[i][0]\n",
        "    features = {\n",
        "        'word.lower()': word.lower(),\n",
        "        'word.istitle()': word.istitle(),\n",
        "        'word.isupper()': word.isupper(),\n",
        "        'prev_tag': prev_tag\n",
        "    }\n",
        "    if i > 0:\n",
        "        features['-1:word.lower()'] = sent[i - 1][0].lower()\n",
        "    else:\n",
        "        features['BOS'] = True\n",
        "\n",
        "    if i < len(sent) - 1:\n",
        "        features['+1:word.lower()'] = sent[i + 1][0].lower()\n",
        "    else:\n",
        "        features['EOS'] = True\n",
        "\n",
        "    return features\n",
        "\n",
        "# extract features and labels from training data\n",
        "X_train, y_train = [], []\n",
        "for sent in train_data:\n",
        "    prev_tag = \"<START>\"\n",
        "    for i in range(len(sent)):\n",
        "        feats = extract_features(sent, i, prev_tag)\n",
        "        X_train.append(feats)\n",
        "        y_train.append(sent[i][1])\n",
        "        prev_tag = sent[i][1]\n",
        "\n",
        "# vectorize features and encode labels\n",
        "vec = DictVectorizer(sparse=False)\n",
        "label_encoder = LabelEncoder()\n",
        "\n",
        "X_train_vectorized = vec.fit_transform(X_train)\n",
        "y_train_encoded = label_encoder.fit_transform(y_train)\n",
        "\n",
        "# train the MEMM (Logistic Regression)\n",
        "clf = LogisticRegression(max_iter=200)\n",
        "clf.fit(X_train_vectorized, y_train_encoded)\n",
        "\n",
        "# tagging function (using greedy decoding)\n",
        "def memm_tag(sent):\n",
        "    tagged = []\n",
        "    prev_tag = \"<START>\"\n",
        "    for i in range(len(sent)):\n",
        "        feats = extract_features(sent, i, prev_tag)\n",
        "        X_test = vec.transform([feats])\n",
        "        y_pred = clf.predict(X_test)\n",
        "        tag = label_encoder.inverse_transform(y_pred)[0]\n",
        "        tagged.append((sent[i][0], tag))\n",
        "        prev_tag = tag\n",
        "    return tagged"
      ],
      "metadata": {
        "id": "Bv7QdvoaNoz2"
      },
      "id": "Bv7QdvoaNoz2",
      "execution_count": 19,
      "outputs": []
    },
    {
      "cell_type": "code",
      "source": [
        "# tagging a sentence using memm\n",
        "test_sentence = test_data[0]\n",
        "\n",
        "print(f\"Actual Sentence (To Predict):\")\n",
        "print([word for word, _ in test_sentence])\n",
        "print()\n",
        "\n",
        "tagged_sentence = memm_tag(test_sentence)\n",
        "\n",
        "print(f\"Tagged Sentence (Predicted):\")\n",
        "print(tagged_sentence)"
      ],
      "metadata": {
        "colab": {
          "base_uri": "https://localhost:8080/"
        },
        "id": "prHQexIFYGhW",
        "outputId": "f1400fe3-1f2d-49c6-9764-c8bcf26ec11d"
      },
      "id": "prHQexIFYGhW",
      "execution_count": 20,
      "outputs": [
        {
          "output_type": "stream",
          "name": "stdout",
          "text": [
            "Actual Sentence (To Predict):\n",
            "['gcwalisa', 'umsebenzi', 'umuntu', 'awenzayo', 'esikhathini', 'esibhaliwe', ',', 'nokuthi', 'umsebenzi', 'uyakhokhelwa', 'yini', ',', 'nokuthi', 'ukhokhela', 'malini', 'ngehora', '.']\n",
            "\n",
            "Tagged Sentence (Predicted):\n",
            "[('gcwalisa', np.str_('V')), ('umsebenzi', np.str_('N')), ('umuntu', np.str_('N')), ('awenzayo', np.str_('REL')), ('esikhathini', np.str_('REL')), ('esibhaliwe', np.str_('REL')), (',', np.str_('PUNC')), ('nokuthi', np.str_('ADV')), ('umsebenzi', np.str_('N')), ('uyakhokhelwa', np.str_('POSS')), ('yini', np.str_('INT')), (',', np.str_('PUNC')), ('nokuthi', np.str_('ADV')), ('ukhokhela', np.str_('V')), ('malini', np.str_('V')), ('ngehora', np.str_('ADV')), ('.', np.str_('PUNC'))]\n"
          ]
        }
      ]
    },
    {
      "cell_type": "markdown",
      "source": [
        "## Accuracy Score"
      ],
      "metadata": {
        "id": "mCnOgTt8U4ri"
      },
      "id": "mCnOgTt8U4ri"
    },
    {
      "cell_type": "code",
      "source": [
        "# evaluate accuracy on test_data\n",
        "y_true = []\n",
        "y_pred = []\n",
        "\n",
        "for sent in test_data:\n",
        "    predicted = memm_tag(sent)\n",
        "    y_true.extend([true_tag for _, true_tag in sent])\n",
        "    y_pred.extend([pred_tag for _, pred_tag in predicted])\n",
        "\n",
        "accuracy_memm = accuracy_score(y_true, y_pred)\n",
        "print(f\"Accuracy Score For MEMM: {accuracy_memm:.2%}\")\n",
        "print()\n",
        "print(\"Classification Report:\")\n",
        "print(classification_report(y_true, y_pred, target_names=label_encoder.classes_))"
      ],
      "metadata": {
        "colab": {
          "base_uri": "https://localhost:8080/"
        },
        "id": "9Ei9b_7SQlb0",
        "outputId": "d2c98f24-f373-4a9f-e764-968ab31633a6"
      },
      "id": "9Ei9b_7SQlb0",
      "execution_count": 21,
      "outputs": [
        {
          "output_type": "stream",
          "name": "stdout",
          "text": [
            "Accuracy Score For MEMM: 81.28%\n",
            "\n",
            "Classification Report:\n",
            "              precision    recall  f1-score   support\n",
            "\n",
            "        ABBR       1.00      0.40      0.57        25\n",
            "         ADJ       1.00      0.74      0.85       130\n",
            "         ADV       0.87      0.75      0.80      1295\n",
            "        CDEM       0.89      0.80      0.84       208\n",
            "        CONJ       0.94      0.92      0.93       505\n",
            "         COP       0.93      0.26      0.41       148\n",
            "         FOR       0.00      0.00      0.00        13\n",
            "        IDEO       1.00      0.75      0.86         4\n",
            "         INT       1.00      0.84      0.92        32\n",
            "           N       0.80      0.87      0.83      2070\n",
            "         NUM       1.00      0.38      0.56        26\n",
            "        POSS       0.70      0.83      0.76      1350\n",
            "         PRO       0.99      0.86      0.92       125\n",
            "        PUNC       1.00      1.00      1.00      1172\n",
            "         REL       0.73      0.62      0.67       954\n",
            "           V       0.74      0.79      0.77      1622\n",
            "\n",
            "    accuracy                           0.81      9679\n",
            "   macro avg       0.85      0.68      0.73      9679\n",
            "weighted avg       0.82      0.81      0.81      9679\n",
            "\n"
          ]
        },
        {
          "output_type": "stream",
          "name": "stderr",
          "text": [
            "/usr/local/lib/python3.11/dist-packages/sklearn/metrics/_classification.py:1565: UndefinedMetricWarning: Precision is ill-defined and being set to 0.0 in labels with no predicted samples. Use `zero_division` parameter to control this behavior.\n",
            "  _warn_prf(average, modifier, f\"{metric.capitalize()} is\", len(result))\n",
            "/usr/local/lib/python3.11/dist-packages/sklearn/metrics/_classification.py:1565: UndefinedMetricWarning: Precision is ill-defined and being set to 0.0 in labels with no predicted samples. Use `zero_division` parameter to control this behavior.\n",
            "  _warn_prf(average, modifier, f\"{metric.capitalize()} is\", len(result))\n",
            "/usr/local/lib/python3.11/dist-packages/sklearn/metrics/_classification.py:1565: UndefinedMetricWarning: Precision is ill-defined and being set to 0.0 in labels with no predicted samples. Use `zero_division` parameter to control this behavior.\n",
            "  _warn_prf(average, modifier, f\"{metric.capitalize()} is\", len(result))\n"
          ]
        }
      ]
    },
    {
      "cell_type": "markdown",
      "source": [
        "# COMPARISON"
      ],
      "metadata": {
        "id": "9HVII5CHiycf"
      },
      "id": "9HVII5CHiycf"
    },
    {
      "cell_type": "code",
      "source": [
        "models = ['Basic HMM', 'Advanced HMM', 'Linear CRF', 'MEMM']\n",
        "accuracies = [accuracy, accuracy_hmm, accuracy_crf, accuracy_memm]\n",
        "\n",
        "# plot\n",
        "plt.figure(figsize=(8, 5))\n",
        "bars = plt.bar(models, accuracies, color=['salmon', 'deeppink', 'lightgreen', 'skyblue'])\n",
        "\n",
        "# annotate the bars with percentage values\n",
        "for bar, acc in zip(bars, accuracies):\n",
        "    plt.text(bar.get_x() + bar.get_width()/2, bar.get_height() + 0.005,\n",
        "             f\"{acc:.2%}\", ha='center', fontsize=11)\n",
        "\n",
        "# chart styling\n",
        "plt.title('Model Accuracy Comparison', fontsize=14)\n",
        "plt.ylabel('Accuracy (%)')\n",
        "plt.ylim(0, 1.05)\n",
        "plt.grid(axis='y', linestyle='--', alpha=0.7)\n",
        "\n",
        "plt.tight_layout()\n",
        "plt.show()"
      ],
      "metadata": {
        "colab": {
          "base_uri": "https://localhost:8080/",
          "height": 507
        },
        "id": "iM1okhK1i0Di",
        "outputId": "adc6e8b5-b8fa-4a81-e3b5-34610a28f1d8"
      },
      "id": "iM1okhK1i0Di",
      "execution_count": 22,
      "outputs": [
        {
          "output_type": "display_data",
          "data": {
            "text/plain": [
              "<Figure size 800x500 with 1 Axes>"
            ],
            "image/png": "[encoded data removed]"
          },
          "metadata": {}
        }
      ]
    }
  ],
  "metadata": {
    "kernelspec": {
      "display_name": "Python 3",
      "name": "python3"
    },
    "language_info": {
      "codemirror_mode": {
        "name": "ipython",
        "version": 3
      },
      "file_extension": ".py",
      "mimetype": "text/x-python",
      "name": "python",
      "nbconvert_exporter": "python",
      "pygments_lexer": "ipython3",
      "version": "3.13.0"
    },
    "colab": {
      "provenance": [],
      "include_colab_link": true
    }
  },
  "nbformat": 4,
  "nbformat_minor": 5
}