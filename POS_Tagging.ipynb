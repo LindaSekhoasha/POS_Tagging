{
  "cells": [
    {
      "cell_type": "markdown",
      "metadata": {
        "id": "view-in-github",
        "colab_type": "text"
      },
      "source": [
        "<a href=\"https://colab.research.google.com/github/LindaSekhoasha/POS_Tagging/blob/main/POS_Tagging.ipynb\" target=\"_parent\"><img src=\"https://colab.research.google.com/assets/colab-badge.svg\" alt=\"Open In Colab\"/></a>"
      ]
    },
    {
      "cell_type": "markdown",
      "source": [
        "# Meet Our Group"
      ],
      "metadata": {
        "id": "DliWpRafgO8w"
      },
      "id": "DliWpRafgO8w"
    },
    {
      "cell_type": "markdown",
      "source": [
        "\n",
        "\n",
        "*   Linda Sekhoasha (Student Number)\n",
        "*   Wandile Ngobese (222056013)\n",
        "*   Khonzinkosi Mkhize (Student Number)\n",
        "*   Samukelo Mkhize (Student Number)"
      ],
      "metadata": {
        "id": "tciSCC2xgXjV"
      },
      "id": "tciSCC2xgXjV"
    },
    {
      "cell_type": "markdown",
      "id": "92202f45-4a9f-42d9-bc52-91d6ffc63fee",
      "metadata": {
        "id": "92202f45-4a9f-42d9-bc52-91d6ffc63fee"
      },
      "source": [
        "# Imports"
      ]
    },
    {
      "cell_type": "code",
      "source": [
        "!pip install datasets\n",
        "!pip install pomegranate"
      ],
      "metadata": {
        "id": "xuRrN4CxZ2Sc",
        "colab": {
          "base_uri": "https://localhost:8080/"
        },
        "outputId": "f52b812c-3a09-456d-a7a4-3ec20e783387"
      },
      "id": "xuRrN4CxZ2Sc",
      "execution_count": 3,
      "outputs": [
        {
          "output_type": "stream",
          "name": "stdout",
          "text": [
            "Requirement already satisfied: datasets in /usr/local/lib/python3.11/dist-packages (3.5.0)\n",
            "Requirement already satisfied: filelock in /usr/local/lib/python3.11/dist-packages (from datasets) (3.18.0)\n",
            "Requirement already satisfied: numpy>=1.17 in /usr/local/lib/python3.11/dist-packages (from datasets) (2.0.2)\n",
            "Requirement already satisfied: pyarrow>=15.0.0 in /usr/local/lib/python3.11/dist-packages (from datasets) (18.1.0)\n",
            "Requirement already satisfied: dill<0.3.9,>=0.3.0 in /usr/local/lib/python3.11/dist-packages (from datasets) (0.3.8)\n",
            "Requirement already satisfied: pandas in /usr/local/lib/python3.11/dist-packages (from datasets) (2.2.2)\n",
            "Requirement already satisfied: requests>=2.32.2 in /usr/local/lib/python3.11/dist-packages (from datasets) (2.32.3)\n",
            "Requirement already satisfied: tqdm>=4.66.3 in /usr/local/lib/python3.11/dist-packages (from datasets) (4.67.1)\n",
            "Requirement already satisfied: xxhash in /usr/local/lib/python3.11/dist-packages (from datasets) (3.5.0)\n",
            "Requirement already satisfied: multiprocess<0.70.17 in /usr/local/lib/python3.11/dist-packages (from datasets) (0.70.16)\n",
            "Requirement already satisfied: fsspec<=2024.12.0,>=2023.1.0 in /usr/local/lib/python3.11/dist-packages (from fsspec[http]<=2024.12.0,>=2023.1.0->datasets) (2024.12.0)\n",
            "Requirement already satisfied: aiohttp in /usr/local/lib/python3.11/dist-packages (from datasets) (3.11.15)\n",
            "Requirement already satisfied: huggingface-hub>=0.24.0 in /usr/local/lib/python3.11/dist-packages (from datasets) (0.30.1)\n",
            "Requirement already satisfied: packaging in /usr/local/lib/python3.11/dist-packages (from datasets) (24.2)\n",
            "Requirement already satisfied: pyyaml>=5.1 in /usr/local/lib/python3.11/dist-packages (from datasets) (6.0.2)\n",
            "Requirement already satisfied: aiohappyeyeballs>=2.3.0 in /usr/local/lib/python3.11/dist-packages (from aiohttp->datasets) (2.6.1)\n",
            "Requirement already satisfied: aiosignal>=1.1.2 in /usr/local/lib/python3.11/dist-packages (from aiohttp->datasets) (1.3.2)\n",
            "Requirement already satisfied: attrs>=17.3.0 in /usr/local/lib/python3.11/dist-packages (from aiohttp->datasets) (25.3.0)\n",
            "Requirement already satisfied: frozenlist>=1.1.1 in /usr/local/lib/python3.11/dist-packages (from aiohttp->datasets) (1.5.0)\n",
            "Requirement already satisfied: multidict<7.0,>=4.5 in /usr/local/lib/python3.11/dist-packages (from aiohttp->datasets) (6.3.2)\n",
            "Requirement already satisfied: propcache>=0.2.0 in /usr/local/lib/python3.11/dist-packages (from aiohttp->datasets) (0.3.1)\n",
            "Requirement already satisfied: yarl<2.0,>=1.17.0 in /usr/local/lib/python3.11/dist-packages (from aiohttp->datasets) (1.18.3)\n",
            "Requirement already satisfied: typing-extensions>=3.7.4.3 in /usr/local/lib/python3.11/dist-packages (from huggingface-hub>=0.24.0->datasets) (4.13.1)\n",
            "Requirement already satisfied: charset-normalizer<4,>=2 in /usr/local/lib/python3.11/dist-packages (from requests>=2.32.2->datasets) (3.4.1)\n",
            "Requirement already satisfied: idna<4,>=2.5 in /usr/local/lib/python3.11/dist-packages (from requests>=2.32.2->datasets) (3.10)\n",
            "Requirement already satisfied: urllib3<3,>=1.21.1 in /usr/local/lib/python3.11/dist-packages (from requests>=2.32.2->datasets) (2.3.0)\n",
            "Requirement already satisfied: certifi>=2017.4.17 in /usr/local/lib/python3.11/dist-packages (from requests>=2.32.2->datasets) (2025.1.31)\n",
            "Requirement already satisfied: python-dateutil>=2.8.2 in /usr/local/lib/python3.11/dist-packages (from pandas->datasets) (2.8.2)\n",
            "Requirement already satisfied: pytz>=2020.1 in /usr/local/lib/python3.11/dist-packages (from pandas->datasets) (2025.2)\n",
            "Requirement already satisfied: tzdata>=2022.7 in /usr/local/lib/python3.11/dist-packages (from pandas->datasets) (2025.2)\n",
            "Requirement already satisfied: six>=1.5 in /usr/local/lib/python3.11/dist-packages (from python-dateutil>=2.8.2->pandas->datasets) (1.17.0)\n",
            "Requirement already satisfied: pomegranate in /usr/local/lib/python3.11/dist-packages (1.1.2)\n",
            "Requirement already satisfied: numpy>=1.22.2 in /usr/local/lib/python3.11/dist-packages (from pomegranate) (2.0.2)\n",
            "Requirement already satisfied: scipy>=1.6.2 in /usr/local/lib/python3.11/dist-packages (from pomegranate) (1.14.1)\n",
            "Requirement already satisfied: scikit-learn>=1.0.2 in /usr/local/lib/python3.11/dist-packages (from pomegranate) (1.6.1)\n",
            "Requirement already satisfied: torch>=1.9.0 in /usr/local/lib/python3.11/dist-packages (from pomegranate) (2.6.0+cu124)\n",
            "Requirement already satisfied: apricot-select>=0.6.1 in /usr/local/lib/python3.11/dist-packages (from pomegranate) (0.6.1)\n",
            "Requirement already satisfied: networkx>=2.8.4 in /usr/local/lib/python3.11/dist-packages (from pomegranate) (3.4.2)\n",
            "Requirement already satisfied: numba>=0.43.0 in /usr/local/lib/python3.11/dist-packages (from apricot-select>=0.6.1->pomegranate) (0.60.0)\n",
            "Requirement already satisfied: tqdm>=4.24.0 in /usr/local/lib/python3.11/dist-packages (from apricot-select>=0.6.1->pomegranate) (4.67.1)\n",
            "Requirement already satisfied: nose in /usr/local/lib/python3.11/dist-packages (from apricot-select>=0.6.1->pomegranate) (1.3.7)\n",
            "Requirement already satisfied: joblib>=1.2.0 in /usr/local/lib/python3.11/dist-packages (from scikit-learn>=1.0.2->pomegranate) (1.4.2)\n",
            "Requirement already satisfied: threadpoolctl>=3.1.0 in /usr/local/lib/python3.11/dist-packages (from scikit-learn>=1.0.2->pomegranate) (3.6.0)\n",
            "Requirement already satisfied: filelock in /usr/local/lib/python3.11/dist-packages (from torch>=1.9.0->pomegranate) (3.18.0)\n",
            "Requirement already satisfied: typing-extensions>=4.10.0 in /usr/local/lib/python3.11/dist-packages (from torch>=1.9.0->pomegranate) (4.13.1)\n",
            "Requirement already satisfied: jinja2 in /usr/local/lib/python3.11/dist-packages (from torch>=1.9.0->pomegranate) (3.1.6)\n",
            "Requirement already satisfied: fsspec in /usr/local/lib/python3.11/dist-packages (from torch>=1.9.0->pomegranate) (2024.12.0)\n",
            "Requirement already satisfied: nvidia-cuda-nvrtc-cu12==12.4.127 in /usr/local/lib/python3.11/dist-packages (from torch>=1.9.0->pomegranate) (12.4.127)\n",
            "Requirement already satisfied: nvidia-cuda-runtime-cu12==12.4.127 in /usr/local/lib/python3.11/dist-packages (from torch>=1.9.0->pomegranate) (12.4.127)\n",
            "Requirement already satisfied: nvidia-cuda-cupti-cu12==12.4.127 in /usr/local/lib/python3.11/dist-packages (from torch>=1.9.0->pomegranate) (12.4.127)\n",
            "Requirement already satisfied: nvidia-cudnn-cu12==9.1.0.70 in /usr/local/lib/python3.11/dist-packages (from torch>=1.9.0->pomegranate) (9.1.0.70)\n",
            "Requirement already satisfied: nvidia-cublas-cu12==12.4.5.8 in /usr/local/lib/python3.11/dist-packages (from torch>=1.9.0->pomegranate) (12.4.5.8)\n",
            "Requirement already satisfied: nvidia-cufft-cu12==11.2.1.3 in /usr/local/lib/python3.11/dist-packages (from torch>=1.9.0->pomegranate) (11.2.1.3)\n",
            "Requirement already satisfied: nvidia-curand-cu12==10.3.5.147 in /usr/local/lib/python3.11/dist-packages (from torch>=1.9.0->pomegranate) (10.3.5.147)\n",
            "Requirement already satisfied: nvidia-cusolver-cu12==11.6.1.9 in /usr/local/lib/python3.11/dist-packages (from torch>=1.9.0->pomegranate) (11.6.1.9)\n",
            "Requirement already satisfied: nvidia-cusparse-cu12==12.3.1.170 in /usr/local/lib/python3.11/dist-packages (from torch>=1.9.0->pomegranate) (12.3.1.170)\n",
            "Requirement already satisfied: nvidia-cusparselt-cu12==0.6.2 in /usr/local/lib/python3.11/dist-packages (from torch>=1.9.0->pomegranate) (0.6.2)\n",
            "Requirement already satisfied: nvidia-nccl-cu12==2.21.5 in /usr/local/lib/python3.11/dist-packages (from torch>=1.9.0->pomegranate) (2.21.5)\n",
            "Requirement already satisfied: nvidia-nvtx-cu12==12.4.127 in /usr/local/lib/python3.11/dist-packages (from torch>=1.9.0->pomegranate) (12.4.127)\n",
            "Requirement already satisfied: nvidia-nvjitlink-cu12==12.4.127 in /usr/local/lib/python3.11/dist-packages (from torch>=1.9.0->pomegranate) (12.4.127)\n",
            "Requirement already satisfied: triton==3.2.0 in /usr/local/lib/python3.11/dist-packages (from torch>=1.9.0->pomegranate) (3.2.0)\n",
            "Requirement already satisfied: sympy==1.13.1 in /usr/local/lib/python3.11/dist-packages (from torch>=1.9.0->pomegranate) (1.13.1)\n",
            "Requirement already satisfied: mpmath<1.4,>=1.1.0 in /usr/local/lib/python3.11/dist-packages (from sympy==1.13.1->torch>=1.9.0->pomegranate) (1.3.0)\n",
            "Requirement already satisfied: llvmlite<0.44,>=0.43.0dev0 in /usr/local/lib/python3.11/dist-packages (from numba>=0.43.0->apricot-select>=0.6.1->pomegranate) (0.43.0)\n",
            "Requirement already satisfied: MarkupSafe>=2.0 in /usr/local/lib/python3.11/dist-packages (from jinja2->torch>=1.9.0->pomegranate) (3.0.2)\n"
          ]
        }
      ]
    },
    {
      "cell_type": "code",
      "execution_count": 4,
      "id": "e87a1d77-52bc-41b1-885d-f4e37f876990",
      "metadata": {
        "id": "e87a1d77-52bc-41b1-885d-f4e37f876990"
      },
      "outputs": [],
      "source": [
        "import pandas as pd\n",
        "from datasets import Dataset\n",
        "from collections import Counter, defaultdict, namedtuple\n",
        "# from pomegranate import HiddenMarkovModel, DiscreteDistribution"
      ]
    },
    {
      "cell_type": "markdown",
      "id": "b952b0b0-f171-481e-934a-2dfe6153d15f",
      "metadata": {
        "id": "b952b0b0-f171-481e-934a-2dfe6153d15f"
      },
      "source": [
        "# Data Pre-processing"
      ]
    },
    {
      "cell_type": "code",
      "source": [
        "from google.colab import drive\n",
        "drive.mount('/content/drive')"
      ],
      "metadata": {
        "id": "us8n5EI-a3W-",
        "outputId": "09f50af8-e4c9-472d-c497-1fbbd4938ea5",
        "colab": {
          "base_uri": "https://localhost:8080/"
        }
      },
      "id": "us8n5EI-a3W-",
      "execution_count": 5,
      "outputs": [
        {
          "output_type": "stream",
          "name": "stdout",
          "text": [
            "Drive already mounted at /content/drive; to attempt to forcibly remount, call drive.mount(\"/content/drive\", force_remount=True).\n"
          ]
        }
      ]
    },
    {
      "cell_type": "code",
      "execution_count": 6,
      "id": "c7e8c0f7-9c6c-47e8-8592-6d5f6a08d8cc",
      "metadata": {
        "id": "c7e8c0f7-9c6c-47e8-8592-6d5f6a08d8cc",
        "outputId": "6c90f80e-8a5d-483d-dbbc-e49adf4fdcb8",
        "colab": {
          "base_uri": "https://localhost:8080/",
          "height": 143
        }
      },
      "outputs": [
        {
          "output_type": "execute_result",
          "data": {
            "text/plain": [
              "       TOKEN            UPOS MORPH ANALYSIS\n",
              "0      TOKEN  MORPH ANALYSIS           UPOS\n",
              "1  Ukwengeza    u-kw-engez-a              V\n",
              "2    kulokhu        ku-lokhu           CDEM"
            ],
            "text/html": [
              "\n",
              "  <div id=\"df-1b7a7504-cf18-41a4-95d2-a53b4c7119ca\" class=\"colab-df-container\">\n",
              "    <div>\n",
              "<style scoped>\n",
              "    .dataframe tbody tr th:only-of-type {\n",
              "        vertical-align: middle;\n",
              "    }\n",
              "\n",
              "    .dataframe tbody tr th {\n",
              "        vertical-align: top;\n",
              "    }\n",
              "\n",
              "    .dataframe thead th {\n",
              "        text-align: right;\n",
              "    }\n",
              "</style>\n",
              "<table border=\"1\" class=\"dataframe\">\n",
              "  <thead>\n",
              "    <tr style=\"text-align: right;\">\n",
              "      <th></th>\n",
              "      <th>TOKEN</th>\n",
              "      <th>UPOS</th>\n",
              "      <th>MORPH ANALYSIS</th>\n",
              "    </tr>\n",
              "  </thead>\n",
              "  <tbody>\n",
              "    <tr>\n",
              "      <th>0</th>\n",
              "      <td>TOKEN</td>\n",
              "      <td>MORPH ANALYSIS</td>\n",
              "      <td>UPOS</td>\n",
              "    </tr>\n",
              "    <tr>\n",
              "      <th>1</th>\n",
              "      <td>Ukwengeza</td>\n",
              "      <td>u-kw-engez-a</td>\n",
              "      <td>V</td>\n",
              "    </tr>\n",
              "    <tr>\n",
              "      <th>2</th>\n",
              "      <td>kulokhu</td>\n",
              "      <td>ku-lokhu</td>\n",
              "      <td>CDEM</td>\n",
              "    </tr>\n",
              "  </tbody>\n",
              "</table>\n",
              "</div>\n",
              "    <div class=\"colab-df-buttons\">\n",
              "\n",
              "  <div class=\"colab-df-container\">\n",
              "    <button class=\"colab-df-convert\" onclick=\"convertToInteractive('df-1b7a7504-cf18-41a4-95d2-a53b4c7119ca')\"\n",
              "            title=\"Convert this dataframe to an interactive table.\"\n",
              "            style=\"display:none;\">\n",
              "\n",
              "  <svg xmlns=\"http://www.w3.org/2000/svg\" height=\"24px\" viewBox=\"0 -960 960 960\">\n",
              "    <path d=\"M120-120v-720h720v720H120Zm60-500h600v-160H180v160Zm220 220h160v-160H400v160Zm0 220h160v-160H400v160ZM180-400h160v-160H180v160Zm440 0h160v-160H620v160ZM180-180h160v-160H180v160Zm440 0h160v-160H620v160Z\"/>\n",
              "  </svg>\n",
              "    </button>\n",
              "\n",
              "  <style>\n",
              "    .colab-df-container {\n",
              "      display:flex;\n",
              "      gap: 12px;\n",
              "    }\n",
              "\n",
              "    .colab-df-convert {\n",
              "      background-color: #E8F0FE;\n",
              "      border: none;\n",
              "      border-radius: 50%;\n",
              "      cursor: pointer;\n",
              "      display: none;\n",
              "      fill: #1967D2;\n",
              "      height: 32px;\n",
              "      padding: 0 0 0 0;\n",
              "      width: 32px;\n",
              "    }\n",
              "\n",
              "    .colab-df-convert:hover {\n",
              "      background-color: #E2EBFA;\n",
              "      box-shadow: 0px 1px 2px rgba(60, 64, 67, 0.3), 0px 1px 3px 1px rgba(60, 64, 67, 0.15);\n",
              "      fill: #174EA6;\n",
              "    }\n",
              "\n",
              "    .colab-df-buttons div {\n",
              "      margin-bottom: 4px;\n",
              "    }\n",
              "\n",
              "    [theme=dark] .colab-df-convert {\n",
              "      background-color: #3B4455;\n",
              "      fill: #D2E3FC;\n",
              "    }\n",
              "\n",
              "    [theme=dark] .colab-df-convert:hover {\n",
              "      background-color: #434B5C;\n",
              "      box-shadow: 0px 1px 3px 1px rgba(0, 0, 0, 0.15);\n",
              "      filter: drop-shadow(0px 1px 2px rgba(0, 0, 0, 0.3));\n",
              "      fill: #FFFFFF;\n",
              "    }\n",
              "  </style>\n",
              "\n",
              "    <script>\n",
              "      const buttonEl =\n",
              "        document.querySelector('#df-1b7a7504-cf18-41a4-95d2-a53b4c7119ca button.colab-df-convert');\n",
              "      buttonEl.style.display =\n",
              "        google.colab.kernel.accessAllowed ? 'block' : 'none';\n",
              "\n",
              "      async function convertToInteractive(key) {\n",
              "        const element = document.querySelector('#df-1b7a7504-cf18-41a4-95d2-a53b4c7119ca');\n",
              "        const dataTable =\n",
              "          await google.colab.kernel.invokeFunction('convertToInteractive',\n",
              "                                                    [key], {});\n",
              "        if (!dataTable) return;\n",
              "\n",
              "        const docLinkHtml = 'Like what you see? Visit the ' +\n",
              "          '<a target=\"_blank\" href=https://colab.research.google.com/notebooks/data_table.ipynb>data table notebook</a>'\n",
              "          + ' to learn more about interactive tables.';\n",
              "        element.innerHTML = '';\n",
              "        dataTable['output_type'] = 'display_data';\n",
              "        await google.colab.output.renderOutput(dataTable, element);\n",
              "        const docLink = document.createElement('div');\n",
              "        docLink.innerHTML = docLinkHtml;\n",
              "        element.appendChild(docLink);\n",
              "      }\n",
              "    </script>\n",
              "  </div>\n",
              "\n",
              "\n",
              "<div id=\"df-67801b65-37ee-444f-a2b4-a779b98c5c28\">\n",
              "  <button class=\"colab-df-quickchart\" onclick=\"quickchart('df-67801b65-37ee-444f-a2b4-a779b98c5c28')\"\n",
              "            title=\"Suggest charts\"\n",
              "            style=\"display:none;\">\n",
              "\n",
              "<svg xmlns=\"http://www.w3.org/2000/svg\" height=\"24px\"viewBox=\"0 0 24 24\"\n",
              "     width=\"24px\">\n",
              "    <g>\n",
              "        <path d=\"M19 3H5c-1.1 0-2 .9-2 2v14c0 1.1.9 2 2 2h14c1.1 0 2-.9 2-2V5c0-1.1-.9-2-2-2zM9 17H7v-7h2v7zm4 0h-2V7h2v10zm4 0h-2v-4h2v4z\"/>\n",
              "    </g>\n",
              "</svg>\n",
              "  </button>\n",
              "\n",
              "<style>\n",
              "  .colab-df-quickchart {\n",
              "      --bg-color: #E8F0FE;\n",
              "      --fill-color: #1967D2;\n",
              "      --hover-bg-color: #E2EBFA;\n",
              "      --hover-fill-color: #174EA6;\n",
              "      --disabled-fill-color: #AAA;\n",
              "      --disabled-bg-color: #DDD;\n",
              "  }\n",
              "\n",
              "  [theme=dark] .colab-df-quickchart {\n",
              "      --bg-color: #3B4455;\n",
              "      --fill-color: #D2E3FC;\n",
              "      --hover-bg-color: #434B5C;\n",
              "      --hover-fill-color: #FFFFFF;\n",
              "      --disabled-bg-color: #3B4455;\n",
              "      --disabled-fill-color: #666;\n",
              "  }\n",
              "\n",
              "  .colab-df-quickchart {\n",
              "    background-color: var(--bg-color);\n",
              "    border: none;\n",
              "    border-radius: 50%;\n",
              "    cursor: pointer;\n",
              "    display: none;\n",
              "    fill: var(--fill-color);\n",
              "    height: 32px;\n",
              "    padding: 0;\n",
              "    width: 32px;\n",
              "  }\n",
              "\n",
              "  .colab-df-quickchart:hover {\n",
              "    background-color: var(--hover-bg-color);\n",
              "    box-shadow: 0 1px 2px rgba(60, 64, 67, 0.3), 0 1px 3px 1px rgba(60, 64, 67, 0.15);\n",
              "    fill: var(--button-hover-fill-color);\n",
              "  }\n",
              "\n",
              "  .colab-df-quickchart-complete:disabled,\n",
              "  .colab-df-quickchart-complete:disabled:hover {\n",
              "    background-color: var(--disabled-bg-color);\n",
              "    fill: var(--disabled-fill-color);\n",
              "    box-shadow: none;\n",
              "  }\n",
              "\n",
              "  .colab-df-spinner {\n",
              "    border: 2px solid var(--fill-color);\n",
              "    border-color: transparent;\n",
              "    border-bottom-color: var(--fill-color);\n",
              "    animation:\n",
              "      spin 1s steps(1) infinite;\n",
              "  }\n",
              "\n",
              "  @keyframes spin {\n",
              "    0% {\n",
              "      border-color: transparent;\n",
              "      border-bottom-color: var(--fill-color);\n",
              "      border-left-color: var(--fill-color);\n",
              "    }\n",
              "    20% {\n",
              "      border-color: transparent;\n",
              "      border-left-color: var(--fill-color);\n",
              "      border-top-color: var(--fill-color);\n",
              "    }\n",
              "    30% {\n",
              "      border-color: transparent;\n",
              "      border-left-color: var(--fill-color);\n",
              "      border-top-color: var(--fill-color);\n",
              "      border-right-color: var(--fill-color);\n",
              "    }\n",
              "    40% {\n",
              "      border-color: transparent;\n",
              "      border-right-color: var(--fill-color);\n",
              "      border-top-color: var(--fill-color);\n",
              "    }\n",
              "    60% {\n",
              "      border-color: transparent;\n",
              "      border-right-color: var(--fill-color);\n",
              "    }\n",
              "    80% {\n",
              "      border-color: transparent;\n",
              "      border-right-color: var(--fill-color);\n",
              "      border-bottom-color: var(--fill-color);\n",
              "    }\n",
              "    90% {\n",
              "      border-color: transparent;\n",
              "      border-bottom-color: var(--fill-color);\n",
              "    }\n",
              "  }\n",
              "</style>\n",
              "\n",
              "  <script>\n",
              "    async function quickchart(key) {\n",
              "      const quickchartButtonEl =\n",
              "        document.querySelector('#' + key + ' button');\n",
              "      quickchartButtonEl.disabled = true;  // To prevent multiple clicks.\n",
              "      quickchartButtonEl.classList.add('colab-df-spinner');\n",
              "      try {\n",
              "        const charts = await google.colab.kernel.invokeFunction(\n",
              "            'suggestCharts', [key], {});\n",
              "      } catch (error) {\n",
              "        console.error('Error during call to suggestCharts:', error);\n",
              "      }\n",
              "      quickchartButtonEl.classList.remove('colab-df-spinner');\n",
              "      quickchartButtonEl.classList.add('colab-df-quickchart-complete');\n",
              "    }\n",
              "    (() => {\n",
              "      let quickchartButtonEl =\n",
              "        document.querySelector('#df-67801b65-37ee-444f-a2b4-a779b98c5c28 button');\n",
              "      quickchartButtonEl.style.display =\n",
              "        google.colab.kernel.accessAllowed ? 'block' : 'none';\n",
              "    })();\n",
              "  </script>\n",
              "</div>\n",
              "\n",
              "    </div>\n",
              "  </div>\n"
            ],
            "application/vnd.google.colaboratory.intrinsic+json": {
              "type": "dataframe",
              "variable_name": "df",
              "summary": "{\n  \"name\": \"df\",\n  \"rows\": 49098,\n  \"fields\": [\n    {\n      \"column\": \"TOKEN\",\n      \"properties\": {\n        \"dtype\": \"category\",\n        \"num_unique_values\": 14338,\n        \"samples\": [\n          \"uMthetho\",\n          \"PERFORMANCE\",\n          \"bamelelekile\"\n        ],\n        \"semantic_type\": \"\",\n        \"description\": \"\"\n      }\n    },\n    {\n      \"column\": \"UPOS\",\n      \"properties\": {\n        \"dtype\": \"category\",\n        \"num_unique_values\": 14666,\n        \"samples\": [\n          \"lena\",\n          \"na-i-si-hlobo\",\n          \"oku-nga-ku-th-i\"\n        ],\n        \"semantic_type\": \"\",\n        \"description\": \"\"\n      }\n    },\n    {\n      \"column\": \"MORPH ANALYSIS\",\n      \"properties\": {\n        \"dtype\": \"category\",\n        \"num_unique_values\": 17,\n        \"samples\": [\n          \"UPOS\",\n          \"V\",\n          \"ADV\"\n        ],\n        \"semantic_type\": \"\",\n        \"description\": \"\"\n      }\n    }\n  ]\n}"
            }
          },
          "metadata": {},
          "execution_count": 6
        }
      ],
      "source": [
        "# --- Function to handle bad lines ---\n",
        "def handle_bad_lines(line):\n",
        "    fields = line.strip().split('\\t')\n",
        "    if len(fields) == 3:  # Expected format\n",
        "        return fields\n",
        "    elif len(fields) == 4: # Handle 4-field lines\n",
        "        # This handles the cases you specified\n",
        "        # You might need to adjust based on your data structure\n",
        "        return [fields[0], fields[1], ' '.join(fields[2:])]\n",
        "    else:\n",
        "        return None  # Skip lines with other formats\n",
        "\n",
        "# --- Read the CSV, handling bad lines with a custom function ---\n",
        "with open(\"/content/drive/MyDrive/dataset/zu.gold.seg.data\", 'r', encoding='utf-8') as file:\n",
        "    data_lines = [handle_bad_lines(line) for line in file]\n",
        "    data_lines = [line for line in data_lines if line is not None] # Remove skipped lines\n",
        "\n",
        "# --- Create DataFrame ---\n",
        "df = pd.DataFrame(data_lines, columns=['TOKEN', 'UPOS', 'MORPH ANALYSIS'])\n",
        "df.head(3)"
      ]
    },
    {
      "cell_type": "code",
      "execution_count": 7,
      "id": "0f16a958-cea8-421b-8e86-ae3408beb76b",
      "metadata": {
        "id": "0f16a958-cea8-421b-8e86-ae3408beb76b",
        "outputId": "234b15dc-8b9e-4525-e52b-01840009ec8f",
        "colab": {
          "base_uri": "https://localhost:8080/",
          "height": 363
        }
      },
      "outputs": [
        {
          "output_type": "execute_result",
          "data": {
            "text/plain": [
              "        TOKEN            UPOS\n",
              "0       token  MORPH ANALYSIS\n",
              "1   ukwengeza    u-kw-engez-a\n",
              "2     kulokhu        ku-lokhu\n",
              "3           ,               ,\n",
              "4  imibandela    i-mi-bandela\n",
              "5    iyenziwa   i-ye-enz-iw-a\n",
              "6     ukwakha      u-kw-akh-a\n",
              "7   amakomiti     a-ma-komiti\n",
              "8     amawadi       a-ma-wadi\n",
              "9           ,               ,"
            ],
            "text/html": [
              "\n",
              "  <div id=\"df-e98ea1c5-c5f3-4b62-b2ee-0228470db7a2\" class=\"colab-df-container\">\n",
              "    <div>\n",
              "<style scoped>\n",
              "    .dataframe tbody tr th:only-of-type {\n",
              "        vertical-align: middle;\n",
              "    }\n",
              "\n",
              "    .dataframe tbody tr th {\n",
              "        vertical-align: top;\n",
              "    }\n",
              "\n",
              "    .dataframe thead th {\n",
              "        text-align: right;\n",
              "    }\n",
              "</style>\n",
              "<table border=\"1\" class=\"dataframe\">\n",
              "  <thead>\n",
              "    <tr style=\"text-align: right;\">\n",
              "      <th></th>\n",
              "      <th>TOKEN</th>\n",
              "      <th>UPOS</th>\n",
              "    </tr>\n",
              "  </thead>\n",
              "  <tbody>\n",
              "    <tr>\n",
              "      <th>0</th>\n",
              "      <td>token</td>\n",
              "      <td>MORPH ANALYSIS</td>\n",
              "    </tr>\n",
              "    <tr>\n",
              "      <th>1</th>\n",
              "      <td>ukwengeza</td>\n",
              "      <td>u-kw-engez-a</td>\n",
              "    </tr>\n",
              "    <tr>\n",
              "      <th>2</th>\n",
              "      <td>kulokhu</td>\n",
              "      <td>ku-lokhu</td>\n",
              "    </tr>\n",
              "    <tr>\n",
              "      <th>3</th>\n",
              "      <td>,</td>\n",
              "      <td>,</td>\n",
              "    </tr>\n",
              "    <tr>\n",
              "      <th>4</th>\n",
              "      <td>imibandela</td>\n",
              "      <td>i-mi-bandela</td>\n",
              "    </tr>\n",
              "    <tr>\n",
              "      <th>5</th>\n",
              "      <td>iyenziwa</td>\n",
              "      <td>i-ye-enz-iw-a</td>\n",
              "    </tr>\n",
              "    <tr>\n",
              "      <th>6</th>\n",
              "      <td>ukwakha</td>\n",
              "      <td>u-kw-akh-a</td>\n",
              "    </tr>\n",
              "    <tr>\n",
              "      <th>7</th>\n",
              "      <td>amakomiti</td>\n",
              "      <td>a-ma-komiti</td>\n",
              "    </tr>\n",
              "    <tr>\n",
              "      <th>8</th>\n",
              "      <td>amawadi</td>\n",
              "      <td>a-ma-wadi</td>\n",
              "    </tr>\n",
              "    <tr>\n",
              "      <th>9</th>\n",
              "      <td>,</td>\n",
              "      <td>,</td>\n",
              "    </tr>\n",
              "  </tbody>\n",
              "</table>\n",
              "</div>\n",
              "    <div class=\"colab-df-buttons\">\n",
              "\n",
              "  <div class=\"colab-df-container\">\n",
              "    <button class=\"colab-df-convert\" onclick=\"convertToInteractive('df-e98ea1c5-c5f3-4b62-b2ee-0228470db7a2')\"\n",
              "            title=\"Convert this dataframe to an interactive table.\"\n",
              "            style=\"display:none;\">\n",
              "\n",
              "  <svg xmlns=\"http://www.w3.org/2000/svg\" height=\"24px\" viewBox=\"0 -960 960 960\">\n",
              "    <path d=\"M120-120v-720h720v720H120Zm60-500h600v-160H180v160Zm220 220h160v-160H400v160Zm0 220h160v-160H400v160ZM180-400h160v-160H180v160Zm440 0h160v-160H620v160ZM180-180h160v-160H180v160Zm440 0h160v-160H620v160Z\"/>\n",
              "  </svg>\n",
              "    </button>\n",
              "\n",
              "  <style>\n",
              "    .colab-df-container {\n",
              "      display:flex;\n",
              "      gap: 12px;\n",
              "    }\n",
              "\n",
              "    .colab-df-convert {\n",
              "      background-color: #E8F0FE;\n",
              "      border: none;\n",
              "      border-radius: 50%;\n",
              "      cursor: pointer;\n",
              "      display: none;\n",
              "      fill: #1967D2;\n",
              "      height: 32px;\n",
              "      padding: 0 0 0 0;\n",
              "      width: 32px;\n",
              "    }\n",
              "\n",
              "    .colab-df-convert:hover {\n",
              "      background-color: #E2EBFA;\n",
              "      box-shadow: 0px 1px 2px rgba(60, 64, 67, 0.3), 0px 1px 3px 1px rgba(60, 64, 67, 0.15);\n",
              "      fill: #174EA6;\n",
              "    }\n",
              "\n",
              "    .colab-df-buttons div {\n",
              "      margin-bottom: 4px;\n",
              "    }\n",
              "\n",
              "    [theme=dark] .colab-df-convert {\n",
              "      background-color: #3B4455;\n",
              "      fill: #D2E3FC;\n",
              "    }\n",
              "\n",
              "    [theme=dark] .colab-df-convert:hover {\n",
              "      background-color: #434B5C;\n",
              "      box-shadow: 0px 1px 3px 1px rgba(0, 0, 0, 0.15);\n",
              "      filter: drop-shadow(0px 1px 2px rgba(0, 0, 0, 0.3));\n",
              "      fill: #FFFFFF;\n",
              "    }\n",
              "  </style>\n",
              "\n",
              "    <script>\n",
              "      const buttonEl =\n",
              "        document.querySelector('#df-e98ea1c5-c5f3-4b62-b2ee-0228470db7a2 button.colab-df-convert');\n",
              "      buttonEl.style.display =\n",
              "        google.colab.kernel.accessAllowed ? 'block' : 'none';\n",
              "\n",
              "      async function convertToInteractive(key) {\n",
              "        const element = document.querySelector('#df-e98ea1c5-c5f3-4b62-b2ee-0228470db7a2');\n",
              "        const dataTable =\n",
              "          await google.colab.kernel.invokeFunction('convertToInteractive',\n",
              "                                                    [key], {});\n",
              "        if (!dataTable) return;\n",
              "\n",
              "        const docLinkHtml = 'Like what you see? Visit the ' +\n",
              "          '<a target=\"_blank\" href=https://colab.research.google.com/notebooks/data_table.ipynb>data table notebook</a>'\n",
              "          + ' to learn more about interactive tables.';\n",
              "        element.innerHTML = '';\n",
              "        dataTable['output_type'] = 'display_data';\n",
              "        await google.colab.output.renderOutput(dataTable, element);\n",
              "        const docLink = document.createElement('div');\n",
              "        docLink.innerHTML = docLinkHtml;\n",
              "        element.appendChild(docLink);\n",
              "      }\n",
              "    </script>\n",
              "  </div>\n",
              "\n",
              "\n",
              "<div id=\"df-416d04a7-db5f-4968-a461-ffa0717426cf\">\n",
              "  <button class=\"colab-df-quickchart\" onclick=\"quickchart('df-416d04a7-db5f-4968-a461-ffa0717426cf')\"\n",
              "            title=\"Suggest charts\"\n",
              "            style=\"display:none;\">\n",
              "\n",
              "<svg xmlns=\"http://www.w3.org/2000/svg\" height=\"24px\"viewBox=\"0 0 24 24\"\n",
              "     width=\"24px\">\n",
              "    <g>\n",
              "        <path d=\"M19 3H5c-1.1 0-2 .9-2 2v14c0 1.1.9 2 2 2h14c1.1 0 2-.9 2-2V5c0-1.1-.9-2-2-2zM9 17H7v-7h2v7zm4 0h-2V7h2v10zm4 0h-2v-4h2v4z\"/>\n",
              "    </g>\n",
              "</svg>\n",
              "  </button>\n",
              "\n",
              "<style>\n",
              "  .colab-df-quickchart {\n",
              "      --bg-color: #E8F0FE;\n",
              "      --fill-color: #1967D2;\n",
              "      --hover-bg-color: #E2EBFA;\n",
              "      --hover-fill-color: #174EA6;\n",
              "      --disabled-fill-color: #AAA;\n",
              "      --disabled-bg-color: #DDD;\n",
              "  }\n",
              "\n",
              "  [theme=dark] .colab-df-quickchart {\n",
              "      --bg-color: #3B4455;\n",
              "      --fill-color: #D2E3FC;\n",
              "      --hover-bg-color: #434B5C;\n",
              "      --hover-fill-color: #FFFFFF;\n",
              "      --disabled-bg-color: #3B4455;\n",
              "      --disabled-fill-color: #666;\n",
              "  }\n",
              "\n",
              "  .colab-df-quickchart {\n",
              "    background-color: var(--bg-color);\n",
              "    border: none;\n",
              "    border-radius: 50%;\n",
              "    cursor: pointer;\n",
              "    display: none;\n",
              "    fill: var(--fill-color);\n",
              "    height: 32px;\n",
              "    padding: 0;\n",
              "    width: 32px;\n",
              "  }\n",
              "\n",
              "  .colab-df-quickchart:hover {\n",
              "    background-color: var(--hover-bg-color);\n",
              "    box-shadow: 0 1px 2px rgba(60, 64, 67, 0.3), 0 1px 3px 1px rgba(60, 64, 67, 0.15);\n",
              "    fill: var(--button-hover-fill-color);\n",
              "  }\n",
              "\n",
              "  .colab-df-quickchart-complete:disabled,\n",
              "  .colab-df-quickchart-complete:disabled:hover {\n",
              "    background-color: var(--disabled-bg-color);\n",
              "    fill: var(--disabled-fill-color);\n",
              "    box-shadow: none;\n",
              "  }\n",
              "\n",
              "  .colab-df-spinner {\n",
              "    border: 2px solid var(--fill-color);\n",
              "    border-color: transparent;\n",
              "    border-bottom-color: var(--fill-color);\n",
              "    animation:\n",
              "      spin 1s steps(1) infinite;\n",
              "  }\n",
              "\n",
              "  @keyframes spin {\n",
              "    0% {\n",
              "      border-color: transparent;\n",
              "      border-bottom-color: var(--fill-color);\n",
              "      border-left-color: var(--fill-color);\n",
              "    }\n",
              "    20% {\n",
              "      border-color: transparent;\n",
              "      border-left-color: var(--fill-color);\n",
              "      border-top-color: var(--fill-color);\n",
              "    }\n",
              "    30% {\n",
              "      border-color: transparent;\n",
              "      border-left-color: var(--fill-color);\n",
              "      border-top-color: var(--fill-color);\n",
              "      border-right-color: var(--fill-color);\n",
              "    }\n",
              "    40% {\n",
              "      border-color: transparent;\n",
              "      border-right-color: var(--fill-color);\n",
              "      border-top-color: var(--fill-color);\n",
              "    }\n",
              "    60% {\n",
              "      border-color: transparent;\n",
              "      border-right-color: var(--fill-color);\n",
              "    }\n",
              "    80% {\n",
              "      border-color: transparent;\n",
              "      border-right-color: var(--fill-color);\n",
              "      border-bottom-color: var(--fill-color);\n",
              "    }\n",
              "    90% {\n",
              "      border-color: transparent;\n",
              "      border-bottom-color: var(--fill-color);\n",
              "    }\n",
              "  }\n",
              "</style>\n",
              "\n",
              "  <script>\n",
              "    async function quickchart(key) {\n",
              "      const quickchartButtonEl =\n",
              "        document.querySelector('#' + key + ' button');\n",
              "      quickchartButtonEl.disabled = true;  // To prevent multiple clicks.\n",
              "      quickchartButtonEl.classList.add('colab-df-spinner');\n",
              "      try {\n",
              "        const charts = await google.colab.kernel.invokeFunction(\n",
              "            'suggestCharts', [key], {});\n",
              "      } catch (error) {\n",
              "        console.error('Error during call to suggestCharts:', error);\n",
              "      }\n",
              "      quickchartButtonEl.classList.remove('colab-df-spinner');\n",
              "      quickchartButtonEl.classList.add('colab-df-quickchart-complete');\n",
              "    }\n",
              "    (() => {\n",
              "      let quickchartButtonEl =\n",
              "        document.querySelector('#df-416d04a7-db5f-4968-a461-ffa0717426cf button');\n",
              "      quickchartButtonEl.style.display =\n",
              "        google.colab.kernel.accessAllowed ? 'block' : 'none';\n",
              "    })();\n",
              "  </script>\n",
              "</div>\n",
              "\n",
              "    </div>\n",
              "  </div>\n"
            ],
            "application/vnd.google.colaboratory.intrinsic+json": {
              "type": "dataframe",
              "variable_name": "df",
              "summary": "{\n  \"name\": \"df\",\n  \"rows\": 49098,\n  \"fields\": [\n    {\n      \"column\": \"TOKEN\",\n      \"properties\": {\n        \"dtype\": \"category\",\n        \"num_unique_values\": 13011,\n        \"samples\": [\n          \"abaphilayo\",\n          \"ukugxila\",\n          \"zingabazisi\"\n        ],\n        \"semantic_type\": \"\",\n        \"description\": \"\"\n      }\n    },\n    {\n      \"column\": \"UPOS\",\n      \"properties\": {\n        \"dtype\": \"category\",\n        \"num_unique_values\": 14666,\n        \"samples\": [\n          \"lena\",\n          \"na-i-si-hlobo\",\n          \"oku-nga-ku-th-i\"\n        ],\n        \"semantic_type\": \"\",\n        \"description\": \"\"\n      }\n    }\n  ]\n}"
            }
          },
          "metadata": {},
          "execution_count": 7
        }
      ],
      "source": [
        "# drop/remove the MORPH ANALYSIS column\n",
        "df = df.drop(columns=['MORPH ANALYSIS'])\n",
        "\n",
        "# convert all tokens to lowercase for a consistent vocab\n",
        "df['TOKEN'] = [token.lower() for token in df['TOKEN']]\n",
        "df.head(10)"
      ]
    },
    {
      "cell_type": "code",
      "execution_count": 8,
      "id": "790eb4b3-5999-4490-96d2-f56d5e7905aa",
      "metadata": {
        "id": "790eb4b3-5999-4490-96d2-f56d5e7905aa",
        "outputId": "ccc1f993-ca7e-4cbc-ea6c-021adc0c1cd4",
        "colab": {
          "base_uri": "https://localhost:8080/"
        }
      },
      "outputs": [
        {
          "output_type": "stream",
          "name": "stdout",
          "text": [
            "{'TOKEN': Value(dtype='string', id=None), 'UPOS': Value(dtype='string', id=None)}\n"
          ]
        }
      ],
      "source": [
        "# convert panda dataframe to HuggingFace dataset\n",
        "dataset = Dataset.from_pandas(df)\n",
        "print(dataset.features)"
      ]
    },
    {
      "cell_type": "code",
      "execution_count": 9,
      "id": "02b71c6f-79c1-4cf8-b6c8-1f14f77530b0",
      "metadata": {
        "id": "02b71c6f-79c1-4cf8-b6c8-1f14f77530b0",
        "outputId": "c9677fc7-de82-47f9-f753-f0b2c4c204a9",
        "colab": {
          "base_uri": "https://localhost:8080/"
        }
      },
      "outputs": [
        {
          "output_type": "stream",
          "name": "stdout",
          "text": [
            "There are 39278 tokens in the training set.\n",
            "There are 9820 tokens in the testing set.\n",
            "\n",
            "First 3 training tokens:\n",
            "{'TOKEN': ['enkulumweni', 'imihlangano', '-'], 'UPOS': ['e-n-kulumo-ini', 'i-mi-hlangano', '-']}\n",
            "\n",
            "First 3 test tokens:\n",
            "{'TOKEN': ['ukuthi', 'inqubomgomo', 'oluthile'], 'UPOS': ['u-ku-th-i', 'i-n-qubomgomo', 'olu-th-ile']}\n"
          ]
        }
      ],
      "source": [
        "data = dataset.train_test_split(test_size=0.2)\n",
        "\n",
        "print(f\"There are {len(data['train'])} tokens in the training set.\")\n",
        "print(f\"There are {len(data['test'])} tokens in the testing set.\\n\")\n",
        "\n",
        "print(f\"First 3 training tokens:\\n{data['train'][:3]}\\n\")\n",
        "print(f\"First 3 test tokens:\\n{data['test'][:3]}\")"
      ]
    },
    {
      "cell_type": "markdown",
      "id": "6cf418fb-0f3f-4423-aae6-ba584dfe09ed",
      "metadata": {
        "id": "6cf418fb-0f3f-4423-aae6-ba584dfe09ed"
      },
      "source": [
        "# Most Frequent Class Tagger (Base)"
      ]
    },
    {
      "cell_type": "code",
      "execution_count": 11,
      "id": "e63b83e6-da10-417b-8c80-6960cc79469b",
      "metadata": {
        "id": "e63b83e6-da10-417b-8c80-6960cc79469b"
      },
      "outputs": [],
      "source": [
        "\"\"\"A function to map either the tags to the count of words with said tag or\n",
        "the words to the count of tags corresponding to the word.\"\"\"\n",
        "# keys -> list of either tags or words\n",
        "# values -> is a similar, corresponding list\n",
        "def pair_counts(keys, values):\n",
        "    out = defaultdict(Counter)\n",
        "\n",
        "    for key, value in zip(keys, values):\n",
        "        out[key][value] += 1\n",
        "\n",
        "    return {key: dict(value_counts) for key, value_counts in out.items()}"
      ]
    },
    {
      "cell_type": "code",
      "execution_count": 12,
      "id": "ca864e85-e5cf-43f5-a621-779343be2041",
      "metadata": {
        "id": "ca864e85-e5cf-43f5-a621-779343be2041",
        "outputId": "e6a50b43-2c43-4242-d9e1-ecd117dfa39e",
        "colab": {
          "base_uri": "https://localhost:8080/"
        }
      },
      "outputs": [
        {
          "output_type": "stream",
          "name": "stdout",
          "text": [
            "dict_keys(['i-li-qhaza', 'kanye', 'za-u-ku-zi-phil-is-a', ',', 'na-i-nga-biz-i', '.'])\n"
          ]
        }
      ],
      "source": [
        "subset = data['train'].select(range(7))\n",
        "tags = [example['UPOS'] for example in subset]\n",
        "words = (example['TOKEN'] for example in subset)\n",
        "\n",
        "emission_counts = pair_counts(tags, words)\n",
        "print(emission_counts.keys())"
      ]
    },
    {
      "cell_type": "code",
      "execution_count": 13,
      "id": "a1ca9a0c-8298-4d64-82f1-11dd6ce27e6b",
      "metadata": {
        "id": "a1ca9a0c-8298-4d64-82f1-11dd6ce27e6b"
      },
      "outputs": [],
      "source": [
        "\"\"\"MFC model class.\n",
        "FakeState is used as the 'states' are actually strings to mimmick a complete tagger like HMM tagger.\n",
        "FakeState has a named field 'name' which could be a Tag or word.\"\"\"\n",
        "FakeState = namedtuple(\"FakeState\", \"name\")\n",
        "\n",
        "class MFCTagger:\n",
        "    missing = FakeState(name=\"<UNK>\")\n",
        "\n",
        "    def __init__(self, table):\n",
        "        self.table = defaultdict(lambda: MFCTagger.missing)\n",
        "        self.table.update({word: FakeState(name=tag) for word, tag in table.items()})\n",
        "\n",
        "    def viterbi(self, seq):\n",
        "        \"\"\"This method simplifies predictions by matching the Pomegranate viterbi() interface\"\"\"\n",
        "        return 0., list(enumerate([\"<s>\"] + [self.table[w] for w in seq] + [\"</s>\"]))"
      ]
    },
    {
      "cell_type": "code",
      "execution_count": null,
      "id": "f3c711e6-960c-4341-86a7-b660ba37568f",
      "metadata": {
        "id": "f3c711e6-960c-4341-86a7-b660ba37568f"
      },
      "outputs": [],
      "source": [
        "train_set = data['train']\n",
        "test_set = data['test']\n",
        "\n",
        "tags = [example['UPOS'] for example in train_set]\n",
        "words = (example['TOKEN'] for example in train_set)\n",
        "\n",
        "word_counts = pair_counts(words, tags)\n",
        "\n",
        "mfc_table = dict()\n",
        "for word, tags in word_counts.items():\n",
        "    mfc_table[word] = max(tags.keys(), key = lambda key: tags[key])\n",
        "\n",
        "mfc_model = MFCTagger(mfc_table) # Create a Most Frequent Class tagger instance"
      ]
    },
    {
      "cell_type": "code",
      "execution_count": null,
      "id": "3b67ecd9-c61d-4ca6-b670-7df910751e08",
      "metadata": {
        "id": "3b67ecd9-c61d-4ca6-b670-7df910751e08",
        "outputId": "0d0a3841-4ab5-46e1-f2ae-744f42a2229b",
        "colab": {
          "base_uri": "https://localhost:8080/"
        }
      },
      "outputs": [
        {
          "output_type": "stream",
          "name": "stdout",
          "text": [
            "['aba-3', 'aba-4', 'ababacabangeli', 'ababamba', 'ababambe', 'ababambi', 'ababambiqhaza', 'ababambisene', 'ababandakanyeka', 'ababandakanyekayo']\n"
          ]
        }
      ],
      "source": [
        "# function that returns the vocab of a given dataset\n",
        "def vocab(data_s):\n",
        "    vocab = set()\n",
        "    for token in data_s['TOKEN']:\n",
        "        vocab.add(token)\n",
        "    return sorted(vocab)\n",
        "\n",
        "vocab_list = vocab(train_set)\n",
        "\n",
        "# show vocab starting from 50 to hide punct\n",
        "print(vocab_list[50:60])"
      ]
    },
    {
      "cell_type": "code",
      "execution_count": null,
      "id": "9b2ae9ed-9583-45c2-a0ab-d0e4e77c8385",
      "metadata": {
        "id": "9b2ae9ed-9583-45c2-a0ab-d0e4e77c8385"
      },
      "outputs": [],
      "source": [
        "def replace_unknown(sequence):\n",
        "    \"\"\"Return a copy of the input sequence where each unknown word is replaced\n",
        "    by the literal string value 'nan'. Pomegranate will ignore these values\n",
        "    during computation.\n",
        "    \"\"\"\n",
        "    return [w if w in vocab(train_set) else 'nan' for w in sequence]\n",
        "\n",
        "def simplify_decoding(observations, model):\n",
        "    \"\"\"observations are the sequences (words) for the model to predict\"\"\"\n",
        "    _, state_path = model.viterbi(replace_unknown(observations))\n",
        "    return [state[1].name for state in state_path[1:-1]]  # do not show the start/end state predictions"
      ]
    },
    {
      "cell_type": "code",
      "execution_count": null,
      "id": "8909f0e1-bd7a-4b25-8954-585ac067c4a4",
      "metadata": {
        "id": "8909f0e1-bd7a-4b25-8954-585ac067c4a4",
        "outputId": "f9397146-ca7e-458b-aadb-78a2c18d5004",
        "colab": {
          "base_uri": "https://localhost:8080/"
        }
      },
      "outputs": [
        {
          "output_type": "stream",
          "name": "stdout",
          "text": [
            "Predicted labels:\n",
            "-----------------\n",
            "['<UNK>', '<UNK>']\n",
            "\n",
            "Actual labels:\n",
            "--------------\n",
            "['PUNC', 'POSS', 'PUNC', 'N', 'N', 'CDEM', 'N', 'N', 'V', 'N']\n",
            "\n",
            "\n"
          ]
        }
      ],
      "source": [
        "print(\"Predicted labels:\\n-----------------\")\n",
        "print(simplify_decoding(test_set[:20], mfc_model))\n",
        "print()\n",
        "print(\"Actual labels:\\n--------------\")\n",
        "print(test_set['UPOS'][:10])\n",
        "print(\"\\n\")"
      ]
    },
    {
      "cell_type": "markdown",
      "source": [
        "##  **MODELS**"
      ],
      "metadata": {
        "id": "6LK65drZlV8h"
      },
      "id": "6LK65drZlV8h"
    },
    {
      "cell_type": "markdown",
      "source": [
        "##  CRF Model"
      ],
      "metadata": {
        "id": "VG8xUJGPlbBB"
      },
      "id": "VG8xUJGPlbBB"
    },
    {
      "cell_type": "markdown",
      "source": [
        "**1. Feature Extraction**"
      ],
      "metadata": {
        "id": "vqKeLyF6su5D"
      },
      "id": "vqKeLyF6su5D"
    },
    {
      "cell_type": "code",
      "source": [],
      "metadata": {
        "id": "kkZBz2Lf7wLC"
      },
      "id": "kkZBz2Lf7wLC",
      "execution_count": null,
      "outputs": []
    },
    {
      "cell_type": "code",
      "source": [
        "import string\n",
        "\n",
        "def word_shape(word):\n",
        "  shape = ''\n",
        "  for character in word:\n",
        "    if character.isupper():\n",
        "      shape += 'X'\n",
        "    elif character.islower():\n",
        "      shape += 'x'\n",
        "    elif character in string.digits:\n",
        "      shape += 'd'\n",
        "    else:\n",
        "      shape += character\n",
        "  return shape"
      ],
      "metadata": {
        "id": "03UoZEWRuitm"
      },
      "id": "03UoZEWRuitm",
      "execution_count": 10,
      "outputs": []
    },
    {
      "cell_type": "code",
      "source": [
        "def is_noun_class_prefix(word):\n",
        "    noun_prefixes = ['u', 'um', 'aba', 'ama', 'isi', 'izi', 'in', 'izin', 'imi', 'abe', 'umu', 'i', 'ili', 'ama']\n",
        "    return any(word.startswith(prefix) for prefix in noun_prefixes)\n",
        "\n",
        "def vowel_count(word):\n",
        "    return sum(1 for c in word.lower() if c in 'aeiou')\n",
        "\n",
        "\n",
        "def word2features(sentence, i):\n",
        "    current_word = sentence[i][0]\n",
        "\n",
        "    features = {\n",
        "        'bias': 1.0,\n",
        "        'word.lower()': current_word.lower(),\n",
        "        'word.isupper()': current_word.isupper(),\n",
        "        'word.istitle()': current_word.istitle(),\n",
        "        'word.isdigit()': current_word.isdigit(),\n",
        "        'prefix-1': current_word[:1],\n",
        "        'prefix-2': current_word[:2],\n",
        "        'prefix-3': current_word[:3],\n",
        "        'prefix-4': current_word[:4],\n",
        "        'suffix-3': current_word[-3:],\n",
        "        'suffix-4': current_word[-4:],\n",
        "        'word.shape': word_shape(current_word),\n",
        "        'has_noun_class_prefix': is_noun_class_prefix(current_word),\n",
        "        'vowel_count': vowel_count(current_word),\n",
        "        'word.length': len(current_word),\n",
        "        # handle current_word being None:\n",
        "        'starts_with_vowel': current_word[0].lower() in 'aeiou' if current_word and current_word[0] else False,\n",
        "    }\n",
        "\n",
        "    # Handle current_word being None or empty:\n",
        "    features = {k: v for k, v in features.items() if v is not None}  # Remove features with None values\n",
        "\n",
        "    if not current_word:\n",
        "        features['word.is_empty'] = True  # Add a feature for empty words if needed\n",
        "\n",
        "    if i > 0:\n",
        "        prev_word = sentence[i-1][0]\n",
        "        features.update({\n",
        "            '-1:word.lower()': prev_word.lower(),\n",
        "            '-1:prefix-3': prev_word[:3],\n",
        "            '-1:suffix-3': prev_word[-3:],\n",
        "        })\n",
        "    else:\n",
        "        features['BOS'] = True  # Beginning of sentence\n",
        "\n",
        "    if i < len(sentence)-1:\n",
        "        next_word = sentence[i+1][0]\n",
        "        features.update({\n",
        "            '+1:word.lower()': next_word.lower(),\n",
        "            '+1:prefix-3': next_word[:3],\n",
        "            '+1:suffix-3': next_word[-3:],\n",
        "        })\n",
        "    else:\n",
        "        features['EOS'] = True  # End of sentence\n",
        "\n",
        "    return features"
      ],
      "metadata": {
        "id": "coKKzrGolosm"
      },
      "id": "coKKzrGolosm",
      "execution_count": 11,
      "outputs": []
    },
    {
      "cell_type": "code",
      "source": [
        "def sentence2features(sentence):\n",
        "  return [word2features(sentence, i) for i in range(len(sentence))]"
      ],
      "metadata": {
        "id": "chnyBA7wuoIu"
      },
      "id": "chnyBA7wuoIu",
      "execution_count": 12,
      "outputs": []
    },
    {
      "cell_type": "markdown",
      "source": [
        "The following is a test case for word2features() and sentence2features()"
      ],
      "metadata": {
        "id": "pxwgUgSf5thG"
      },
      "id": "pxwgUgSf5thG"
    },
    {
      "cell_type": "code",
      "source": [
        "# Define the test sentence as list of tuples (word, dummy_label)\n",
        "test_sentence = [('uJohn', 'X'), ('Doe', 'X'), (',', 'X'), ('ukwengeza', 'X'), ('imibandela', 'X'), ('kubasebenzi', 'X')]\n",
        "\n",
        "# Run feature extraction\n",
        "features_of_sentence = [word2features(test_sentence, idx) for idx in range(len(test_sentence))]\n",
        "\n",
        "# Print nicely\n",
        "for idx, features in enumerate(features_of_sentence):\n",
        "    print(f\"Word {idx}: '{test_sentence[idx][0]}' ➔ Features:\")\n",
        "    for key, value in features.items():\n",
        "        print(f\"   {key}: {value}\")\n",
        "    print(\"\\n\")\n"
      ],
      "metadata": {
        "colab": {
          "base_uri": "https://localhost:8080/"
        },
        "collapsed": true,
        "id": "_y5tmban5rTW",
        "outputId": "2d05f7c1-91b9-4a1e-d2b6-bc04b200f8ad"
      },
      "id": "_y5tmban5rTW",
      "execution_count": 13,
      "outputs": [
        {
          "output_type": "stream",
          "name": "stdout",
          "text": [
            "Word 0: 'uJohn' ➔ Features:\n",
            "   bias: 1.0\n",
            "   word.lower(): ujohn\n",
            "   word.isupper(): False\n",
            "   word.istitle(): False\n",
            "   word.isdigit(): False\n",
            "   prefix-1: u\n",
            "   prefix-2: uJ\n",
            "   prefix-3: uJo\n",
            "   prefix-4: uJoh\n",
            "   suffix-3: ohn\n",
            "   suffix-4: John\n",
            "   word.shape: xXxxx\n",
            "   has_noun_class_prefix: True\n",
            "   vowel_count: 2\n",
            "   word.length: 5\n",
            "   starts_with_vowel: True\n",
            "   BOS: True\n",
            "   +1:word.lower(): doe\n",
            "   +1:prefix-3: Doe\n",
            "   +1:suffix-3: Doe\n",
            "\n",
            "\n",
            "Word 1: 'Doe' ➔ Features:\n",
            "   bias: 1.0\n",
            "   word.lower(): doe\n",
            "   word.isupper(): False\n",
            "   word.istitle(): True\n",
            "   word.isdigit(): False\n",
            "   prefix-1: D\n",
            "   prefix-2: Do\n",
            "   prefix-3: Doe\n",
            "   prefix-4: Doe\n",
            "   suffix-3: Doe\n",
            "   suffix-4: Doe\n",
            "   word.shape: Xxx\n",
            "   has_noun_class_prefix: False\n",
            "   vowel_count: 2\n",
            "   word.length: 3\n",
            "   starts_with_vowel: False\n",
            "   -1:word.lower(): ujohn\n",
            "   -1:prefix-3: uJo\n",
            "   -1:suffix-3: ohn\n",
            "   +1:word.lower(): ,\n",
            "   +1:prefix-3: ,\n",
            "   +1:suffix-3: ,\n",
            "\n",
            "\n",
            "Word 2: ',' ➔ Features:\n",
            "   bias: 1.0\n",
            "   word.lower(): ,\n",
            "   word.isupper(): False\n",
            "   word.istitle(): False\n",
            "   word.isdigit(): False\n",
            "   prefix-1: ,\n",
            "   prefix-2: ,\n",
            "   prefix-3: ,\n",
            "   prefix-4: ,\n",
            "   suffix-3: ,\n",
            "   suffix-4: ,\n",
            "   word.shape: ,\n",
            "   has_noun_class_prefix: False\n",
            "   vowel_count: 0\n",
            "   word.length: 1\n",
            "   starts_with_vowel: False\n",
            "   -1:word.lower(): doe\n",
            "   -1:prefix-3: Doe\n",
            "   -1:suffix-3: Doe\n",
            "   +1:word.lower(): ukwengeza\n",
            "   +1:prefix-3: ukw\n",
            "   +1:suffix-3: eza\n",
            "\n",
            "\n",
            "Word 3: 'ukwengeza' ➔ Features:\n",
            "   bias: 1.0\n",
            "   word.lower(): ukwengeza\n",
            "   word.isupper(): False\n",
            "   word.istitle(): False\n",
            "   word.isdigit(): False\n",
            "   prefix-1: u\n",
            "   prefix-2: uk\n",
            "   prefix-3: ukw\n",
            "   prefix-4: ukwe\n",
            "   suffix-3: eza\n",
            "   suffix-4: geza\n",
            "   word.shape: xxxxxxxxx\n",
            "   has_noun_class_prefix: True\n",
            "   vowel_count: 4\n",
            "   word.length: 9\n",
            "   starts_with_vowel: True\n",
            "   -1:word.lower(): ,\n",
            "   -1:prefix-3: ,\n",
            "   -1:suffix-3: ,\n",
            "   +1:word.lower(): imibandela\n",
            "   +1:prefix-3: imi\n",
            "   +1:suffix-3: ela\n",
            "\n",
            "\n",
            "Word 4: 'imibandela' ➔ Features:\n",
            "   bias: 1.0\n",
            "   word.lower(): imibandela\n",
            "   word.isupper(): False\n",
            "   word.istitle(): False\n",
            "   word.isdigit(): False\n",
            "   prefix-1: i\n",
            "   prefix-2: im\n",
            "   prefix-3: imi\n",
            "   prefix-4: imib\n",
            "   suffix-3: ela\n",
            "   suffix-4: dela\n",
            "   word.shape: xxxxxxxxxx\n",
            "   has_noun_class_prefix: True\n",
            "   vowel_count: 5\n",
            "   word.length: 10\n",
            "   starts_with_vowel: True\n",
            "   -1:word.lower(): ukwengeza\n",
            "   -1:prefix-3: ukw\n",
            "   -1:suffix-3: eza\n",
            "   +1:word.lower(): kubasebenzi\n",
            "   +1:prefix-3: kub\n",
            "   +1:suffix-3: nzi\n",
            "\n",
            "\n",
            "Word 5: 'kubasebenzi' ➔ Features:\n",
            "   bias: 1.0\n",
            "   word.lower(): kubasebenzi\n",
            "   word.isupper(): False\n",
            "   word.istitle(): False\n",
            "   word.isdigit(): False\n",
            "   prefix-1: k\n",
            "   prefix-2: ku\n",
            "   prefix-3: kub\n",
            "   prefix-4: kuba\n",
            "   suffix-3: nzi\n",
            "   suffix-4: enzi\n",
            "   word.shape: xxxxxxxxxxx\n",
            "   has_noun_class_prefix: False\n",
            "   vowel_count: 5\n",
            "   word.length: 11\n",
            "   starts_with_vowel: False\n",
            "   -1:word.lower(): imibandela\n",
            "   -1:prefix-3: imi\n",
            "   -1:suffix-3: ela\n",
            "   EOS: True\n",
            "\n",
            "\n"
          ]
        }
      ]
    },
    {
      "cell_type": "code",
      "source": [
        "!pip install datasets\n",
        "!pip install sklearn-crfsuite\n"
      ],
      "metadata": {
        "colab": {
          "base_uri": "https://localhost:8080/"
        },
        "id": "wFICxJFs9Q27",
        "outputId": "026d2282-6e42-4465-aa73-74a6462870e5"
      },
      "id": "wFICxJFs9Q27",
      "execution_count": 14,
      "outputs": [
        {
          "output_type": "stream",
          "name": "stdout",
          "text": [
            "Requirement already satisfied: datasets in /usr/local/lib/python3.11/dist-packages (3.5.0)\n",
            "Requirement already satisfied: filelock in /usr/local/lib/python3.11/dist-packages (from datasets) (3.18.0)\n",
            "Requirement already satisfied: numpy>=1.17 in /usr/local/lib/python3.11/dist-packages (from datasets) (2.0.2)\n",
            "Requirement already satisfied: pyarrow>=15.0.0 in /usr/local/lib/python3.11/dist-packages (from datasets) (18.1.0)\n",
            "Requirement already satisfied: dill<0.3.9,>=0.3.0 in /usr/local/lib/python3.11/dist-packages (from datasets) (0.3.8)\n",
            "Requirement already satisfied: pandas in /usr/local/lib/python3.11/dist-packages (from datasets) (2.2.2)\n",
            "Requirement already satisfied: requests>=2.32.2 in /usr/local/lib/python3.11/dist-packages (from datasets) (2.32.3)\n",
            "Requirement already satisfied: tqdm>=4.66.3 in /usr/local/lib/python3.11/dist-packages (from datasets) (4.67.1)\n",
            "Requirement already satisfied: xxhash in /usr/local/lib/python3.11/dist-packages (from datasets) (3.5.0)\n",
            "Requirement already satisfied: multiprocess<0.70.17 in /usr/local/lib/python3.11/dist-packages (from datasets) (0.70.16)\n",
            "Requirement already satisfied: fsspec<=2024.12.0,>=2023.1.0 in /usr/local/lib/python3.11/dist-packages (from fsspec[http]<=2024.12.0,>=2023.1.0->datasets) (2024.12.0)\n",
            "Requirement already satisfied: aiohttp in /usr/local/lib/python3.11/dist-packages (from datasets) (3.11.15)\n",
            "Requirement already satisfied: huggingface-hub>=0.24.0 in /usr/local/lib/python3.11/dist-packages (from datasets) (0.30.1)\n",
            "Requirement already satisfied: packaging in /usr/local/lib/python3.11/dist-packages (from datasets) (24.2)\n",
            "Requirement already satisfied: pyyaml>=5.1 in /usr/local/lib/python3.11/dist-packages (from datasets) (6.0.2)\n",
            "Requirement already satisfied: aiohappyeyeballs>=2.3.0 in /usr/local/lib/python3.11/dist-packages (from aiohttp->datasets) (2.6.1)\n",
            "Requirement already satisfied: aiosignal>=1.1.2 in /usr/local/lib/python3.11/dist-packages (from aiohttp->datasets) (1.3.2)\n",
            "Requirement already satisfied: attrs>=17.3.0 in /usr/local/lib/python3.11/dist-packages (from aiohttp->datasets) (25.3.0)\n",
            "Requirement already satisfied: frozenlist>=1.1.1 in /usr/local/lib/python3.11/dist-packages (from aiohttp->datasets) (1.5.0)\n",
            "Requirement already satisfied: multidict<7.0,>=4.5 in /usr/local/lib/python3.11/dist-packages (from aiohttp->datasets) (6.3.2)\n",
            "Requirement already satisfied: propcache>=0.2.0 in /usr/local/lib/python3.11/dist-packages (from aiohttp->datasets) (0.3.1)\n",
            "Requirement already satisfied: yarl<2.0,>=1.17.0 in /usr/local/lib/python3.11/dist-packages (from aiohttp->datasets) (1.18.3)\n",
            "Requirement already satisfied: typing-extensions>=3.7.4.3 in /usr/local/lib/python3.11/dist-packages (from huggingface-hub>=0.24.0->datasets) (4.13.1)\n",
            "Requirement already satisfied: charset-normalizer<4,>=2 in /usr/local/lib/python3.11/dist-packages (from requests>=2.32.2->datasets) (3.4.1)\n",
            "Requirement already satisfied: idna<4,>=2.5 in /usr/local/lib/python3.11/dist-packages (from requests>=2.32.2->datasets) (3.10)\n",
            "Requirement already satisfied: urllib3<3,>=1.21.1 in /usr/local/lib/python3.11/dist-packages (from requests>=2.32.2->datasets) (2.3.0)\n",
            "Requirement already satisfied: certifi>=2017.4.17 in /usr/local/lib/python3.11/dist-packages (from requests>=2.32.2->datasets) (2025.1.31)\n",
            "Requirement already satisfied: python-dateutil>=2.8.2 in /usr/local/lib/python3.11/dist-packages (from pandas->datasets) (2.8.2)\n",
            "Requirement already satisfied: pytz>=2020.1 in /usr/local/lib/python3.11/dist-packages (from pandas->datasets) (2025.2)\n",
            "Requirement already satisfied: tzdata>=2022.7 in /usr/local/lib/python3.11/dist-packages (from pandas->datasets) (2025.2)\n",
            "Requirement already satisfied: six>=1.5 in /usr/local/lib/python3.11/dist-packages (from python-dateutil>=2.8.2->pandas->datasets) (1.17.0)\n",
            "Requirement already satisfied: sklearn-crfsuite in /usr/local/lib/python3.11/dist-packages (0.5.0)\n",
            "Requirement already satisfied: python-crfsuite>=0.9.7 in /usr/local/lib/python3.11/dist-packages (from sklearn-crfsuite) (0.9.11)\n",
            "Requirement already satisfied: scikit-learn>=0.24.0 in /usr/local/lib/python3.11/dist-packages (from sklearn-crfsuite) (1.6.1)\n",
            "Requirement already satisfied: tabulate>=0.4.2 in /usr/local/lib/python3.11/dist-packages (from sklearn-crfsuite) (0.9.0)\n",
            "Requirement already satisfied: tqdm>=2.0 in /usr/local/lib/python3.11/dist-packages (from sklearn-crfsuite) (4.67.1)\n",
            "Requirement already satisfied: numpy>=1.19.5 in /usr/local/lib/python3.11/dist-packages (from scikit-learn>=0.24.0->sklearn-crfsuite) (2.0.2)\n",
            "Requirement already satisfied: scipy>=1.6.0 in /usr/local/lib/python3.11/dist-packages (from scikit-learn>=0.24.0->sklearn-crfsuite) (1.14.1)\n",
            "Requirement already satisfied: joblib>=1.2.0 in /usr/local/lib/python3.11/dist-packages (from scikit-learn>=0.24.0->sklearn-crfsuite) (1.4.2)\n",
            "Requirement already satisfied: threadpoolctl>=3.1.0 in /usr/local/lib/python3.11/dist-packages (from scikit-learn>=0.24.0->sklearn-crfsuite) (3.6.0)\n"
          ]
        }
      ]
    },
    {
      "cell_type": "code",
      "source": [
        "import pandas as pd\n",
        "from datasets import Dataset\n",
        "import sklearn_crfsuite\n",
        "from sklearn_crfsuite import metrics\n"
      ],
      "metadata": {
        "id": "-ahyqIIE9SCy"
      },
      "id": "-ahyqIIE9SCy",
      "execution_count": 15,
      "outputs": []
    },
    {
      "cell_type": "markdown",
      "source": [
        "Code to split into sentences"
      ],
      "metadata": {
        "id": "rN98tLps7koq"
      },
      "id": "rN98tLps7koq"
    },
    {
      "cell_type": "code",
      "source": [
        "# --- Extract tokens and labels from the training and testing sets ---\n",
        "train_tokens = data['train']['TOKEN']\n",
        "train_labels = data['train']['UPOS']\n",
        "\n",
        "test_tokens = data['test']['TOKEN']\n",
        "test_labels = data['test']['UPOS']\n",
        "\n",
        "# --- Now split the tokens into real sentences ---\n",
        "def split_into_sentences(tokens, labels):\n",
        "    sentences = []\n",
        "    current_tokens = []\n",
        "    current_labels = []\n",
        "\n",
        "    for token, label in zip(tokens, labels):\n",
        "        current_tokens.append(token)\n",
        "        current_labels.append(label)\n",
        "\n",
        "        if token in ['.', '!', '?']:  # Sentence boundary\n",
        "            sentences.append((current_tokens, current_labels))\n",
        "            current_tokens = []\n",
        "            current_labels = []\n",
        "\n",
        "    # Catch any leftover tokens (in case no final punctuation)\n",
        "    if current_tokens:\n",
        "        sentences.append((current_tokens, current_labels))\n",
        "\n",
        "    return sentences\n",
        "\n",
        "train_sentences = split_into_sentences(train_tokens, train_labels)\n",
        "test_sentences = split_into_sentences(test_tokens, test_labels)\n",
        "\n",
        "# --- Prepare for CRF ---\n",
        "X_train = [sentence2features(sentence) for sentence, _ in train_sentences]\n",
        "y_train = [[label for label in labels] for _, labels in train_sentences]\n",
        "\n",
        "X_test = [sentence2features(sentence) for sentence, _ in test_sentences]\n",
        "y_test = [[label for label in labels] for _, labels in test_sentences]\n"
      ],
      "metadata": {
        "collapsed": true,
        "id": "iXrT0Lr67fk6"
      },
      "id": "iXrT0Lr67fk6",
      "execution_count": 16,
      "outputs": []
    },
    {
      "cell_type": "markdown",
      "source": [
        "Training of the crf model"
      ],
      "metadata": {
        "id": "srdrbAst8oG6"
      },
      "id": "srdrbAst8oG6"
    },
    {
      "cell_type": "code",
      "source": [
        "# --- Create and configure the CRF model ---\n",
        "crf = sklearn_crfsuite.CRF(\n",
        "    algorithm='lbfgs',\n",
        "    c1=0.1,\n",
        "    c2=0.1,\n",
        "    max_iterations=30,  # Reduce from 100 -> 30 to prevent long training\n",
        "    all_possible_transitions=False,  # Only allow seen transitions\n",
        "    verbose=True  # Print progress so you know it's working\n",
        ")\n",
        "\n",
        "# --- Train the model ---\n",
        "crf.fit(X_train, y_train)\n",
        "\n",
        "# --- Predict on the test set ---\n",
        "y_pred = crf.predict(X_test)\n",
        "\n",
        "# --- Evaluate the model ---\n",
        "print(metrics.flat_classification_report(y_test, y_pred, digits=3))\n",
        "\n"
      ],
      "metadata": {
        "colab": {
          "base_uri": "https://localhost:8080/"
        },
        "id": "4wR4E4X18ncC",
        "outputId": "ab67ca89-1102-41b0-c9ab-1a12348b31e8"
      },
      "id": "4wR4E4X18ncC",
      "execution_count": null,
      "outputs": [
        {
          "output_type": "stream",
          "name": "stderr",
          "text": [
            "loading training data to CRFsuite: 100%|██████████| 2513/2513 [00:03<00:00, 646.80it/s]\n"
          ]
        },
        {
          "output_type": "stream",
          "name": "stdout",
          "text": [
            "\n",
            "Feature generation\n",
            "type: CRF1d\n",
            "feature.minfreq: 0.000000\n",
            "feature.possible_states: 0\n",
            "feature.possible_transitions: 0\n",
            "0....1....2....3....4....5....6....7....8....9....10"
          ]
        }
      ]
    }
  ],
  "metadata": {
    "kernelspec": {
      "display_name": "Python 3 (ipykernel)",
      "language": "python",
      "name": "python3"
    },
    "language_info": {
      "codemirror_mode": {
        "name": "ipython",
        "version": 3
      },
      "file_extension": ".py",
      "mimetype": "text/x-python",
      "name": "python",
      "nbconvert_exporter": "python",
      "pygments_lexer": "ipython3",
      "version": "3.13.0"
    },
    "colab": {
      "provenance": [],
      "include_colab_link": true
    }
  },
  "nbformat": 4,
  "nbformat_minor": 5
}