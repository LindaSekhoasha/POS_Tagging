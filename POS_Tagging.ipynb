{
  "cells": [
    {
      "cell_type": "markdown",
      "metadata": {
        "id": "view-in-github",
        "colab_type": "text"
      },
      "source": [
        "<a href=\"https://colab.research.google.com/github/LindaSekhoasha/POS_Tagging/blob/main/POS_Tagging.ipynb\" target=\"_parent\"><img src=\"https://colab.research.google.com/assets/colab-badge.svg\" alt=\"Open In Colab\"/></a>"
      ]
    },
    {
      "cell_type": "markdown",
      "source": [
        "# Meet Our Group"
      ],
      "metadata": {
        "id": "DliWpRafgO8w"
      },
      "id": "DliWpRafgO8w"
    },
    {
      "cell_type": "markdown",
      "source": [
        "\n",
        "\n",
        "*   Linda Sekhoasha (Student Number)\n",
        "*   Wandile Ngobese (222056013)\n",
        "*   Khonzinkosi Mkhize (Student Number)\n",
        "*   Samukelo Mkhize (Student Number)"
      ],
      "metadata": {
        "id": "tciSCC2xgXjV"
      },
      "id": "tciSCC2xgXjV"
    },
    {
      "cell_type": "markdown",
      "id": "92202f45-4a9f-42d9-bc52-91d6ffc63fee",
      "metadata": {
        "id": "92202f45-4a9f-42d9-bc52-91d6ffc63fee"
      },
      "source": [
        "# Imports"
      ]
    },
    {
      "cell_type": "code",
      "source": [
        "!pip install datasets"
      ],
      "metadata": {
        "id": "xuRrN4CxZ2Sc"
      },
      "id": "xuRrN4CxZ2Sc",
      "execution_count": null,
      "outputs": []
    },
    {
      "cell_type": "code",
      "execution_count": 2,
      "id": "e87a1d77-52bc-41b1-885d-f4e37f876990",
      "metadata": {
        "id": "e87a1d77-52bc-41b1-885d-f4e37f876990"
      },
      "outputs": [],
      "source": [
        "import pandas as pd\n",
        "from datasets import Dataset\n",
        "from collections import Counter, defaultdict, namedtuple\n",
        "import nltk\n",
        "from nltk.tag import hmm"
      ]
    },
    {
      "cell_type": "markdown",
      "id": "b952b0b0-f171-481e-934a-2dfe6153d15f",
      "metadata": {
        "id": "b952b0b0-f171-481e-934a-2dfe6153d15f"
      },
      "source": [
        "# Data Pre-processing"
      ]
    },
    {
      "cell_type": "code",
      "source": [
        "from google.colab import drive\n",
        "drive.mount('/content/drive')"
      ],
      "metadata": {
        "id": "us8n5EI-a3W-",
        "outputId": "9afbbc54-5990-42d2-8723-3d5f01edaa1c",
        "colab": {
          "base_uri": "https://localhost:8080/"
        }
      },
      "id": "us8n5EI-a3W-",
      "execution_count": 3,
      "outputs": [
        {
          "output_type": "stream",
          "name": "stdout",
          "text": [
            "Drive already mounted at /content/drive; to attempt to forcibly remount, call drive.mount(\"/content/drive\", force_remount=True).\n"
          ]
        }
      ]
    },
    {
      "cell_type": "code",
      "execution_count": 4,
      "id": "c7e8c0f7-9c6c-47e8-8592-6d5f6a08d8cc",
      "metadata": {
        "id": "c7e8c0f7-9c6c-47e8-8592-6d5f6a08d8cc",
        "outputId": "5c055248-593f-427e-80d5-469fedd21af2",
        "colab": {
          "base_uri": "https://localhost:8080/",
          "height": 143
        }
      },
      "outputs": [
        {
          "output_type": "execute_result",
          "data": {
            "text/plain": [
              "       TOKEN MORPH ANALYSIS  UPOS\n",
              "0  Ukwengeza   u-kw-engez-a     V\n",
              "1    kulokhu       ku-lokhu  CDEM\n",
              "2          ,              ,  PUNC"
            ],
            "text/html": [
              "\n",
              "  <div id=\"df-21e0d2a3-2016-448c-836d-5896759ddc02\" class=\"colab-df-container\">\n",
              "    <div>\n",
              "<style scoped>\n",
              "    .dataframe tbody tr th:only-of-type {\n",
              "        vertical-align: middle;\n",
              "    }\n",
              "\n",
              "    .dataframe tbody tr th {\n",
              "        vertical-align: top;\n",
              "    }\n",
              "\n",
              "    .dataframe thead th {\n",
              "        text-align: right;\n",
              "    }\n",
              "</style>\n",
              "<table border=\"1\" class=\"dataframe\">\n",
              "  <thead>\n",
              "    <tr style=\"text-align: right;\">\n",
              "      <th></th>\n",
              "      <th>TOKEN</th>\n",
              "      <th>MORPH ANALYSIS</th>\n",
              "      <th>UPOS</th>\n",
              "    </tr>\n",
              "  </thead>\n",
              "  <tbody>\n",
              "    <tr>\n",
              "      <th>0</th>\n",
              "      <td>Ukwengeza</td>\n",
              "      <td>u-kw-engez-a</td>\n",
              "      <td>V</td>\n",
              "    </tr>\n",
              "    <tr>\n",
              "      <th>1</th>\n",
              "      <td>kulokhu</td>\n",
              "      <td>ku-lokhu</td>\n",
              "      <td>CDEM</td>\n",
              "    </tr>\n",
              "    <tr>\n",
              "      <th>2</th>\n",
              "      <td>,</td>\n",
              "      <td>,</td>\n",
              "      <td>PUNC</td>\n",
              "    </tr>\n",
              "  </tbody>\n",
              "</table>\n",
              "</div>\n",
              "    <div class=\"colab-df-buttons\">\n",
              "\n",
              "  <div class=\"colab-df-container\">\n",
              "    <button class=\"colab-df-convert\" onclick=\"convertToInteractive('df-21e0d2a3-2016-448c-836d-5896759ddc02')\"\n",
              "            title=\"Convert this dataframe to an interactive table.\"\n",
              "            style=\"display:none;\">\n",
              "\n",
              "  <svg xmlns=\"http://www.w3.org/2000/svg\" height=\"24px\" viewBox=\"0 -960 960 960\">\n",
              "    <path d=\"M120-120v-720h720v720H120Zm60-500h600v-160H180v160Zm220 220h160v-160H400v160Zm0 220h160v-160H400v160ZM180-400h160v-160H180v160Zm440 0h160v-160H620v160ZM180-180h160v-160H180v160Zm440 0h160v-160H620v160Z\"/>\n",
              "  </svg>\n",
              "    </button>\n",
              "\n",
              "  <style>\n",
              "    .colab-df-container {\n",
              "      display:flex;\n",
              "      gap: 12px;\n",
              "    }\n",
              "\n",
              "    .colab-df-convert {\n",
              "      background-color: #E8F0FE;\n",
              "      border: none;\n",
              "      border-radius: 50%;\n",
              "      cursor: pointer;\n",
              "      display: none;\n",
              "      fill: #1967D2;\n",
              "      height: 32px;\n",
              "      padding: 0 0 0 0;\n",
              "      width: 32px;\n",
              "    }\n",
              "\n",
              "    .colab-df-convert:hover {\n",
              "      background-color: #E2EBFA;\n",
              "      box-shadow: 0px 1px 2px rgba(60, 64, 67, 0.3), 0px 1px 3px 1px rgba(60, 64, 67, 0.15);\n",
              "      fill: #174EA6;\n",
              "    }\n",
              "\n",
              "    .colab-df-buttons div {\n",
              "      margin-bottom: 4px;\n",
              "    }\n",
              "\n",
              "    [theme=dark] .colab-df-convert {\n",
              "      background-color: #3B4455;\n",
              "      fill: #D2E3FC;\n",
              "    }\n",
              "\n",
              "    [theme=dark] .colab-df-convert:hover {\n",
              "      background-color: #434B5C;\n",
              "      box-shadow: 0px 1px 3px 1px rgba(0, 0, 0, 0.15);\n",
              "      filter: drop-shadow(0px 1px 2px rgba(0, 0, 0, 0.3));\n",
              "      fill: #FFFFFF;\n",
              "    }\n",
              "  </style>\n",
              "\n",
              "    <script>\n",
              "      const buttonEl =\n",
              "        document.querySelector('#df-21e0d2a3-2016-448c-836d-5896759ddc02 button.colab-df-convert');\n",
              "      buttonEl.style.display =\n",
              "        google.colab.kernel.accessAllowed ? 'block' : 'none';\n",
              "\n",
              "      async function convertToInteractive(key) {\n",
              "        const element = document.querySelector('#df-21e0d2a3-2016-448c-836d-5896759ddc02');\n",
              "        const dataTable =\n",
              "          await google.colab.kernel.invokeFunction('convertToInteractive',\n",
              "                                                    [key], {});\n",
              "        if (!dataTable) return;\n",
              "\n",
              "        const docLinkHtml = 'Like what you see? Visit the ' +\n",
              "          '<a target=\"_blank\" href=https://colab.research.google.com/notebooks/data_table.ipynb>data table notebook</a>'\n",
              "          + ' to learn more about interactive tables.';\n",
              "        element.innerHTML = '';\n",
              "        dataTable['output_type'] = 'display_data';\n",
              "        await google.colab.output.renderOutput(dataTable, element);\n",
              "        const docLink = document.createElement('div');\n",
              "        docLink.innerHTML = docLinkHtml;\n",
              "        element.appendChild(docLink);\n",
              "      }\n",
              "    </script>\n",
              "  </div>\n",
              "\n",
              "\n",
              "<div id=\"df-cc82b500-ccc2-499a-b656-03559419cf90\">\n",
              "  <button class=\"colab-df-quickchart\" onclick=\"quickchart('df-cc82b500-ccc2-499a-b656-03559419cf90')\"\n",
              "            title=\"Suggest charts\"\n",
              "            style=\"display:none;\">\n",
              "\n",
              "<svg xmlns=\"http://www.w3.org/2000/svg\" height=\"24px\"viewBox=\"0 0 24 24\"\n",
              "     width=\"24px\">\n",
              "    <g>\n",
              "        <path d=\"M19 3H5c-1.1 0-2 .9-2 2v14c0 1.1.9 2 2 2h14c1.1 0 2-.9 2-2V5c0-1.1-.9-2-2-2zM9 17H7v-7h2v7zm4 0h-2V7h2v10zm4 0h-2v-4h2v4z\"/>\n",
              "    </g>\n",
              "</svg>\n",
              "  </button>\n",
              "\n",
              "<style>\n",
              "  .colab-df-quickchart {\n",
              "      --bg-color: #E8F0FE;\n",
              "      --fill-color: #1967D2;\n",
              "      --hover-bg-color: #E2EBFA;\n",
              "      --hover-fill-color: #174EA6;\n",
              "      --disabled-fill-color: #AAA;\n",
              "      --disabled-bg-color: #DDD;\n",
              "  }\n",
              "\n",
              "  [theme=dark] .colab-df-quickchart {\n",
              "      --bg-color: #3B4455;\n",
              "      --fill-color: #D2E3FC;\n",
              "      --hover-bg-color: #434B5C;\n",
              "      --hover-fill-color: #FFFFFF;\n",
              "      --disabled-bg-color: #3B4455;\n",
              "      --disabled-fill-color: #666;\n",
              "  }\n",
              "\n",
              "  .colab-df-quickchart {\n",
              "    background-color: var(--bg-color);\n",
              "    border: none;\n",
              "    border-radius: 50%;\n",
              "    cursor: pointer;\n",
              "    display: none;\n",
              "    fill: var(--fill-color);\n",
              "    height: 32px;\n",
              "    padding: 0;\n",
              "    width: 32px;\n",
              "  }\n",
              "\n",
              "  .colab-df-quickchart:hover {\n",
              "    background-color: var(--hover-bg-color);\n",
              "    box-shadow: 0 1px 2px rgba(60, 64, 67, 0.3), 0 1px 3px 1px rgba(60, 64, 67, 0.15);\n",
              "    fill: var(--button-hover-fill-color);\n",
              "  }\n",
              "\n",
              "  .colab-df-quickchart-complete:disabled,\n",
              "  .colab-df-quickchart-complete:disabled:hover {\n",
              "    background-color: var(--disabled-bg-color);\n",
              "    fill: var(--disabled-fill-color);\n",
              "    box-shadow: none;\n",
              "  }\n",
              "\n",
              "  .colab-df-spinner {\n",
              "    border: 2px solid var(--fill-color);\n",
              "    border-color: transparent;\n",
              "    border-bottom-color: var(--fill-color);\n",
              "    animation:\n",
              "      spin 1s steps(1) infinite;\n",
              "  }\n",
              "\n",
              "  @keyframes spin {\n",
              "    0% {\n",
              "      border-color: transparent;\n",
              "      border-bottom-color: var(--fill-color);\n",
              "      border-left-color: var(--fill-color);\n",
              "    }\n",
              "    20% {\n",
              "      border-color: transparent;\n",
              "      border-left-color: var(--fill-color);\n",
              "      border-top-color: var(--fill-color);\n",
              "    }\n",
              "    30% {\n",
              "      border-color: transparent;\n",
              "      border-left-color: var(--fill-color);\n",
              "      border-top-color: var(--fill-color);\n",
              "      border-right-color: var(--fill-color);\n",
              "    }\n",
              "    40% {\n",
              "      border-color: transparent;\n",
              "      border-right-color: var(--fill-color);\n",
              "      border-top-color: var(--fill-color);\n",
              "    }\n",
              "    60% {\n",
              "      border-color: transparent;\n",
              "      border-right-color: var(--fill-color);\n",
              "    }\n",
              "    80% {\n",
              "      border-color: transparent;\n",
              "      border-right-color: var(--fill-color);\n",
              "      border-bottom-color: var(--fill-color);\n",
              "    }\n",
              "    90% {\n",
              "      border-color: transparent;\n",
              "      border-bottom-color: var(--fill-color);\n",
              "    }\n",
              "  }\n",
              "</style>\n",
              "\n",
              "  <script>\n",
              "    async function quickchart(key) {\n",
              "      const quickchartButtonEl =\n",
              "        document.querySelector('#' + key + ' button');\n",
              "      quickchartButtonEl.disabled = true;  // To prevent multiple clicks.\n",
              "      quickchartButtonEl.classList.add('colab-df-spinner');\n",
              "      try {\n",
              "        const charts = await google.colab.kernel.invokeFunction(\n",
              "            'suggestCharts', [key], {});\n",
              "      } catch (error) {\n",
              "        console.error('Error during call to suggestCharts:', error);\n",
              "      }\n",
              "      quickchartButtonEl.classList.remove('colab-df-spinner');\n",
              "      quickchartButtonEl.classList.add('colab-df-quickchart-complete');\n",
              "    }\n",
              "    (() => {\n",
              "      let quickchartButtonEl =\n",
              "        document.querySelector('#df-cc82b500-ccc2-499a-b656-03559419cf90 button');\n",
              "      quickchartButtonEl.style.display =\n",
              "        google.colab.kernel.accessAllowed ? 'block' : 'none';\n",
              "    })();\n",
              "  </script>\n",
              "</div>\n",
              "\n",
              "    </div>\n",
              "  </div>\n"
            ],
            "application/vnd.google.colaboratory.intrinsic+json": {
              "type": "dataframe",
              "variable_name": "df",
              "summary": "{\n  \"name\": \"df\",\n  \"rows\": 49097,\n  \"fields\": [\n    {\n      \"column\": \"TOKEN\",\n      \"properties\": {\n        \"dtype\": \"category\",\n        \"num_unique_values\": 14337,\n        \"samples\": [\n          \"ubeka\",\n          \"MANAGEMENT\",\n          \"kwenyusa\"\n        ],\n        \"semantic_type\": \"\",\n        \"description\": \"\"\n      }\n    },\n    {\n      \"column\": \"MORPH ANALYSIS\",\n      \"properties\": {\n        \"dtype\": \"category\",\n        \"num_unique_values\": 14664,\n        \"samples\": [\n          \"ku-y-i-n-dlela\",\n          \"u-m-lingani\",\n          \"u-ku-yi-qeda\"\n        ],\n        \"semantic_type\": \"\",\n        \"description\": \"\"\n      }\n    },\n    {\n      \"column\": \"UPOS\",\n      \"properties\": {\n        \"dtype\": \"category\",\n        \"num_unique_values\": 16,\n        \"samples\": [\n          \"V\",\n          \"CDEM\",\n          \"REL\"\n        ],\n        \"semantic_type\": \"\",\n        \"description\": \"\"\n      }\n    }\n  ]\n}"
            }
          },
          "metadata": {},
          "execution_count": 4
        }
      ],
      "source": [
        "df = pd.read_csv(r\"/content/drive/MyDrive/dataset/zu.gold.seg.data\", delimiter='\\t')\n",
        "df.head(3)"
      ]
    },
    {
      "cell_type": "code",
      "execution_count": 5,
      "id": "0f16a958-cea8-421b-8e86-ae3408beb76b",
      "metadata": {
        "id": "0f16a958-cea8-421b-8e86-ae3408beb76b",
        "outputId": "bc856a3a-1e44-460f-cad0-c161eb667cec",
        "colab": {
          "base_uri": "https://localhost:8080/",
          "height": 363
        }
      },
      "outputs": [
        {
          "output_type": "execute_result",
          "data": {
            "text/plain": [
              "               TOKEN  UPOS\n",
              "0          ukwengeza     V\n",
              "1            kulokhu  CDEM\n",
              "2                  ,  PUNC\n",
              "3         imibandela     N\n",
              "4           iyenziwa     V\n",
              "5            ukwakha     V\n",
              "6          amakomiti     N\n",
              "7            amawadi     N\n",
              "8                  ,  PUNC\n",
              "9  njengezinhlangano   ADV"
            ],
            "text/html": [
              "\n",
              "  <div id=\"df-39aad7cd-8ee4-4560-8b91-af3e5f2fea60\" class=\"colab-df-container\">\n",
              "    <div>\n",
              "<style scoped>\n",
              "    .dataframe tbody tr th:only-of-type {\n",
              "        vertical-align: middle;\n",
              "    }\n",
              "\n",
              "    .dataframe tbody tr th {\n",
              "        vertical-align: top;\n",
              "    }\n",
              "\n",
              "    .dataframe thead th {\n",
              "        text-align: right;\n",
              "    }\n",
              "</style>\n",
              "<table border=\"1\" class=\"dataframe\">\n",
              "  <thead>\n",
              "    <tr style=\"text-align: right;\">\n",
              "      <th></th>\n",
              "      <th>TOKEN</th>\n",
              "      <th>UPOS</th>\n",
              "    </tr>\n",
              "  </thead>\n",
              "  <tbody>\n",
              "    <tr>\n",
              "      <th>0</th>\n",
              "      <td>ukwengeza</td>\n",
              "      <td>V</td>\n",
              "    </tr>\n",
              "    <tr>\n",
              "      <th>1</th>\n",
              "      <td>kulokhu</td>\n",
              "      <td>CDEM</td>\n",
              "    </tr>\n",
              "    <tr>\n",
              "      <th>2</th>\n",
              "      <td>,</td>\n",
              "      <td>PUNC</td>\n",
              "    </tr>\n",
              "    <tr>\n",
              "      <th>3</th>\n",
              "      <td>imibandela</td>\n",
              "      <td>N</td>\n",
              "    </tr>\n",
              "    <tr>\n",
              "      <th>4</th>\n",
              "      <td>iyenziwa</td>\n",
              "      <td>V</td>\n",
              "    </tr>\n",
              "    <tr>\n",
              "      <th>5</th>\n",
              "      <td>ukwakha</td>\n",
              "      <td>V</td>\n",
              "    </tr>\n",
              "    <tr>\n",
              "      <th>6</th>\n",
              "      <td>amakomiti</td>\n",
              "      <td>N</td>\n",
              "    </tr>\n",
              "    <tr>\n",
              "      <th>7</th>\n",
              "      <td>amawadi</td>\n",
              "      <td>N</td>\n",
              "    </tr>\n",
              "    <tr>\n",
              "      <th>8</th>\n",
              "      <td>,</td>\n",
              "      <td>PUNC</td>\n",
              "    </tr>\n",
              "    <tr>\n",
              "      <th>9</th>\n",
              "      <td>njengezinhlangano</td>\n",
              "      <td>ADV</td>\n",
              "    </tr>\n",
              "  </tbody>\n",
              "</table>\n",
              "</div>\n",
              "    <div class=\"colab-df-buttons\">\n",
              "\n",
              "  <div class=\"colab-df-container\">\n",
              "    <button class=\"colab-df-convert\" onclick=\"convertToInteractive('df-39aad7cd-8ee4-4560-8b91-af3e5f2fea60')\"\n",
              "            title=\"Convert this dataframe to an interactive table.\"\n",
              "            style=\"display:none;\">\n",
              "\n",
              "  <svg xmlns=\"http://www.w3.org/2000/svg\" height=\"24px\" viewBox=\"0 -960 960 960\">\n",
              "    <path d=\"M120-120v-720h720v720H120Zm60-500h600v-160H180v160Zm220 220h160v-160H400v160Zm0 220h160v-160H400v160ZM180-400h160v-160H180v160Zm440 0h160v-160H620v160ZM180-180h160v-160H180v160Zm440 0h160v-160H620v160Z\"/>\n",
              "  </svg>\n",
              "    </button>\n",
              "\n",
              "  <style>\n",
              "    .colab-df-container {\n",
              "      display:flex;\n",
              "      gap: 12px;\n",
              "    }\n",
              "\n",
              "    .colab-df-convert {\n",
              "      background-color: #E8F0FE;\n",
              "      border: none;\n",
              "      border-radius: 50%;\n",
              "      cursor: pointer;\n",
              "      display: none;\n",
              "      fill: #1967D2;\n",
              "      height: 32px;\n",
              "      padding: 0 0 0 0;\n",
              "      width: 32px;\n",
              "    }\n",
              "\n",
              "    .colab-df-convert:hover {\n",
              "      background-color: #E2EBFA;\n",
              "      box-shadow: 0px 1px 2px rgba(60, 64, 67, 0.3), 0px 1px 3px 1px rgba(60, 64, 67, 0.15);\n",
              "      fill: #174EA6;\n",
              "    }\n",
              "\n",
              "    .colab-df-buttons div {\n",
              "      margin-bottom: 4px;\n",
              "    }\n",
              "\n",
              "    [theme=dark] .colab-df-convert {\n",
              "      background-color: #3B4455;\n",
              "      fill: #D2E3FC;\n",
              "    }\n",
              "\n",
              "    [theme=dark] .colab-df-convert:hover {\n",
              "      background-color: #434B5C;\n",
              "      box-shadow: 0px 1px 3px 1px rgba(0, 0, 0, 0.15);\n",
              "      filter: drop-shadow(0px 1px 2px rgba(0, 0, 0, 0.3));\n",
              "      fill: #FFFFFF;\n",
              "    }\n",
              "  </style>\n",
              "\n",
              "    <script>\n",
              "      const buttonEl =\n",
              "        document.querySelector('#df-39aad7cd-8ee4-4560-8b91-af3e5f2fea60 button.colab-df-convert');\n",
              "      buttonEl.style.display =\n",
              "        google.colab.kernel.accessAllowed ? 'block' : 'none';\n",
              "\n",
              "      async function convertToInteractive(key) {\n",
              "        const element = document.querySelector('#df-39aad7cd-8ee4-4560-8b91-af3e5f2fea60');\n",
              "        const dataTable =\n",
              "          await google.colab.kernel.invokeFunction('convertToInteractive',\n",
              "                                                    [key], {});\n",
              "        if (!dataTable) return;\n",
              "\n",
              "        const docLinkHtml = 'Like what you see? Visit the ' +\n",
              "          '<a target=\"_blank\" href=https://colab.research.google.com/notebooks/data_table.ipynb>data table notebook</a>'\n",
              "          + ' to learn more about interactive tables.';\n",
              "        element.innerHTML = '';\n",
              "        dataTable['output_type'] = 'display_data';\n",
              "        await google.colab.output.renderOutput(dataTable, element);\n",
              "        const docLink = document.createElement('div');\n",
              "        docLink.innerHTML = docLinkHtml;\n",
              "        element.appendChild(docLink);\n",
              "      }\n",
              "    </script>\n",
              "  </div>\n",
              "\n",
              "\n",
              "<div id=\"df-bb8874a1-abff-48ac-8c9b-e7c7956bc11f\">\n",
              "  <button class=\"colab-df-quickchart\" onclick=\"quickchart('df-bb8874a1-abff-48ac-8c9b-e7c7956bc11f')\"\n",
              "            title=\"Suggest charts\"\n",
              "            style=\"display:none;\">\n",
              "\n",
              "<svg xmlns=\"http://www.w3.org/2000/svg\" height=\"24px\"viewBox=\"0 0 24 24\"\n",
              "     width=\"24px\">\n",
              "    <g>\n",
              "        <path d=\"M19 3H5c-1.1 0-2 .9-2 2v14c0 1.1.9 2 2 2h14c1.1 0 2-.9 2-2V5c0-1.1-.9-2-2-2zM9 17H7v-7h2v7zm4 0h-2V7h2v10zm4 0h-2v-4h2v4z\"/>\n",
              "    </g>\n",
              "</svg>\n",
              "  </button>\n",
              "\n",
              "<style>\n",
              "  .colab-df-quickchart {\n",
              "      --bg-color: #E8F0FE;\n",
              "      --fill-color: #1967D2;\n",
              "      --hover-bg-color: #E2EBFA;\n",
              "      --hover-fill-color: #174EA6;\n",
              "      --disabled-fill-color: #AAA;\n",
              "      --disabled-bg-color: #DDD;\n",
              "  }\n",
              "\n",
              "  [theme=dark] .colab-df-quickchart {\n",
              "      --bg-color: #3B4455;\n",
              "      --fill-color: #D2E3FC;\n",
              "      --hover-bg-color: #434B5C;\n",
              "      --hover-fill-color: #FFFFFF;\n",
              "      --disabled-bg-color: #3B4455;\n",
              "      --disabled-fill-color: #666;\n",
              "  }\n",
              "\n",
              "  .colab-df-quickchart {\n",
              "    background-color: var(--bg-color);\n",
              "    border: none;\n",
              "    border-radius: 50%;\n",
              "    cursor: pointer;\n",
              "    display: none;\n",
              "    fill: var(--fill-color);\n",
              "    height: 32px;\n",
              "    padding: 0;\n",
              "    width: 32px;\n",
              "  }\n",
              "\n",
              "  .colab-df-quickchart:hover {\n",
              "    background-color: var(--hover-bg-color);\n",
              "    box-shadow: 0 1px 2px rgba(60, 64, 67, 0.3), 0 1px 3px 1px rgba(60, 64, 67, 0.15);\n",
              "    fill: var(--button-hover-fill-color);\n",
              "  }\n",
              "\n",
              "  .colab-df-quickchart-complete:disabled,\n",
              "  .colab-df-quickchart-complete:disabled:hover {\n",
              "    background-color: var(--disabled-bg-color);\n",
              "    fill: var(--disabled-fill-color);\n",
              "    box-shadow: none;\n",
              "  }\n",
              "\n",
              "  .colab-df-spinner {\n",
              "    border: 2px solid var(--fill-color);\n",
              "    border-color: transparent;\n",
              "    border-bottom-color: var(--fill-color);\n",
              "    animation:\n",
              "      spin 1s steps(1) infinite;\n",
              "  }\n",
              "\n",
              "  @keyframes spin {\n",
              "    0% {\n",
              "      border-color: transparent;\n",
              "      border-bottom-color: var(--fill-color);\n",
              "      border-left-color: var(--fill-color);\n",
              "    }\n",
              "    20% {\n",
              "      border-color: transparent;\n",
              "      border-left-color: var(--fill-color);\n",
              "      border-top-color: var(--fill-color);\n",
              "    }\n",
              "    30% {\n",
              "      border-color: transparent;\n",
              "      border-left-color: var(--fill-color);\n",
              "      border-top-color: var(--fill-color);\n",
              "      border-right-color: var(--fill-color);\n",
              "    }\n",
              "    40% {\n",
              "      border-color: transparent;\n",
              "      border-right-color: var(--fill-color);\n",
              "      border-top-color: var(--fill-color);\n",
              "    }\n",
              "    60% {\n",
              "      border-color: transparent;\n",
              "      border-right-color: var(--fill-color);\n",
              "    }\n",
              "    80% {\n",
              "      border-color: transparent;\n",
              "      border-right-color: var(--fill-color);\n",
              "      border-bottom-color: var(--fill-color);\n",
              "    }\n",
              "    90% {\n",
              "      border-color: transparent;\n",
              "      border-bottom-color: var(--fill-color);\n",
              "    }\n",
              "  }\n",
              "</style>\n",
              "\n",
              "  <script>\n",
              "    async function quickchart(key) {\n",
              "      const quickchartButtonEl =\n",
              "        document.querySelector('#' + key + ' button');\n",
              "      quickchartButtonEl.disabled = true;  // To prevent multiple clicks.\n",
              "      quickchartButtonEl.classList.add('colab-df-spinner');\n",
              "      try {\n",
              "        const charts = await google.colab.kernel.invokeFunction(\n",
              "            'suggestCharts', [key], {});\n",
              "      } catch (error) {\n",
              "        console.error('Error during call to suggestCharts:', error);\n",
              "      }\n",
              "      quickchartButtonEl.classList.remove('colab-df-spinner');\n",
              "      quickchartButtonEl.classList.add('colab-df-quickchart-complete');\n",
              "    }\n",
              "    (() => {\n",
              "      let quickchartButtonEl =\n",
              "        document.querySelector('#df-bb8874a1-abff-48ac-8c9b-e7c7956bc11f button');\n",
              "      quickchartButtonEl.style.display =\n",
              "        google.colab.kernel.accessAllowed ? 'block' : 'none';\n",
              "    })();\n",
              "  </script>\n",
              "</div>\n",
              "\n",
              "    </div>\n",
              "  </div>\n"
            ],
            "application/vnd.google.colaboratory.intrinsic+json": {
              "type": "dataframe",
              "variable_name": "df",
              "summary": "{\n  \"name\": \"df\",\n  \"rows\": 49097,\n  \"fields\": [\n    {\n      \"column\": \"TOKEN\",\n      \"properties\": {\n        \"dtype\": \"category\",\n        \"num_unique_values\": 13010,\n        \"samples\": [\n          \"ngokomzimba\",\n          \"kugxilwe\",\n          \"zazi\"\n        ],\n        \"semantic_type\": \"\",\n        \"description\": \"\"\n      }\n    },\n    {\n      \"column\": \"UPOS\",\n      \"properties\": {\n        \"dtype\": \"category\",\n        \"num_unique_values\": 16,\n        \"samples\": [\n          \"V\",\n          \"CDEM\",\n          \"REL\"\n        ],\n        \"semantic_type\": \"\",\n        \"description\": \"\"\n      }\n    }\n  ]\n}"
            }
          },
          "metadata": {},
          "execution_count": 5
        }
      ],
      "source": [
        "# drop/remove the MORPH ANALYSIS column\n",
        "df = df.drop(columns=['MORPH ANALYSIS'])\n",
        "\n",
        "# convert all tokens to lowercase for a consistent vocab\n",
        "df['TOKEN'] = [token.lower() for token in df['TOKEN']]\n",
        "df.head(10)"
      ]
    },
    {
      "cell_type": "code",
      "execution_count": 6,
      "id": "790eb4b3-5999-4490-96d2-f56d5e7905aa",
      "metadata": {
        "id": "790eb4b3-5999-4490-96d2-f56d5e7905aa",
        "outputId": "74075729-3569-4082-f451-98141050d084",
        "colab": {
          "base_uri": "https://localhost:8080/"
        }
      },
      "outputs": [
        {
          "output_type": "stream",
          "name": "stdout",
          "text": [
            "{'TOKEN': Value(dtype='string', id=None), 'UPOS': Value(dtype='string', id=None)}\n"
          ]
        }
      ],
      "source": [
        "# convert panda dataframe to HuggingFace dataset\n",
        "dataset = Dataset.from_pandas(df)\n",
        "print(dataset.features)"
      ]
    },
    {
      "cell_type": "code",
      "execution_count": 7,
      "id": "02b71c6f-79c1-4cf8-b6c8-1f14f77530b0",
      "metadata": {
        "id": "02b71c6f-79c1-4cf8-b6c8-1f14f77530b0",
        "outputId": "b82cc8ec-b962-449f-cd43-33f1e8649e27",
        "colab": {
          "base_uri": "https://localhost:8080/"
        }
      },
      "outputs": [
        {
          "output_type": "stream",
          "name": "stdout",
          "text": [
            "There are 39277 tokens in the training set.\n",
            "There are 9820 tokens in the testing set.\n",
            "\n",
            "First 3 training tokens:\n",
            "{'TOKEN': ['kanye', '.', 'iqhaza'], 'UPOS': ['ADV', 'PUNC', 'N']}\n",
            "\n",
            "First 3 test tokens:\n",
            "{'TOKEN': ['amalungu', 'abawumthombo', '.'], 'UPOS': ['N', 'REL', 'PUNC']}\n"
          ]
        }
      ],
      "source": [
        "data = dataset.train_test_split(test_size=0.2)\n",
        "\n",
        "print(f\"There are {len(data['train'])} tokens in the training set.\")\n",
        "print(f\"There are {len(data['test'])} tokens in the testing set.\\n\")\n",
        "\n",
        "print(f\"First 3 training tokens:\\n{data['train'][:3]}\\n\")\n",
        "print(f\"First 3 test tokens:\\n{data['test'][:3]}\")"
      ]
    },
    {
      "cell_type": "markdown",
      "id": "6cf418fb-0f3f-4423-aae6-ba584dfe09ed",
      "metadata": {
        "id": "6cf418fb-0f3f-4423-aae6-ba584dfe09ed"
      },
      "source": [
        "# Most Frequent Class Tagger (Base)"
      ]
    },
    {
      "cell_type": "markdown",
      "source": [
        "## MFC Model Implementation"
      ],
      "metadata": {
        "id": "_5c63MmuXkFa"
      },
      "id": "_5c63MmuXkFa"
    },
    {
      "cell_type": "code",
      "execution_count": 8,
      "id": "e63b83e6-da10-417b-8c80-6960cc79469b",
      "metadata": {
        "id": "e63b83e6-da10-417b-8c80-6960cc79469b"
      },
      "outputs": [],
      "source": [
        "\"\"\"A function to map either the tags to the count of words with said tag or\n",
        "the words to the count of tags corresponding to the word.\"\"\"\n",
        "# keys -> list of either tags or words\n",
        "# values -> is a similar, corresponding list\n",
        "def pair_counts(keys, values):\n",
        "    out = defaultdict(Counter)\n",
        "\n",
        "    for key, value in zip(keys, values):\n",
        "        out[key][value] += 1\n",
        "\n",
        "    return {key: dict(value_counts) for key, value_counts in out.items()}"
      ]
    },
    {
      "cell_type": "code",
      "execution_count": 9,
      "id": "ca864e85-e5cf-43f5-a621-779343be2041",
      "metadata": {
        "id": "ca864e85-e5cf-43f5-a621-779343be2041",
        "outputId": "eb466b6b-bb88-4c34-f77e-b0facc586f9c",
        "colab": {
          "base_uri": "https://localhost:8080/"
        }
      },
      "outputs": [
        {
          "output_type": "stream",
          "name": "stdout",
          "text": [
            "dict_keys(['ADV', 'PUNC', 'N', 'V', 'PRO'])\n"
          ]
        }
      ],
      "source": [
        "subset = data['train'].select(range(7))\n",
        "tags = [example['UPOS'] for example in subset]\n",
        "words = (example['TOKEN'] for example in subset)\n",
        "\n",
        "emission_counts = pair_counts(tags, words)\n",
        "print(emission_counts.keys())"
      ]
    },
    {
      "cell_type": "code",
      "execution_count": 10,
      "id": "a1ca9a0c-8298-4d64-82f1-11dd6ce27e6b",
      "metadata": {
        "id": "a1ca9a0c-8298-4d64-82f1-11dd6ce27e6b"
      },
      "outputs": [],
      "source": [
        "\"\"\"MFC model class.\n",
        "FakeState is used as the 'states' are actually strings to mimmick a complete tagger like HMM tagger.\n",
        "FakeState has a named field 'name' which could be a Tag or word.\"\"\"\n",
        "FakeState = namedtuple(\"FakeState\", \"name\")\n",
        "\n",
        "class MFCTagger:\n",
        "    missing = FakeState(name=\"<UNK>\")\n",
        "\n",
        "    def __init__(self, table):\n",
        "        self.table = defaultdict(lambda: MFCTagger.missing)\n",
        "        self.table.update({word: FakeState(name=tag) for word, tag in table.items()})\n",
        "\n",
        "    def viterbi(self, seq):\n",
        "        \"\"\"This method simplifies predictions by matching the Pomegranate viterbi() interface\"\"\"\n",
        "        return 0., list(enumerate([\"<s>\"] + [self.table[w] for w in seq] + [\"</s>\"]))"
      ]
    },
    {
      "cell_type": "code",
      "execution_count": 11,
      "id": "f3c711e6-960c-4341-86a7-b660ba37568f",
      "metadata": {
        "id": "f3c711e6-960c-4341-86a7-b660ba37568f"
      },
      "outputs": [],
      "source": [
        "train_set = data['train']\n",
        "test_set = data['test']\n",
        "\n",
        "tags = [example['UPOS'] for example in train_set]\n",
        "words = (example['TOKEN'] for example in train_set)\n",
        "\n",
        "word_counts = pair_counts(words, tags)\n",
        "\n",
        "mfc_table = dict()\n",
        "for word, tags in word_counts.items():\n",
        "    mfc_table[word] = max(tags.keys(), key = lambda key: tags[key])\n",
        "\n",
        "mfc_model = MFCTagger(mfc_table) # Create a Most Frequent Class tagger instance"
      ]
    },
    {
      "cell_type": "code",
      "execution_count": 12,
      "id": "3b67ecd9-c61d-4ca6-b670-7df910751e08",
      "metadata": {
        "id": "3b67ecd9-c61d-4ca6-b670-7df910751e08",
        "outputId": "63e7a6bd-965d-40f1-98cd-5591382ea134",
        "colab": {
          "base_uri": "https://localhost:8080/"
        }
      },
      "outputs": [
        {
          "output_type": "stream",
          "name": "stdout",
          "text": [
            "['ababacabangeli', 'ababambe', 'ababambiqhaza', 'ababambisene', 'ababamele', 'ababandakanyekayo', 'ababanga', 'ababebambe', 'ababelwe', 'ababencishwe']\n"
          ]
        }
      ],
      "source": [
        "# function that returns the vocab of a given dataset\n",
        "def vocab(data_s):\n",
        "    vocab = set()\n",
        "    for token in data_s['TOKEN']:\n",
        "        vocab.add(token)\n",
        "    return sorted(vocab)\n",
        "\n",
        "vocab_list = vocab(train_set)\n",
        "\n",
        "# show vocab starting from 50 to hide punct\n",
        "print(vocab_list[50:60])"
      ]
    },
    {
      "cell_type": "code",
      "execution_count": 13,
      "id": "9b2ae9ed-9583-45c2-a0ab-d0e4e77c8385",
      "metadata": {
        "id": "9b2ae9ed-9583-45c2-a0ab-d0e4e77c8385"
      },
      "outputs": [],
      "source": [
        "def replace_unknown(sequence):\n",
        "    \"\"\"Return a copy of the input sequence where each unknown word is replaced\n",
        "    by the literal string value 'nan'. Pomegranate will ignore these values\n",
        "    during computation.\n",
        "    \"\"\"\n",
        "    return [w if w in vocab(train_set) else 'nan' for w in sequence]\n",
        "\n",
        "def simplify_decoding(observations, model):\n",
        "    \"\"\"observations are the sequences (words) for the model to predict\"\"\"\n",
        "    _, state_path = model.viterbi(replace_unknown(observations))\n",
        "    return [state[1].name for state in state_path[1:-1]]  # do not show the start/end state predictions"
      ]
    },
    {
      "cell_type": "code",
      "execution_count": 14,
      "id": "8909f0e1-bd7a-4b25-8954-585ac067c4a4",
      "metadata": {
        "id": "8909f0e1-bd7a-4b25-8954-585ac067c4a4",
        "outputId": "158de025-4a00-4c9f-80c6-3c3cdd8eb628",
        "colab": {
          "base_uri": "https://localhost:8080/"
        }
      },
      "outputs": [
        {
          "output_type": "stream",
          "name": "stdout",
          "text": [
            "Sentence:\n",
            "-----------------\n",
            "['amalungu', 'abawumthombo', '.', '.', '.', 'intela', 'imali', 'kanjani', 'umsebenzi', 'owodwa']\n",
            "\n",
            "Predicted labels:\n",
            "-----------------\n",
            "['N', 'REL', 'PUNC', 'PUNC', 'PUNC', 'N', 'N', 'ADV', 'N', 'REL']\n",
            "\n",
            "Actual labels:\n",
            "--------------\n",
            "['N', 'REL', 'PUNC', 'PUNC', 'PUNC', 'N', 'N', 'ADV', 'N', 'REL']\n",
            "\n",
            "\n"
          ]
        }
      ],
      "source": [
        "print(\"Sentence:\\n-----------------\")\n",
        "print(test_set['TOKEN'][:10])\n",
        "print()\n",
        "print(\"Predicted labels:\\n-----------------\")\n",
        "print(simplify_decoding(test_set['TOKEN'][:10], mfc_model))\n",
        "print()\n",
        "print(\"Actual labels:\\n--------------\")\n",
        "print(test_set['UPOS'][:10])\n",
        "print(\"\\n\")"
      ]
    },
    {
      "cell_type": "markdown",
      "source": [
        "## Accuracy Score"
      ],
      "metadata": {
        "id": "_9Zw-c8vXeHQ"
      },
      "id": "_9Zw-c8vXeHQ"
    },
    {
      "cell_type": "code",
      "source": [
        "\"\"\"This is a function to determine the accuracy of the model.\n",
        "The way it works is:\n",
        "1) it takes a observation list from test set: test_tokens\n",
        "2) it takes a list of actual tags to predict from test set: actual_tags\n",
        "3) predicts tags from test_sentences using a specified model and stores them in: predicted_tags\n",
        "4) it takes the ratio of the correct predicted_tags to the total tags and returns that as the accuracy score\n",
        "\"\"\"\n",
        "\n",
        "def accuracy(test_tokens, actual_tags, model):\n",
        "    correct = total_predictions = 0\n",
        "    most_likely_tags = simplify_decoding(test_tokens, model)\n",
        "    correct += sum(p == t for p, t in zip(most_likely_tags, actual_tags))\n",
        "    total_predictions += len(test_tokens)\n",
        "    return correct / total_predictions"
      ],
      "metadata": {
        "id": "x2loo249Xsgh"
      },
      "id": "x2loo249Xsgh",
      "execution_count": 15,
      "outputs": []
    },
    {
      "cell_type": "code",
      "source": [
        "# model eval time = 1/240 * (train_limit + test limit) minutes\n",
        "train_limit = 2000\n",
        "test_limit = 600\n",
        "mfc_training_acc = accuracy(train_set['TOKEN'][:train_limit], train_set['UPOS'][:train_limit], mfc_model)\n",
        "print(\"training accuracy mfc_model: {:.2f}%\".format(100 * mfc_training_acc))\n",
        "\n",
        "mfc_testing_acc = accuracy(test_set['TOKEN'][:test_limit], test_set['UPOS'][:test_limit], mfc_model)\n",
        "print(\"testing accuracy mfc_model: {:.2f}%\".format(100 * mfc_testing_acc))"
      ],
      "metadata": {
        "colab": {
          "base_uri": "https://localhost:8080/"
        },
        "id": "L1v1DYKkX1U0",
        "outputId": "4ab3bf03-6284-400d-829d-9dba094326d7"
      },
      "id": "L1v1DYKkX1U0",
      "execution_count": 18,
      "outputs": [
        {
          "output_type": "stream",
          "name": "stdout",
          "text": [
            "training accuracy mfc_model: 96.95%\n",
            "testing accuracy mfc_model: 77.50%\n"
          ]
        }
      ]
    },
    {
      "cell_type": "markdown",
      "source": [
        "# HMM Model"
      ],
      "metadata": {
        "id": "79SxC1Kz48gH"
      },
      "id": "79SxC1Kz48gH"
    },
    {
      "cell_type": "code",
      "source": [
        "\"\"\"\n",
        "This code block implements a for loop that generates sentences\n",
        "from the dataset in the form -> [(w1, t1), (w2, t2), ..., (wn, tn)]\n",
        "\"\"\"\n",
        "sentences = []\n",
        "current_sentence = []\n",
        "\n",
        "for example in dataset:\n",
        "    token = example[\"TOKEN\"]\n",
        "    tag = example[\"UPOS\"]\n",
        "\n",
        "    if token is None or tag is None:\n",
        "        continue  # skip bad data\n",
        "\n",
        "    current_sentence.append((token, tag))\n",
        "\n",
        "    # sentence ends at a full stop or other terminating punctuations\n",
        "    if token in [\".\", \"!\", \"?\"] and tag == \"PUNC\":\n",
        "        sentences.append(current_sentence)\n",
        "        current_sentence = []\n",
        "\n",
        "# add the last sentence if the dataset doesn't end with punctuation\n",
        "if current_sentence:\n",
        "    sentences.append(current_sentence)\n",
        "\n",
        "print(len(sentences))"
      ],
      "metadata": {
        "colab": {
          "base_uri": "https://localhost:8080/"
        },
        "id": "SizL7lYaePIz",
        "outputId": "fc677e3b-3652-46d4-a0f1-ea2b58798a9c"
      },
      "id": "SizL7lYaePIz",
      "execution_count": 21,
      "outputs": [
        {
          "output_type": "stream",
          "name": "stdout",
          "text": [
            "3155\n"
          ]
        }
      ]
    },
    {
      "cell_type": "code",
      "source": [
        "train_data = sentences[:2800]\n",
        "test_data = sentences[2800:]"
      ],
      "metadata": {
        "id": "XQRZY7mofvxq"
      },
      "id": "XQRZY7mofvxq",
      "execution_count": 22,
      "outputs": []
    },
    {
      "cell_type": "code",
      "source": [
        "trainer = hmm.HiddenMarkovModelTrainer()\n",
        "hmm_tagger = trainer.train(train_data)\n",
        "\n",
        "accuracy = hmm_tagger.accuracy(test_data)\n",
        "print(f\"Accuracy Score: {accuracy * 100:.2f}%\")\n",
        "\n",
        "# tagging a sentence from test data\n",
        "pred_sentence = test_data[0]\n",
        "new_sentence = []\n",
        "for i in range(len(pred_sentence)):\n",
        "    new_sentence.append(pred_sentence[i][0])\n",
        "\n",
        "tagged_sentence = hmm_tagger.tag(new_sentence)\n",
        "\n",
        "print()\n",
        "print(f\"Actual Sentence (No tags):\\n{new_sentence}\")\n",
        "print()\n",
        "print(f\"Actual Sentence (To Predict):\\n{pred_sentence}\")\n",
        "print()\n",
        "print(f\"Tagged Sentence (Predicted):\\n{tagged_sentence}\")\n",
        "print()"
      ],
      "metadata": {
        "colab": {
          "base_uri": "https://localhost:8080/"
        },
        "id": "PyW6FAubgOQx",
        "outputId": "961e96e4-b969-481b-ba34-0ce6737588d3"
      },
      "id": "PyW6FAubgOQx",
      "execution_count": 24,
      "outputs": [
        {
          "output_type": "stream",
          "name": "stdout",
          "text": [
            "Accuracy Score: 37.55%\n",
            "\n",
            "Actual Sentence (No tags):\n",
            "['ikomidi', 'lesigceme', 'likamasipala', 'abc', 'livame', 'ukuhambela', 'imihlangano', 'yomkhandlu', 'njalo', '.']\n",
            "\n",
            "Actual Sentence (To Predict):\n",
            "[('ikomidi', 'N'), ('lesigceme', 'POSS'), ('likamasipala', 'N'), ('abc', 'ABBR'), ('livame', 'V'), ('ukuhambela', 'V'), ('imihlangano', 'N'), ('yomkhandlu', 'POSS'), ('njalo', 'ADV'), ('.', 'PUNC')]\n",
            "\n",
            "Tagged Sentence (Predicted):\n",
            "[('ikomidi', 'N'), ('lesigceme', 'CDEM'), ('likamasipala', 'N'), ('abc', 'ABBR'), ('livame', 'V'), ('ukuhambela', 'V'), ('imihlangano', 'V'), ('yomkhandlu', 'V'), ('njalo', 'V'), ('.', 'V')]\n",
            "\n"
          ]
        }
      ]
    },
    {
      "cell_type": "markdown",
      "source": [
        "##  CRF Model"
      ],
      "metadata": {
        "id": "VG8xUJGPlbBB"
      },
      "id": "VG8xUJGPlbBB"
    },
    {
      "cell_type": "markdown",
      "source": [
        "# How the CRF Model Works\n",
        "\n",
        "A Conditional Random Field (CRF) is a machine learning model that's especially powerful for sequence labeling tasks — like predicting the part-of-speech (POS) tag for each word in a sentence.\n",
        "In this project, our goal is to train a CRF to predict the correct UPOS tag for each TOKEN in isiZulu text.<br>\n",
        "\n",
        "Here’s how it will work, step-by-step:<br><br>\n",
        "\n",
        "**1. Feature Extraction**<br>\n",
        "Before training the CRF, we need to describe each word not just by itself, but by a set of useful features.\n",
        "These features capture important clues that help the model make better predictions.\n",
        "\n",
        "For example, for each word, we might include:<br>\n",
        "\n",
        "The word itself (e.g., \"ukwengeza\")\n",
        "\n",
        "Whether the word is all lowercase\n",
        "\n",
        "Whether the word is a digit\n",
        "\n",
        "The first few characters (prefix) or last few characters (suffix)\n",
        "\n",
        "If the previous or next word is punctuation\n",
        "\n",
        "Etc.\n",
        "\n",
        "👉 These features give the CRF \"hints\" about what kind of word it is dealing with.<br><br>\n",
        "\n",
        "**2. Learning Patterns in Sequences**<br>\n",
        "The CRF does not predict each tag independently.\n",
        "Instead, it models the dependencies between tags in a sequence.<br>\n",
        "\n",
        "🔵 Example:<br>\n",
        "If a word is tagged as a determiner (DET), it’s very likely that the next word is a noun (N).\n",
        "If a word is a verb (V), maybe the next word is likely to be a noun or a punctuation mark.<br>\n",
        "\n",
        "The CRF learns these patterns during training:<br>\n",
        "\n",
        "Which features suggest which POS tag?<br>\n",
        "\n",
        "What is the likely sequence of tags?<br><br>\n",
        "\n",
        "**3. Training the CRF Model**<br>\n",
        "During training, the CRF tries to find the best set of parameters that:<br>\n",
        "\n",
        "Assign the correct UPOS tag to each token\n",
        "\n",
        "While also respecting the typical flow of tags across sentences\n",
        "\n",
        "It maximizes the probability of the correct sequence of tags given the observed words and their features.<br><br>\n",
        "\n",
        "**4. Predicting POS Tags**<br>\n",
        "Once trained, the CRF can be used to predict the POS tags for new, unseen text.\n",
        "\n",
        "For a given sequence of words:\n",
        "\n",
        "It looks at the features of each word\n",
        "\n",
        "It chooses the sequence of tags that is most likely, according to what it learned.<br><br>\n",
        "\n",
        "\n",
        "The CRF takes into account both the individual word features and the context (the neighboring words and tags) when making predictions — which makes it smarter than just predicting each word alone.<br><br>\n",
        "\n",
        "🎯 **Why Use a CRF for POS Tagging?**<br>\n",
        "It understands the structure of language (not just word-by-word).\n",
        "\n",
        "It can correct mistakes by looking at neighboring tags.\n",
        "\n",
        "It works very well when you design good features.<br><br>\n",
        "\n",
        "In this project, the CRF model will be compared against a simpler model (Most Frequent Class Tagger) and the HMM model, to see if its extra intelligence leads to better tagging performance."
      ],
      "metadata": {
        "id": "NkR3x9uslhzB"
      },
      "id": "NkR3x9uslhzB"
    },
    {
      "cell_type": "markdown",
      "source": [
        "**1. Feature Extraction**"
      ],
      "metadata": {
        "id": "vqKeLyF6su5D"
      },
      "id": "vqKeLyF6su5D"
    },
    {
      "cell_type": "code",
      "source": [
        "def word2features(sentence, i):\n",
        "  current_word = sentence[i]\n",
        "\n",
        "  # The following dictionary stores features that a single word in a sequence can have.\n",
        "  # Since the CRF model does not see raw words but only sees features about each word, we use a feature dict.\n",
        "  # You can think of the features function as a collection of small \"facts\" about a particular word/token.\n",
        "  features = {\n",
        "      'word.lower():': current_word.lower(),\n",
        "      'word.isupper()': current_word.isupper(),\n",
        "      'word.istitle()': current_word.istitle(),\n",
        "      'word.isdigit()': current_word.isdigit(),\n",
        "      'prefix-3': current_word[:3],\n",
        "      'suffix-3': current_word[-3:]\n",
        "  }\n",
        "\n",
        "  # from the sentence we got as the parameter, we look at word i, the following code is to update (or dynamically add) the features, for the previous word.\n",
        "  #\n",
        "  if i > 0:\n",
        "    prev_word = sentence[i-1]\n",
        "    features.update({\n",
        "        'prev_word.lower()': prev_word.lower(),\n",
        "        'prev_word.istitle()': prev_word.istitle(),\n",
        "        'prev_word.isupper()': prev_word.isupper(),\n",
        "    })\n",
        "  else:\n",
        "    features['BOS'] = True  # Dynamically add the feature for Beginning of sentence for the current_word\n",
        "\n",
        "  if i < len(sentence) - 1:\n",
        "    next_word = sentence[i+1]\n",
        "    features.update({\n",
        "        'next_word.lower()': next_word.lower(),\n",
        "        'next_word.istitle()': next_word.istitle(),\n",
        "        'next_word.isupper()': next_word.isupper()\n",
        "    })\n",
        "  else:\n",
        "    features['EOS'] = True  # Dynamically add the feature for End of sentence for the current_word\n",
        "\n",
        "  return features"
      ],
      "metadata": {
        "id": "coKKzrGolosm"
      },
      "id": "coKKzrGolosm",
      "execution_count": null,
      "outputs": []
    },
    {
      "cell_type": "code",
      "source": [
        "def sentence2features(sentence):\n",
        "  return [word2features(sentence, i) for i in range(len(sentence))]"
      ],
      "metadata": {
        "id": "chnyBA7wuoIu"
      },
      "id": "chnyBA7wuoIu",
      "execution_count": null,
      "outputs": []
    },
    {
      "cell_type": "markdown",
      "source": [
        "The following is a test case for word2features() and setence2features()"
      ],
      "metadata": {
        "id": "pxwgUgSf5thG"
      },
      "id": "pxwgUgSf5thG"
    },
    {
      "cell_type": "code",
      "source": [
        "test_sentence = [\"UKhonzinkosi\", \"wazalwa\", \"ngonyaka\", \"oka\", \"1990\"]\n",
        "\n",
        "# Run feature extraction\n",
        "features_of_sentence = sentence2features(test_sentence)\n",
        "# Print nicely\n",
        "for idx, features in enumerate(features_of_sentence):\n",
        "    print(f\"Word {idx}: '{test_sentence[idx]}' ➔ Features:\")\n",
        "    for key, value in features.items():\n",
        "        print(f\"   {key}: {value}\")\n",
        "    print(\"\\n\")"
      ],
      "metadata": {
        "collapsed": true,
        "id": "_y5tmban5rTW"
      },
      "id": "_y5tmban5rTW",
      "execution_count": null,
      "outputs": []
    }
  ],
  "metadata": {
    "kernelspec": {
      "display_name": "Python 3",
      "name": "python3"
    },
    "language_info": {
      "codemirror_mode": {
        "name": "ipython",
        "version": 3
      },
      "file_extension": ".py",
      "mimetype": "text/x-python",
      "name": "python",
      "nbconvert_exporter": "python",
      "pygments_lexer": "ipython3",
      "version": "3.13.0"
    },
    "colab": {
      "provenance": [],
      "include_colab_link": true
    }
  },
  "nbformat": 4,
  "nbformat_minor": 5
}