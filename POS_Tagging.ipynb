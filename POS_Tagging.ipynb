{
 "cells": [
  {
   "cell_type": "markdown",
   "id": "92202f45-4a9f-42d9-bc52-91d6ffc63fee",
   "metadata": {},
   "source": [
    "# Imports"
   ]
  },
  {
   "cell_type": "code",
   "execution_count": 2,
   "id": "e87a1d77-52bc-41b1-885d-f4e37f876990",
   "metadata": {},
   "outputs": [
    {
     "ename": "ImportError",
     "evalue": "cannot import name 'HiddenMarkovModel' from 'pomegranate' (C:\\Users\\linda\\AppData\\Local\\Programs\\Python\\Python313\\Lib\\site-packages\\pomegranate\\__init__.py)",
     "output_type": "error",
     "traceback": [
      "\u001b[31m---------------------------------------------------------------------------\u001b[39m",
      "\u001b[31mImportError\u001b[39m                               Traceback (most recent call last)",
      "\u001b[36mCell\u001b[39m\u001b[36m \u001b[39m\u001b[32mIn[2]\u001b[39m\u001b[32m, line 4\u001b[39m\n\u001b[32m      2\u001b[39m \u001b[38;5;28;01mfrom\u001b[39;00m\u001b[38;5;250m \u001b[39m\u001b[34;01mdatasets\u001b[39;00m\u001b[38;5;250m \u001b[39m\u001b[38;5;28;01mimport\u001b[39;00m Dataset\n\u001b[32m      3\u001b[39m \u001b[38;5;28;01mfrom\u001b[39;00m\u001b[38;5;250m \u001b[39m\u001b[34;01mcollections\u001b[39;00m\u001b[38;5;250m \u001b[39m\u001b[38;5;28;01mimport\u001b[39;00m Counter, defaultdict, namedtuple\n\u001b[32m----> \u001b[39m\u001b[32m4\u001b[39m \u001b[38;5;28;01mfrom\u001b[39;00m\u001b[38;5;250m \u001b[39m\u001b[34;01mpomegranate\u001b[39;00m\u001b[38;5;250m \u001b[39m\u001b[38;5;28;01mimport\u001b[39;00m HiddenMarkovModel, DiscreteDistribution\n",
      "\u001b[31mImportError\u001b[39m: cannot import name 'HiddenMarkovModel' from 'pomegranate' (C:\\Users\\linda\\AppData\\Local\\Programs\\Python\\Python313\\Lib\\site-packages\\pomegranate\\__init__.py)"
     ]
    }
   ],
   "source": [
    "import pandas as pd\n",
    "from datasets import Dataset\n",
    "from collections import Counter, defaultdict, namedtuple\n",
    "from pomegranate import HiddenMarkovModel, DiscreteDistribution"
   ]
  },
  {
   "cell_type": "markdown",
   "id": "b952b0b0-f171-481e-934a-2dfe6153d15f",
   "metadata": {},
   "source": [
    "# Data Pre-processing"
   ]
  },
  {
   "cell_type": "code",
   "execution_count": null,
   "id": "c7e8c0f7-9c6c-47e8-8592-6d5f6a08d8cc",
   "metadata": {},
   "outputs": [],
   "source": [
    "df = pd.read_csv(r\"zu.gold.seg.data\", delimiter='\\t')\n",
    "df.head(3)"
   ]
  },
  {
   "cell_type": "code",
   "execution_count": null,
   "id": "0f16a958-cea8-421b-8e86-ae3408beb76b",
   "metadata": {},
   "outputs": [],
   "source": [
    "# drop/remove the MORPH ANALYSIS column\n",
    "df = df.drop(columns=['MORPH ANALYSIS'])\n",
    "\n",
    "# convert all tokens to lowercase for a consistent vocab\n",
    "df['TOKEN'] = [token.lower() for token in df['TOKEN']]\n",
    "df.head(10)"
   ]
  },
  {
   "cell_type": "code",
   "execution_count": null,
   "id": "790eb4b3-5999-4490-96d2-f56d5e7905aa",
   "metadata": {},
   "outputs": [],
   "source": [
    "# convert panda dataframe to HuggingFace dataset\n",
    "dataset = Dataset.from_pandas(df)\n",
    "print(dataset.features)"
   ]
  },
  {
   "cell_type": "code",
   "execution_count": null,
   "id": "02b71c6f-79c1-4cf8-b6c8-1f14f77530b0",
   "metadata": {},
   "outputs": [],
   "source": [
    "data = dataset.train_test_split(test_size=0.2)\n",
    "\n",
    "print(f\"There are {len(data['train'])} tokens in the training set.\")\n",
    "print(f\"There are {len(data['test'])} tokens in the testing set.\\n\")\n",
    "\n",
    "print(f\"First 3 training tokens:\\n{data['train'][:3]}\\n\")\n",
    "print(f\"First 3 test tokens:\\n{data['test'][:3]}\")"
   ]
  },
  {
   "cell_type": "markdown",
   "id": "6cf418fb-0f3f-4423-aae6-ba584dfe09ed",
   "metadata": {},
   "source": [
    "# Most Frequent Class Tagger (Base)"
   ]
  },
  {
   "cell_type": "code",
   "execution_count": null,
   "id": "e63b83e6-da10-417b-8c80-6960cc79469b",
   "metadata": {},
   "outputs": [],
   "source": [
    "\"\"\"A function to map either the tags to the count of words with said tag or \n",
    "the words to the count of tags corresponding to the word.\"\"\"\n",
    "# keys -> list of either tags or words\n",
    "# values -> is a similar, corresponding list\n",
    "def pair_counts(keys, values):\n",
    "    out = defaultdict(Counter)\n",
    "\n",
    "    for key, value in zip(keys, values):\n",
    "        out[key][value] += 1\n",
    "\n",
    "    return {key: dict(value_counts) for key, value_counts in out.items()}"
   ]
  },
  {
   "cell_type": "code",
   "execution_count": null,
   "id": "ca864e85-e5cf-43f5-a621-779343be2041",
   "metadata": {},
   "outputs": [],
   "source": [
    "subset = data['train'].select(range(7))\n",
    "tags = [example['UPOS'] for example in subset]\n",
    "words = (example['TOKEN'] for example in subset)\n",
    "\n",
    "emission_counts = pair_counts(tags, words)\n",
    "print(emission_counts.keys())"
   ]
  },
  {
   "cell_type": "code",
   "execution_count": null,
   "id": "a1ca9a0c-8298-4d64-82f1-11dd6ce27e6b",
   "metadata": {},
   "outputs": [],
   "source": [
    "\"\"\"MFC model class.\n",
    "FakeState is used as the 'states' are actually strings to mimmick a complete tagger like HMM tagger.\n",
    "FakeState has a named field 'name' which could be a Tag or word.\"\"\"\n",
    "FakeState = namedtuple(\"FakeState\", \"name\")\n",
    "\n",
    "class MFCTagger:\n",
    "    missing = FakeState(name=\"<UNK>\")\n",
    "    \n",
    "    def __init__(self, table):\n",
    "        self.table = defaultdict(lambda: MFCTagger.missing)\n",
    "        self.table.update({word: FakeState(name=tag) for word, tag in table.items()})\n",
    "        \n",
    "    def viterbi(self, seq):\n",
    "        \"\"\"This method simplifies predictions by matching the Pomegranate viterbi() interface\"\"\"\n",
    "        return 0., list(enumerate([\"<s>\"] + [self.table[w] for w in seq] + [\"</s>\"]))"
   ]
  },
  {
   "cell_type": "code",
   "execution_count": null,
   "id": "f3c711e6-960c-4341-86a7-b660ba37568f",
   "metadata": {},
   "outputs": [],
   "source": [
    "train_set = data['train']\n",
    "test_set = data['test']\n",
    "\n",
    "tags = [example['UPOS'] for example in train_set]\n",
    "words = (example['TOKEN'] for example in train_set)\n",
    "\n",
    "word_counts = pair_counts(words, tags)\n",
    "\n",
    "mfc_table = dict()\n",
    "for word, tags in word_counts.items():\n",
    "    mfc_table[word] = max(tags.keys(), key = lambda key: tags[key])\n",
    "\n",
    "mfc_model = MFCTagger(mfc_table) # Create a Most Frequent Class tagger instance"
   ]
  },
  {
   "cell_type": "code",
   "execution_count": null,
   "id": "3b67ecd9-c61d-4ca6-b670-7df910751e08",
   "metadata": {},
   "outputs": [],
   "source": [
    "# function that returns the vocab of a given dataset\n",
    "def vocab(data_s):\n",
    "    vocab = set()\n",
    "    for token in data_s['TOKEN']:\n",
    "        vocab.add(token)\n",
    "    return sorted(vocab)\n",
    "\n",
    "vocab_list = vocab(train_set)\n",
    "\n",
    "# show vocab starting from 50 to hide punct\n",
    "print(vocab_list[50:60])"
   ]
  },
  {
   "cell_type": "code",
   "execution_count": null,
   "id": "9b2ae9ed-9583-45c2-a0ab-d0e4e77c8385",
   "metadata": {},
   "outputs": [],
   "source": [
    "def replace_unknown(sequence):\n",
    "    \"\"\"Return a copy of the input sequence where each unknown word is replaced\n",
    "    by the literal string value 'nan'. Pomegranate will ignore these values\n",
    "    during computation.\n",
    "    \"\"\"\n",
    "    return [w if w in vocab(train_set) else 'nan' for w in sequence]\n",
    "\n",
    "def simplify_decoding(observations, model):\n",
    "    \"\"\"observations are the sequences (words) for the model to predict\"\"\"\n",
    "    _, state_path = model.viterbi(replace_unknown(observations))\n",
    "    return [state[1].name for state in state_path[1:-1]]  # do not show the start/end state predictions"
   ]
  },
  {
   "cell_type": "code",
   "execution_count": null,
   "id": "8909f0e1-bd7a-4b25-8954-585ac067c4a4",
   "metadata": {},
   "outputs": [],
   "source": [
    "print(\"Predicted labels:\\n-----------------\")\n",
    "print(simplify_decoding(test_set[:20], mfc_model))\n",
    "print()\n",
    "print(\"Actual labels:\\n--------------\")\n",
    "print(test_set['UPOS'][:20])\n",
    "print(\"\\n\")"
   ]
  },
  {
   "cell_type": "code",
   "execution_count": null,
   "id": "c248032f-d523-4f13-ac1c-5cc571d77552",
   "metadata": {},
   "outputs": [],
   "source": []
  }
 ],
 "metadata": {
  "kernelspec": {
   "display_name": "Python 3 (ipykernel)",
   "language": "python",
   "name": "python3"
  },
  "language_info": {
   "codemirror_mode": {
    "name": "ipython",
    "version": 3
   },
   "file_extension": ".py",
   "mimetype": "text/x-python",
   "name": "python",
   "nbconvert_exporter": "python",
   "pygments_lexer": "ipython3",
   "version": "3.13.0"
  }
 },
 "nbformat": 4,
 "nbformat_minor": 5
}
