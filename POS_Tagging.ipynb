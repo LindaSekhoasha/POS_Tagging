{
  "cells": [
    {
      "cell_type": "markdown",
      "metadata": {
        "id": "view-in-github",
        "colab_type": "text"
      },
      "source": [
        "<a href=\"https://colab.research.google.com/github/LindaSekhoasha/POS_Tagging/blob/main/POS_Tagging.ipynb\" target=\"_parent\"><img src=\"https://colab.research.google.com/assets/colab-badge.svg\" alt=\"Open In Colab\"/></a>"
      ]
    },
    {
      "cell_type": "markdown",
      "source": [
        "# Meet Our Group"
      ],
      "metadata": {
        "id": "DliWpRafgO8w"
      },
      "id": "DliWpRafgO8w"
    },
    {
      "cell_type": "markdown",
      "source": [
        "\n",
        "\n",
        "*   Linda Sekhoasha (Student Number)\n",
        "*   Wandile Ngobese (222056013)\n",
        "*   Khonzinkosi Mkhize (Student Number)\n",
        "*   Samukelo Mkhize (Student Number)"
      ],
      "metadata": {
        "id": "tciSCC2xgXjV"
      },
      "id": "tciSCC2xgXjV"
    },
    {
      "cell_type": "markdown",
      "id": "92202f45-4a9f-42d9-bc52-91d6ffc63fee",
      "metadata": {
        "id": "92202f45-4a9f-42d9-bc52-91d6ffc63fee"
      },
      "source": [
        "# Imports"
      ]
    },
    {
      "cell_type": "code",
      "source": [
        "!pip install datasets\n",
        "!pip install pomegranate"
      ],
      "metadata": {
        "id": "xuRrN4CxZ2Sc"
      },
      "id": "xuRrN4CxZ2Sc",
      "execution_count": null,
      "outputs": []
    },
    {
      "cell_type": "code",
      "execution_count": null,
      "id": "e87a1d77-52bc-41b1-885d-f4e37f876990",
      "metadata": {
        "id": "e87a1d77-52bc-41b1-885d-f4e37f876990"
      },
      "outputs": [],
      "source": [
        "import pandas as pd\n",
        "from datasets import Dataset\n",
        "from collections import Counter, defaultdict, namedtuple\n",
        "# from pomegranate import HiddenMarkovModel, DiscreteDistribution"
      ]
    },
    {
      "cell_type": "markdown",
      "id": "b952b0b0-f171-481e-934a-2dfe6153d15f",
      "metadata": {
        "id": "b952b0b0-f171-481e-934a-2dfe6153d15f"
      },
      "source": [
        "# Data Pre-processing"
      ]
    },
    {
      "cell_type": "code",
      "source": [
        "from google.colab import drive\n",
        "drive.mount('/content/drive')"
      ],
      "metadata": {
        "id": "us8n5EI-a3W-",
        "outputId": "515726d7-7393-4177-c41b-553e9e0954b8",
        "colab": {
          "base_uri": "https://localhost:8080/"
        }
      },
      "id": "us8n5EI-a3W-",
      "execution_count": null,
      "outputs": [
        {
          "output_type": "stream",
          "name": "stdout",
          "text": [
            "Drive already mounted at /content/drive; to attempt to forcibly remount, call drive.mount(\"/content/drive\", force_remount=True).\n"
          ]
        }
      ]
    },
    {
      "cell_type": "code",
      "execution_count": null,
      "id": "c7e8c0f7-9c6c-47e8-8592-6d5f6a08d8cc",
      "metadata": {
        "id": "c7e8c0f7-9c6c-47e8-8592-6d5f6a08d8cc",
        "outputId": "0aaafb55-e3d7-4292-8565-de6392265e7c",
        "colab": {
          "base_uri": "https://localhost:8080/",
          "height": 143
        }
      },
      "outputs": [
        {
          "output_type": "execute_result",
          "data": {
            "text/plain": [
              "       TOKEN MORPH ANALYSIS  UPOS\n",
              "0  Ukwengeza   u-kw-engez-a     V\n",
              "1    kulokhu       ku-lokhu  CDEM\n",
              "2          ,              ,  PUNC"
            ],
            "text/html": [
              "\n",
              "  <div id=\"df-f6093447-9d2e-42a3-9fbc-09d5af495123\" class=\"colab-df-container\">\n",
              "    <div>\n",
              "<style scoped>\n",
              "    .dataframe tbody tr th:only-of-type {\n",
              "        vertical-align: middle;\n",
              "    }\n",
              "\n",
              "    .dataframe tbody tr th {\n",
              "        vertical-align: top;\n",
              "    }\n",
              "\n",
              "    .dataframe thead th {\n",
              "        text-align: right;\n",
              "    }\n",
              "</style>\n",
              "<table border=\"1\" class=\"dataframe\">\n",
              "  <thead>\n",
              "    <tr style=\"text-align: right;\">\n",
              "      <th></th>\n",
              "      <th>TOKEN</th>\n",
              "      <th>MORPH ANALYSIS</th>\n",
              "      <th>UPOS</th>\n",
              "    </tr>\n",
              "  </thead>\n",
              "  <tbody>\n",
              "    <tr>\n",
              "      <th>0</th>\n",
              "      <td>Ukwengeza</td>\n",
              "      <td>u-kw-engez-a</td>\n",
              "      <td>V</td>\n",
              "    </tr>\n",
              "    <tr>\n",
              "      <th>1</th>\n",
              "      <td>kulokhu</td>\n",
              "      <td>ku-lokhu</td>\n",
              "      <td>CDEM</td>\n",
              "    </tr>\n",
              "    <tr>\n",
              "      <th>2</th>\n",
              "      <td>,</td>\n",
              "      <td>,</td>\n",
              "      <td>PUNC</td>\n",
              "    </tr>\n",
              "  </tbody>\n",
              "</table>\n",
              "</div>\n",
              "    <div class=\"colab-df-buttons\">\n",
              "\n",
              "  <div class=\"colab-df-container\">\n",
              "    <button class=\"colab-df-convert\" onclick=\"convertToInteractive('df-f6093447-9d2e-42a3-9fbc-09d5af495123')\"\n",
              "            title=\"Convert this dataframe to an interactive table.\"\n",
              "            style=\"display:none;\">\n",
              "\n",
              "  <svg xmlns=\"http://www.w3.org/2000/svg\" height=\"24px\" viewBox=\"0 -960 960 960\">\n",
              "    <path d=\"M120-120v-720h720v720H120Zm60-500h600v-160H180v160Zm220 220h160v-160H400v160Zm0 220h160v-160H400v160ZM180-400h160v-160H180v160Zm440 0h160v-160H620v160ZM180-180h160v-160H180v160Zm440 0h160v-160H620v160Z\"/>\n",
              "  </svg>\n",
              "    </button>\n",
              "\n",
              "  <style>\n",
              "    .colab-df-container {\n",
              "      display:flex;\n",
              "      gap: 12px;\n",
              "    }\n",
              "\n",
              "    .colab-df-convert {\n",
              "      background-color: #E8F0FE;\n",
              "      border: none;\n",
              "      border-radius: 50%;\n",
              "      cursor: pointer;\n",
              "      display: none;\n",
              "      fill: #1967D2;\n",
              "      height: 32px;\n",
              "      padding: 0 0 0 0;\n",
              "      width: 32px;\n",
              "    }\n",
              "\n",
              "    .colab-df-convert:hover {\n",
              "      background-color: #E2EBFA;\n",
              "      box-shadow: 0px 1px 2px rgba(60, 64, 67, 0.3), 0px 1px 3px 1px rgba(60, 64, 67, 0.15);\n",
              "      fill: #174EA6;\n",
              "    }\n",
              "\n",
              "    .colab-df-buttons div {\n",
              "      margin-bottom: 4px;\n",
              "    }\n",
              "\n",
              "    [theme=dark] .colab-df-convert {\n",
              "      background-color: #3B4455;\n",
              "      fill: #D2E3FC;\n",
              "    }\n",
              "\n",
              "    [theme=dark] .colab-df-convert:hover {\n",
              "      background-color: #434B5C;\n",
              "      box-shadow: 0px 1px 3px 1px rgba(0, 0, 0, 0.15);\n",
              "      filter: drop-shadow(0px 1px 2px rgba(0, 0, 0, 0.3));\n",
              "      fill: #FFFFFF;\n",
              "    }\n",
              "  </style>\n",
              "\n",
              "    <script>\n",
              "      const buttonEl =\n",
              "        document.querySelector('#df-f6093447-9d2e-42a3-9fbc-09d5af495123 button.colab-df-convert');\n",
              "      buttonEl.style.display =\n",
              "        google.colab.kernel.accessAllowed ? 'block' : 'none';\n",
              "\n",
              "      async function convertToInteractive(key) {\n",
              "        const element = document.querySelector('#df-f6093447-9d2e-42a3-9fbc-09d5af495123');\n",
              "        const dataTable =\n",
              "          await google.colab.kernel.invokeFunction('convertToInteractive',\n",
              "                                                    [key], {});\n",
              "        if (!dataTable) return;\n",
              "\n",
              "        const docLinkHtml = 'Like what you see? Visit the ' +\n",
              "          '<a target=\"_blank\" href=https://colab.research.google.com/notebooks/data_table.ipynb>data table notebook</a>'\n",
              "          + ' to learn more about interactive tables.';\n",
              "        element.innerHTML = '';\n",
              "        dataTable['output_type'] = 'display_data';\n",
              "        await google.colab.output.renderOutput(dataTable, element);\n",
              "        const docLink = document.createElement('div');\n",
              "        docLink.innerHTML = docLinkHtml;\n",
              "        element.appendChild(docLink);\n",
              "      }\n",
              "    </script>\n",
              "  </div>\n",
              "\n",
              "\n",
              "<div id=\"df-a166f22b-2886-429f-8c07-bb709465b59f\">\n",
              "  <button class=\"colab-df-quickchart\" onclick=\"quickchart('df-a166f22b-2886-429f-8c07-bb709465b59f')\"\n",
              "            title=\"Suggest charts\"\n",
              "            style=\"display:none;\">\n",
              "\n",
              "<svg xmlns=\"http://www.w3.org/2000/svg\" height=\"24px\"viewBox=\"0 0 24 24\"\n",
              "     width=\"24px\">\n",
              "    <g>\n",
              "        <path d=\"M19 3H5c-1.1 0-2 .9-2 2v14c0 1.1.9 2 2 2h14c1.1 0 2-.9 2-2V5c0-1.1-.9-2-2-2zM9 17H7v-7h2v7zm4 0h-2V7h2v10zm4 0h-2v-4h2v4z\"/>\n",
              "    </g>\n",
              "</svg>\n",
              "  </button>\n",
              "\n",
              "<style>\n",
              "  .colab-df-quickchart {\n",
              "      --bg-color: #E8F0FE;\n",
              "      --fill-color: #1967D2;\n",
              "      --hover-bg-color: #E2EBFA;\n",
              "      --hover-fill-color: #174EA6;\n",
              "      --disabled-fill-color: #AAA;\n",
              "      --disabled-bg-color: #DDD;\n",
              "  }\n",
              "\n",
              "  [theme=dark] .colab-df-quickchart {\n",
              "      --bg-color: #3B4455;\n",
              "      --fill-color: #D2E3FC;\n",
              "      --hover-bg-color: #434B5C;\n",
              "      --hover-fill-color: #FFFFFF;\n",
              "      --disabled-bg-color: #3B4455;\n",
              "      --disabled-fill-color: #666;\n",
              "  }\n",
              "\n",
              "  .colab-df-quickchart {\n",
              "    background-color: var(--bg-color);\n",
              "    border: none;\n",
              "    border-radius: 50%;\n",
              "    cursor: pointer;\n",
              "    display: none;\n",
              "    fill: var(--fill-color);\n",
              "    height: 32px;\n",
              "    padding: 0;\n",
              "    width: 32px;\n",
              "  }\n",
              "\n",
              "  .colab-df-quickchart:hover {\n",
              "    background-color: var(--hover-bg-color);\n",
              "    box-shadow: 0 1px 2px rgba(60, 64, 67, 0.3), 0 1px 3px 1px rgba(60, 64, 67, 0.15);\n",
              "    fill: var(--button-hover-fill-color);\n",
              "  }\n",
              "\n",
              "  .colab-df-quickchart-complete:disabled,\n",
              "  .colab-df-quickchart-complete:disabled:hover {\n",
              "    background-color: var(--disabled-bg-color);\n",
              "    fill: var(--disabled-fill-color);\n",
              "    box-shadow: none;\n",
              "  }\n",
              "\n",
              "  .colab-df-spinner {\n",
              "    border: 2px solid var(--fill-color);\n",
              "    border-color: transparent;\n",
              "    border-bottom-color: var(--fill-color);\n",
              "    animation:\n",
              "      spin 1s steps(1) infinite;\n",
              "  }\n",
              "\n",
              "  @keyframes spin {\n",
              "    0% {\n",
              "      border-color: transparent;\n",
              "      border-bottom-color: var(--fill-color);\n",
              "      border-left-color: var(--fill-color);\n",
              "    }\n",
              "    20% {\n",
              "      border-color: transparent;\n",
              "      border-left-color: var(--fill-color);\n",
              "      border-top-color: var(--fill-color);\n",
              "    }\n",
              "    30% {\n",
              "      border-color: transparent;\n",
              "      border-left-color: var(--fill-color);\n",
              "      border-top-color: var(--fill-color);\n",
              "      border-right-color: var(--fill-color);\n",
              "    }\n",
              "    40% {\n",
              "      border-color: transparent;\n",
              "      border-right-color: var(--fill-color);\n",
              "      border-top-color: var(--fill-color);\n",
              "    }\n",
              "    60% {\n",
              "      border-color: transparent;\n",
              "      border-right-color: var(--fill-color);\n",
              "    }\n",
              "    80% {\n",
              "      border-color: transparent;\n",
              "      border-right-color: var(--fill-color);\n",
              "      border-bottom-color: var(--fill-color);\n",
              "    }\n",
              "    90% {\n",
              "      border-color: transparent;\n",
              "      border-bottom-color: var(--fill-color);\n",
              "    }\n",
              "  }\n",
              "</style>\n",
              "\n",
              "  <script>\n",
              "    async function quickchart(key) {\n",
              "      const quickchartButtonEl =\n",
              "        document.querySelector('#' + key + ' button');\n",
              "      quickchartButtonEl.disabled = true;  // To prevent multiple clicks.\n",
              "      quickchartButtonEl.classList.add('colab-df-spinner');\n",
              "      try {\n",
              "        const charts = await google.colab.kernel.invokeFunction(\n",
              "            'suggestCharts', [key], {});\n",
              "      } catch (error) {\n",
              "        console.error('Error during call to suggestCharts:', error);\n",
              "      }\n",
              "      quickchartButtonEl.classList.remove('colab-df-spinner');\n",
              "      quickchartButtonEl.classList.add('colab-df-quickchart-complete');\n",
              "    }\n",
              "    (() => {\n",
              "      let quickchartButtonEl =\n",
              "        document.querySelector('#df-a166f22b-2886-429f-8c07-bb709465b59f button');\n",
              "      quickchartButtonEl.style.display =\n",
              "        google.colab.kernel.accessAllowed ? 'block' : 'none';\n",
              "    })();\n",
              "  </script>\n",
              "</div>\n",
              "\n",
              "    </div>\n",
              "  </div>\n"
            ],
            "application/vnd.google.colaboratory.intrinsic+json": {
              "type": "dataframe",
              "variable_name": "df",
              "summary": "{\n  \"name\": \"df\",\n  \"rows\": 49097,\n  \"fields\": [\n    {\n      \"column\": \"TOKEN\",\n      \"properties\": {\n        \"dtype\": \"category\",\n        \"num_unique_values\": 14337,\n        \"samples\": [\n          \"ubeka\",\n          \"MANAGEMENT\",\n          \"kwenyusa\"\n        ],\n        \"semantic_type\": \"\",\n        \"description\": \"\"\n      }\n    },\n    {\n      \"column\": \"MORPH ANALYSIS\",\n      \"properties\": {\n        \"dtype\": \"category\",\n        \"num_unique_values\": 14664,\n        \"samples\": [\n          \"ku-y-i-n-dlela\",\n          \"u-m-lingani\",\n          \"u-ku-yi-qeda\"\n        ],\n        \"semantic_type\": \"\",\n        \"description\": \"\"\n      }\n    },\n    {\n      \"column\": \"UPOS\",\n      \"properties\": {\n        \"dtype\": \"category\",\n        \"num_unique_values\": 16,\n        \"samples\": [\n          \"V\",\n          \"CDEM\",\n          \"REL\"\n        ],\n        \"semantic_type\": \"\",\n        \"description\": \"\"\n      }\n    }\n  ]\n}"
            }
          },
          "metadata": {},
          "execution_count": 11
        }
      ],
      "source": [
        "df = pd.read_csv(r\"/content/drive/MyDrive/dataset/zu.gold.seg.data\", delimiter='\\t')\n",
        "df.head(3)"
      ]
    },
    {
      "cell_type": "code",
      "execution_count": null,
      "id": "0f16a958-cea8-421b-8e86-ae3408beb76b",
      "metadata": {
        "id": "0f16a958-cea8-421b-8e86-ae3408beb76b",
        "outputId": "4de8f2a2-1db1-44de-be84-c50f77903a90",
        "colab": {
          "base_uri": "https://localhost:8080/",
          "height": 363
        }
      },
      "outputs": [
        {
          "output_type": "execute_result",
          "data": {
            "text/plain": [
              "               TOKEN  UPOS\n",
              "0          ukwengeza     V\n",
              "1            kulokhu  CDEM\n",
              "2                  ,  PUNC\n",
              "3         imibandela     N\n",
              "4           iyenziwa     V\n",
              "5            ukwakha     V\n",
              "6          amakomiti     N\n",
              "7            amawadi     N\n",
              "8                  ,  PUNC\n",
              "9  njengezinhlangano   ADV"
            ],
            "text/html": [
              "\n",
              "  <div id=\"df-3788e254-756a-497b-baf4-526c676bfbe6\" class=\"colab-df-container\">\n",
              "    <div>\n",
              "<style scoped>\n",
              "    .dataframe tbody tr th:only-of-type {\n",
              "        vertical-align: middle;\n",
              "    }\n",
              "\n",
              "    .dataframe tbody tr th {\n",
              "        vertical-align: top;\n",
              "    }\n",
              "\n",
              "    .dataframe thead th {\n",
              "        text-align: right;\n",
              "    }\n",
              "</style>\n",
              "<table border=\"1\" class=\"dataframe\">\n",
              "  <thead>\n",
              "    <tr style=\"text-align: right;\">\n",
              "      <th></th>\n",
              "      <th>TOKEN</th>\n",
              "      <th>UPOS</th>\n",
              "    </tr>\n",
              "  </thead>\n",
              "  <tbody>\n",
              "    <tr>\n",
              "      <th>0</th>\n",
              "      <td>ukwengeza</td>\n",
              "      <td>V</td>\n",
              "    </tr>\n",
              "    <tr>\n",
              "      <th>1</th>\n",
              "      <td>kulokhu</td>\n",
              "      <td>CDEM</td>\n",
              "    </tr>\n",
              "    <tr>\n",
              "      <th>2</th>\n",
              "      <td>,</td>\n",
              "      <td>PUNC</td>\n",
              "    </tr>\n",
              "    <tr>\n",
              "      <th>3</th>\n",
              "      <td>imibandela</td>\n",
              "      <td>N</td>\n",
              "    </tr>\n",
              "    <tr>\n",
              "      <th>4</th>\n",
              "      <td>iyenziwa</td>\n",
              "      <td>V</td>\n",
              "    </tr>\n",
              "    <tr>\n",
              "      <th>5</th>\n",
              "      <td>ukwakha</td>\n",
              "      <td>V</td>\n",
              "    </tr>\n",
              "    <tr>\n",
              "      <th>6</th>\n",
              "      <td>amakomiti</td>\n",
              "      <td>N</td>\n",
              "    </tr>\n",
              "    <tr>\n",
              "      <th>7</th>\n",
              "      <td>amawadi</td>\n",
              "      <td>N</td>\n",
              "    </tr>\n",
              "    <tr>\n",
              "      <th>8</th>\n",
              "      <td>,</td>\n",
              "      <td>PUNC</td>\n",
              "    </tr>\n",
              "    <tr>\n",
              "      <th>9</th>\n",
              "      <td>njengezinhlangano</td>\n",
              "      <td>ADV</td>\n",
              "    </tr>\n",
              "  </tbody>\n",
              "</table>\n",
              "</div>\n",
              "    <div class=\"colab-df-buttons\">\n",
              "\n",
              "  <div class=\"colab-df-container\">\n",
              "    <button class=\"colab-df-convert\" onclick=\"convertToInteractive('df-3788e254-756a-497b-baf4-526c676bfbe6')\"\n",
              "            title=\"Convert this dataframe to an interactive table.\"\n",
              "            style=\"display:none;\">\n",
              "\n",
              "  <svg xmlns=\"http://www.w3.org/2000/svg\" height=\"24px\" viewBox=\"0 -960 960 960\">\n",
              "    <path d=\"M120-120v-720h720v720H120Zm60-500h600v-160H180v160Zm220 220h160v-160H400v160Zm0 220h160v-160H400v160ZM180-400h160v-160H180v160Zm440 0h160v-160H620v160ZM180-180h160v-160H180v160Zm440 0h160v-160H620v160Z\"/>\n",
              "  </svg>\n",
              "    </button>\n",
              "\n",
              "  <style>\n",
              "    .colab-df-container {\n",
              "      display:flex;\n",
              "      gap: 12px;\n",
              "    }\n",
              "\n",
              "    .colab-df-convert {\n",
              "      background-color: #E8F0FE;\n",
              "      border: none;\n",
              "      border-radius: 50%;\n",
              "      cursor: pointer;\n",
              "      display: none;\n",
              "      fill: #1967D2;\n",
              "      height: 32px;\n",
              "      padding: 0 0 0 0;\n",
              "      width: 32px;\n",
              "    }\n",
              "\n",
              "    .colab-df-convert:hover {\n",
              "      background-color: #E2EBFA;\n",
              "      box-shadow: 0px 1px 2px rgba(60, 64, 67, 0.3), 0px 1px 3px 1px rgba(60, 64, 67, 0.15);\n",
              "      fill: #174EA6;\n",
              "    }\n",
              "\n",
              "    .colab-df-buttons div {\n",
              "      margin-bottom: 4px;\n",
              "    }\n",
              "\n",
              "    [theme=dark] .colab-df-convert {\n",
              "      background-color: #3B4455;\n",
              "      fill: #D2E3FC;\n",
              "    }\n",
              "\n",
              "    [theme=dark] .colab-df-convert:hover {\n",
              "      background-color: #434B5C;\n",
              "      box-shadow: 0px 1px 3px 1px rgba(0, 0, 0, 0.15);\n",
              "      filter: drop-shadow(0px 1px 2px rgba(0, 0, 0, 0.3));\n",
              "      fill: #FFFFFF;\n",
              "    }\n",
              "  </style>\n",
              "\n",
              "    <script>\n",
              "      const buttonEl =\n",
              "        document.querySelector('#df-3788e254-756a-497b-baf4-526c676bfbe6 button.colab-df-convert');\n",
              "      buttonEl.style.display =\n",
              "        google.colab.kernel.accessAllowed ? 'block' : 'none';\n",
              "\n",
              "      async function convertToInteractive(key) {\n",
              "        const element = document.querySelector('#df-3788e254-756a-497b-baf4-526c676bfbe6');\n",
              "        const dataTable =\n",
              "          await google.colab.kernel.invokeFunction('convertToInteractive',\n",
              "                                                    [key], {});\n",
              "        if (!dataTable) return;\n",
              "\n",
              "        const docLinkHtml = 'Like what you see? Visit the ' +\n",
              "          '<a target=\"_blank\" href=https://colab.research.google.com/notebooks/data_table.ipynb>data table notebook</a>'\n",
              "          + ' to learn more about interactive tables.';\n",
              "        element.innerHTML = '';\n",
              "        dataTable['output_type'] = 'display_data';\n",
              "        await google.colab.output.renderOutput(dataTable, element);\n",
              "        const docLink = document.createElement('div');\n",
              "        docLink.innerHTML = docLinkHtml;\n",
              "        element.appendChild(docLink);\n",
              "      }\n",
              "    </script>\n",
              "  </div>\n",
              "\n",
              "\n",
              "<div id=\"df-78ef2a11-9548-4e25-a7e5-55589e63d34c\">\n",
              "  <button class=\"colab-df-quickchart\" onclick=\"quickchart('df-78ef2a11-9548-4e25-a7e5-55589e63d34c')\"\n",
              "            title=\"Suggest charts\"\n",
              "            style=\"display:none;\">\n",
              "\n",
              "<svg xmlns=\"http://www.w3.org/2000/svg\" height=\"24px\"viewBox=\"0 0 24 24\"\n",
              "     width=\"24px\">\n",
              "    <g>\n",
              "        <path d=\"M19 3H5c-1.1 0-2 .9-2 2v14c0 1.1.9 2 2 2h14c1.1 0 2-.9 2-2V5c0-1.1-.9-2-2-2zM9 17H7v-7h2v7zm4 0h-2V7h2v10zm4 0h-2v-4h2v4z\"/>\n",
              "    </g>\n",
              "</svg>\n",
              "  </button>\n",
              "\n",
              "<style>\n",
              "  .colab-df-quickchart {\n",
              "      --bg-color: #E8F0FE;\n",
              "      --fill-color: #1967D2;\n",
              "      --hover-bg-color: #E2EBFA;\n",
              "      --hover-fill-color: #174EA6;\n",
              "      --disabled-fill-color: #AAA;\n",
              "      --disabled-bg-color: #DDD;\n",
              "  }\n",
              "\n",
              "  [theme=dark] .colab-df-quickchart {\n",
              "      --bg-color: #3B4455;\n",
              "      --fill-color: #D2E3FC;\n",
              "      --hover-bg-color: #434B5C;\n",
              "      --hover-fill-color: #FFFFFF;\n",
              "      --disabled-bg-color: #3B4455;\n",
              "      --disabled-fill-color: #666;\n",
              "  }\n",
              "\n",
              "  .colab-df-quickchart {\n",
              "    background-color: var(--bg-color);\n",
              "    border: none;\n",
              "    border-radius: 50%;\n",
              "    cursor: pointer;\n",
              "    display: none;\n",
              "    fill: var(--fill-color);\n",
              "    height: 32px;\n",
              "    padding: 0;\n",
              "    width: 32px;\n",
              "  }\n",
              "\n",
              "  .colab-df-quickchart:hover {\n",
              "    background-color: var(--hover-bg-color);\n",
              "    box-shadow: 0 1px 2px rgba(60, 64, 67, 0.3), 0 1px 3px 1px rgba(60, 64, 67, 0.15);\n",
              "    fill: var(--button-hover-fill-color);\n",
              "  }\n",
              "\n",
              "  .colab-df-quickchart-complete:disabled,\n",
              "  .colab-df-quickchart-complete:disabled:hover {\n",
              "    background-color: var(--disabled-bg-color);\n",
              "    fill: var(--disabled-fill-color);\n",
              "    box-shadow: none;\n",
              "  }\n",
              "\n",
              "  .colab-df-spinner {\n",
              "    border: 2px solid var(--fill-color);\n",
              "    border-color: transparent;\n",
              "    border-bottom-color: var(--fill-color);\n",
              "    animation:\n",
              "      spin 1s steps(1) infinite;\n",
              "  }\n",
              "\n",
              "  @keyframes spin {\n",
              "    0% {\n",
              "      border-color: transparent;\n",
              "      border-bottom-color: var(--fill-color);\n",
              "      border-left-color: var(--fill-color);\n",
              "    }\n",
              "    20% {\n",
              "      border-color: transparent;\n",
              "      border-left-color: var(--fill-color);\n",
              "      border-top-color: var(--fill-color);\n",
              "    }\n",
              "    30% {\n",
              "      border-color: transparent;\n",
              "      border-left-color: var(--fill-color);\n",
              "      border-top-color: var(--fill-color);\n",
              "      border-right-color: var(--fill-color);\n",
              "    }\n",
              "    40% {\n",
              "      border-color: transparent;\n",
              "      border-right-color: var(--fill-color);\n",
              "      border-top-color: var(--fill-color);\n",
              "    }\n",
              "    60% {\n",
              "      border-color: transparent;\n",
              "      border-right-color: var(--fill-color);\n",
              "    }\n",
              "    80% {\n",
              "      border-color: transparent;\n",
              "      border-right-color: var(--fill-color);\n",
              "      border-bottom-color: var(--fill-color);\n",
              "    }\n",
              "    90% {\n",
              "      border-color: transparent;\n",
              "      border-bottom-color: var(--fill-color);\n",
              "    }\n",
              "  }\n",
              "</style>\n",
              "\n",
              "  <script>\n",
              "    async function quickchart(key) {\n",
              "      const quickchartButtonEl =\n",
              "        document.querySelector('#' + key + ' button');\n",
              "      quickchartButtonEl.disabled = true;  // To prevent multiple clicks.\n",
              "      quickchartButtonEl.classList.add('colab-df-spinner');\n",
              "      try {\n",
              "        const charts = await google.colab.kernel.invokeFunction(\n",
              "            'suggestCharts', [key], {});\n",
              "      } catch (error) {\n",
              "        console.error('Error during call to suggestCharts:', error);\n",
              "      }\n",
              "      quickchartButtonEl.classList.remove('colab-df-spinner');\n",
              "      quickchartButtonEl.classList.add('colab-df-quickchart-complete');\n",
              "    }\n",
              "    (() => {\n",
              "      let quickchartButtonEl =\n",
              "        document.querySelector('#df-78ef2a11-9548-4e25-a7e5-55589e63d34c button');\n",
              "      quickchartButtonEl.style.display =\n",
              "        google.colab.kernel.accessAllowed ? 'block' : 'none';\n",
              "    })();\n",
              "  </script>\n",
              "</div>\n",
              "\n",
              "    </div>\n",
              "  </div>\n"
            ],
            "application/vnd.google.colaboratory.intrinsic+json": {
              "type": "dataframe",
              "variable_name": "df",
              "summary": "{\n  \"name\": \"df\",\n  \"rows\": 49097,\n  \"fields\": [\n    {\n      \"column\": \"TOKEN\",\n      \"properties\": {\n        \"dtype\": \"category\",\n        \"num_unique_values\": 13010,\n        \"samples\": [\n          \"ngokomzimba\",\n          \"kugxilwe\",\n          \"zazi\"\n        ],\n        \"semantic_type\": \"\",\n        \"description\": \"\"\n      }\n    },\n    {\n      \"column\": \"UPOS\",\n      \"properties\": {\n        \"dtype\": \"category\",\n        \"num_unique_values\": 16,\n        \"samples\": [\n          \"V\",\n          \"CDEM\",\n          \"REL\"\n        ],\n        \"semantic_type\": \"\",\n        \"description\": \"\"\n      }\n    }\n  ]\n}"
            }
          },
          "metadata": {},
          "execution_count": 12
        }
      ],
      "source": [
        "# drop/remove the MORPH ANALYSIS column\n",
        "df = df.drop(columns=['MORPH ANALYSIS'])\n",
        "\n",
        "# convert all tokens to lowercase for a consistent vocab\n",
        "df['TOKEN'] = [token.lower() for token in df['TOKEN']]\n",
        "df.head(10)"
      ]
    },
    {
      "cell_type": "code",
      "execution_count": null,
      "id": "790eb4b3-5999-4490-96d2-f56d5e7905aa",
      "metadata": {
        "id": "790eb4b3-5999-4490-96d2-f56d5e7905aa",
        "outputId": "0fd012d7-5956-4cb7-a493-94f09a651aa4",
        "colab": {
          "base_uri": "https://localhost:8080/"
        }
      },
      "outputs": [
        {
          "output_type": "stream",
          "name": "stdout",
          "text": [
            "{'TOKEN': Value(dtype='string', id=None), 'UPOS': Value(dtype='string', id=None)}\n"
          ]
        }
      ],
      "source": [
        "# convert panda dataframe to HuggingFace dataset\n",
        "dataset = Dataset.from_pandas(df)\n",
        "print(dataset.features)"
      ]
    },
    {
      "cell_type": "code",
      "execution_count": null,
      "id": "02b71c6f-79c1-4cf8-b6c8-1f14f77530b0",
      "metadata": {
        "id": "02b71c6f-79c1-4cf8-b6c8-1f14f77530b0",
        "outputId": "efbae08f-5937-47d0-a49b-ed37207c76ba",
        "colab": {
          "base_uri": "https://localhost:8080/"
        }
      },
      "outputs": [
        {
          "output_type": "stream",
          "name": "stdout",
          "text": [
            "There are 39277 tokens in the training set.\n",
            "There are 9820 tokens in the testing set.\n",
            "\n",
            "First 3 training tokens:\n",
            "{'TOKEN': [',', 'kahulumeni', 'umbiko'], 'UPOS': ['PUNC', 'POSS', 'N']}\n",
            "\n",
            "First 3 test tokens:\n",
            "{'TOKEN': ['.', 'yomthetho', '.'], 'UPOS': ['PUNC', 'POSS', 'PUNC']}\n"
          ]
        }
      ],
      "source": [
        "data = dataset.train_test_split(test_size=0.2)\n",
        "\n",
        "print(f\"There are {len(data['train'])} tokens in the training set.\")\n",
        "print(f\"There are {len(data['test'])} tokens in the testing set.\\n\")\n",
        "\n",
        "print(f\"First 3 training tokens:\\n{data['train'][:3]}\\n\")\n",
        "print(f\"First 3 test tokens:\\n{data['test'][:3]}\")"
      ]
    },
    {
      "cell_type": "markdown",
      "id": "6cf418fb-0f3f-4423-aae6-ba584dfe09ed",
      "metadata": {
        "id": "6cf418fb-0f3f-4423-aae6-ba584dfe09ed"
      },
      "source": [
        "# Most Frequent Class Tagger (Base)"
      ]
    },
    {
      "cell_type": "code",
      "execution_count": null,
      "id": "e63b83e6-da10-417b-8c80-6960cc79469b",
      "metadata": {
        "id": "e63b83e6-da10-417b-8c80-6960cc79469b"
      },
      "outputs": [],
      "source": [
        "\"\"\"A function to map either the tags to the count of words with said tag or\n",
        "the words to the count of tags corresponding to the word.\"\"\"\n",
        "# keys -> list of either tags or words\n",
        "# values -> is a similar, corresponding list\n",
        "def pair_counts(keys, values):\n",
        "    out = defaultdict(Counter)\n",
        "\n",
        "    for key, value in zip(keys, values):\n",
        "        out[key][value] += 1\n",
        "\n",
        "    return {key: dict(value_counts) for key, value_counts in out.items()}"
      ]
    },
    {
      "cell_type": "code",
      "execution_count": null,
      "id": "ca864e85-e5cf-43f5-a621-779343be2041",
      "metadata": {
        "id": "ca864e85-e5cf-43f5-a621-779343be2041",
        "outputId": "e1427059-5f62-4de0-88eb-80f7ef962825",
        "colab": {
          "base_uri": "https://localhost:8080/"
        }
      },
      "outputs": [
        {
          "output_type": "stream",
          "name": "stdout",
          "text": [
            "dict_keys(['PUNC', 'POSS', 'N', 'REL', 'FOR'])\n"
          ]
        }
      ],
      "source": [
        "subset = data['train'].select(range(7))\n",
        "tags = [example['UPOS'] for example in subset]\n",
        "words = (example['TOKEN'] for example in subset)\n",
        "\n",
        "emission_counts = pair_counts(tags, words)\n",
        "print(emission_counts.keys())"
      ]
    },
    {
      "cell_type": "code",
      "execution_count": null,
      "id": "a1ca9a0c-8298-4d64-82f1-11dd6ce27e6b",
      "metadata": {
        "id": "a1ca9a0c-8298-4d64-82f1-11dd6ce27e6b"
      },
      "outputs": [],
      "source": [
        "\"\"\"MFC model class.\n",
        "FakeState is used as the 'states' are actually strings to mimmick a complete tagger like HMM tagger.\n",
        "FakeState has a named field 'name' which could be a Tag or word.\"\"\"\n",
        "FakeState = namedtuple(\"FakeState\", \"name\")\n",
        "\n",
        "class MFCTagger:\n",
        "    missing = FakeState(name=\"<UNK>\")\n",
        "\n",
        "    def __init__(self, table):\n",
        "        self.table = defaultdict(lambda: MFCTagger.missing)\n",
        "        self.table.update({word: FakeState(name=tag) for word, tag in table.items()})\n",
        "\n",
        "    def viterbi(self, seq):\n",
        "        \"\"\"This method simplifies predictions by matching the Pomegranate viterbi() interface\"\"\"\n",
        "        return 0., list(enumerate([\"<s>\"] + [self.table[w] for w in seq] + [\"</s>\"]))"
      ]
    },
    {
      "cell_type": "code",
      "execution_count": null,
      "id": "f3c711e6-960c-4341-86a7-b660ba37568f",
      "metadata": {
        "id": "f3c711e6-960c-4341-86a7-b660ba37568f"
      },
      "outputs": [],
      "source": [
        "train_set = data['train']\n",
        "test_set = data['test']\n",
        "\n",
        "tags = [example['UPOS'] for example in train_set]\n",
        "words = (example['TOKEN'] for example in train_set)\n",
        "\n",
        "word_counts = pair_counts(words, tags)\n",
        "\n",
        "mfc_table = dict()\n",
        "for word, tags in word_counts.items():\n",
        "    mfc_table[word] = max(tags.keys(), key = lambda key: tags[key])\n",
        "\n",
        "mfc_model = MFCTagger(mfc_table) # Create a Most Frequent Class tagger instance"
      ]
    },
    {
      "cell_type": "code",
      "execution_count": null,
      "id": "3b67ecd9-c61d-4ca6-b670-7df910751e08",
      "metadata": {
        "id": "3b67ecd9-c61d-4ca6-b670-7df910751e08",
        "outputId": "0d0a3841-4ab5-46e1-f2ae-744f42a2229b",
        "colab": {
          "base_uri": "https://localhost:8080/"
        }
      },
      "outputs": [
        {
          "output_type": "stream",
          "name": "stdout",
          "text": [
            "['aba-3', 'aba-4', 'ababacabangeli', 'ababamba', 'ababambe', 'ababambi', 'ababambiqhaza', 'ababambisene', 'ababandakanyeka', 'ababandakanyekayo']\n"
          ]
        }
      ],
      "source": [
        "# function that returns the vocab of a given dataset\n",
        "def vocab(data_s):\n",
        "    vocab = set()\n",
        "    for token in data_s['TOKEN']:\n",
        "        vocab.add(token)\n",
        "    return sorted(vocab)\n",
        "\n",
        "vocab_list = vocab(train_set)\n",
        "\n",
        "# show vocab starting from 50 to hide punct\n",
        "print(vocab_list[50:60])"
      ]
    },
    {
      "cell_type": "code",
      "execution_count": null,
      "id": "9b2ae9ed-9583-45c2-a0ab-d0e4e77c8385",
      "metadata": {
        "id": "9b2ae9ed-9583-45c2-a0ab-d0e4e77c8385"
      },
      "outputs": [],
      "source": [
        "def replace_unknown(sequence):\n",
        "    \"\"\"Return a copy of the input sequence where each unknown word is replaced\n",
        "    by the literal string value 'nan'. Pomegranate will ignore these values\n",
        "    during computation.\n",
        "    \"\"\"\n",
        "    return [w if w in vocab(train_set) else 'nan' for w in sequence]\n",
        "\n",
        "def simplify_decoding(observations, model):\n",
        "    \"\"\"observations are the sequences (words) for the model to predict\"\"\"\n",
        "    _, state_path = model.viterbi(replace_unknown(observations))\n",
        "    return [state[1].name for state in state_path[1:-1]]  # do not show the start/end state predictions"
      ]
    },
    {
      "cell_type": "code",
      "execution_count": null,
      "id": "8909f0e1-bd7a-4b25-8954-585ac067c4a4",
      "metadata": {
        "id": "8909f0e1-bd7a-4b25-8954-585ac067c4a4",
        "outputId": "f9397146-ca7e-458b-aadb-78a2c18d5004",
        "colab": {
          "base_uri": "https://localhost:8080/"
        }
      },
      "outputs": [
        {
          "output_type": "stream",
          "name": "stdout",
          "text": [
            "Predicted labels:\n",
            "-----------------\n",
            "['<UNK>', '<UNK>']\n",
            "\n",
            "Actual labels:\n",
            "--------------\n",
            "['PUNC', 'POSS', 'PUNC', 'N', 'N', 'CDEM', 'N', 'N', 'V', 'N']\n",
            "\n",
            "\n"
          ]
        }
      ],
      "source": [
        "print(\"Predicted labels:\\n-----------------\")\n",
        "print(simplify_decoding(test_set[:20], mfc_model))\n",
        "print()\n",
        "print(\"Actual labels:\\n--------------\")\n",
        "print(test_set['UPOS'][:10])\n",
        "print(\"\\n\")"
      ]
    }
  ],
  "metadata": {
    "kernelspec": {
      "display_name": "Python 3 (ipykernel)",
      "language": "python",
      "name": "python3"
    },
    "language_info": {
      "codemirror_mode": {
        "name": "ipython",
        "version": 3
      },
      "file_extension": ".py",
      "mimetype": "text/x-python",
      "name": "python",
      "nbconvert_exporter": "python",
      "pygments_lexer": "ipython3",
      "version": "3.13.0"
    },
    "colab": {
      "provenance": [],
      "include_colab_link": true
    }
  },
  "nbformat": 4,
  "nbformat_minor": 5
}